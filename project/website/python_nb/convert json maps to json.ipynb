{
 "cells": [
  {
   "cell_type": "code",
   "execution_count": 27,
   "metadata": {
    "collapsed": true
   },
   "outputs": [],
   "source": [
    "import json \n",
    "import os\n",
    "from pprint import pprint\n",
    "import seaborn as sns \n",
    "import matplotlib.pyplot as plt"
   ]
  },
  {
   "cell_type": "code",
   "execution_count": 50,
   "metadata": {
    "collapsed": false
   },
   "outputs": [
    {
     "name": "stdout",
     "output_type": "stream",
     "text": [
      "['best_tag_per_country_1920_1950.json', 'best_tag_per_country_1950_1970.json', 'best_tag_per_country_1970_1980.json', 'best_tag_per_country_1980_1990.json', 'best_tag_per_country_1990_2000.json', 'best_tag_per_country_2000_2010.json', 'best_tag_per_country_global.json']\n",
      "['color_per_country_hexed_1920_1950.json', 'color_per_country_hexed_1950_1970.json', 'color_per_country_hexed_1970_1980.json', 'color_per_country_hexed_1980_1990.json', 'color_per_country_hexed_1990_2000.json', 'color_per_country_hexed_2000_2010.json', 'color_per_country_hexed_global.json']\n",
      "['color_per_tag_hexed_1920_1950.json', 'color_per_tag_hexed_1950_1970.json', 'color_per_tag_hexed_1970_1980.json', 'color_per_tag_hexed_1980_1990.json', 'color_per_tag_hexed_1990_2000.json', 'color_per_tag_hexed_2000_2010.json', 'color_per_tag_hexed_global.json']\n",
      "['1920_1950',\n",
      " '1950_1970',\n",
      " '1970_1980',\n",
      " '1980_1990',\n",
      " '1990_2000',\n",
      " '2000_2010',\n",
      " 'global']\n",
      "['1920 - 1950',\n",
      " '1950 - 1970',\n",
      " '1970 - 1980',\n",
      " '1980 - 1990',\n",
      " '1990 - 2000',\n",
      " '2000 - 2010',\n",
      " 'global']\n"
     ]
    }
   ],
   "source": [
    "prefix_country = \"color_per_country_hexed_\"\n",
    "prefix_country_tag = \"best_tag_per_country\"\n",
    "prefix_legend = \"color_per_tag_hexed_\"\n",
    "suffix = \"\"\n",
    "extension = \".json\"\n",
    "\n",
    "\n",
    "filelist_countries = []\n",
    "filelist_legend = []\n",
    "filelist_countries_tag = []\n",
    "\n",
    "for dirs, subdirs, files in os.walk('../maps_wrong'):\n",
    "    for file in files : \n",
    "        if(prefix_country in file):\n",
    "            filelist_countries.append(file)\n",
    "        if(prefix_legend in file):\n",
    "            filelist_legend.append(file)\n",
    "        if(prefix_country_tag in file):\n",
    "            filelist_countries_tag.append(file)\n",
    "print(filelist_countries_tag)\n",
    "print(filelist_countries)\n",
    "print(filelist_legend)\n",
    "\n",
    "def getDates(filename):\n",
    "    result = filename.replace(prefix_country, '')\n",
    "    result = result.replace(suffix+extension, '')\n",
    "    return(result)\n",
    "\n",
    "def getTitles(filename):\n",
    "    result = filename.replace(prefix_country, '')\n",
    "    result = result.replace(suffix+extension, '')\n",
    "    if(\"global\" not in result):\n",
    "        result = \" - \".join(result.split(\"_\"))\n",
    "    return(result)\n",
    "\n",
    "file_list = [getDates(x) for x in filelist_countries]\n",
    "file_title = [getTitles(x) for x in filelist_countries]\n",
    "\n",
    "pprint(file_list)\n",
    "pprint(file_title)\n",
    "\n",
    "    "
   ]
  },
  {
   "cell_type": "code",
   "execution_count": 3,
   "metadata": {
    "collapsed": false
   },
   "outputs": [
    {
     "name": "stdout",
     "output_type": "stream",
     "text": [
      "{'data': [{'country_json': 'color_per_country_hexed_1920_1950.json',\n",
      "           'legend_json': 'color_per_tag_hexed_1920_1950.json',\n",
      "           'title': '1920 - 1950'},\n",
      "          {'country_json': 'color_per_country_hexed_1950_1970.json',\n",
      "           'legend_json': 'color_per_tag_hexed_1950_1970.json',\n",
      "           'title': '1950 - 1970'},\n",
      "          {'country_json': 'color_per_country_hexed_1970_1980.json',\n",
      "           'legend_json': 'color_per_tag_hexed_1970_1980.json',\n",
      "           'title': '1970 - 1980'},\n",
      "          {'country_json': 'color_per_country_hexed_1980_1990.json',\n",
      "           'legend_json': 'color_per_tag_hexed_1980_1990.json',\n",
      "           'title': '1980 - 1990'},\n",
      "          {'country_json': 'color_per_country_hexed_1990_2000.json',\n",
      "           'legend_json': 'color_per_tag_hexed_1990_2000.json',\n",
      "           'title': '1990 - 2000'},\n",
      "          {'country_json': 'color_per_country_hexed_2000_2010.json',\n",
      "           'legend_json': 'color_per_tag_hexed_2000_2010.json',\n",
      "           'title': '2000 - 2010'},\n",
      "          {'country_json': 'color_per_country_hexed_global.json',\n",
      "           'legend_json': 'color_per_tag_hexed_global.json',\n",
      "           'title': 'global'}]}\n"
     ]
    }
   ],
   "source": [
    "dataset_list = []\n",
    "dataset_dict = {}\n",
    "for index in range(0, len(filelist_countries)):\n",
    "    country_json = filelist_countries[index]\n",
    "    legend_json = filelist_legend[index]\n",
    "    title = file_title[index]\n",
    "    combo_dict = {\"country_json\" : country_json,\n",
    "                 \"legend_json\" : legend_json,\n",
    "                 \"title\" : title}\n",
    "    dataset_list.append(combo_dict)\n",
    "#     print(combo_dict)\n",
    "# pprint(dataset_list)\n",
    "dataset_dict['data'] = dataset_list\n",
    "pprint(dataset_dict)\n",
    "with open(\"../maps/dataset_index.json\", 'w') as fp:\n",
    "    json.dump(dataset_dict, fp)"
   ]
  },
  {
   "cell_type": "markdown",
   "metadata": {},
   "source": [
    "# Countries and colors"
   ]
  },
  {
   "cell_type": "code",
   "execution_count": 4,
   "metadata": {
    "collapsed": true,
    "scrolled": true
   },
   "outputs": [],
   "source": [
    "for filename in filelist_countries:\n",
    "    file_path = '../maps_wrong/' + filename\n",
    "    file_result = '../maps/' + filename\n",
    "    file = open(file_path, \"r\")\n",
    "    json_content = json.load(file)\n",
    "    result_dict = {}\n",
    "    result_list = []\n",
    "    for key, value in json_content.items():\n",
    "#         print(key, value)\n",
    "        temp_dict = {'country' : key,\n",
    "                    'color' : value}\n",
    "        result_list.append(temp_dict)\n",
    "    result_dict['features'] = result_list\n",
    "    with open(file_result, 'w') as fp:\n",
    "        json.dump(result_dict, fp)"
   ]
  },
  {
   "cell_type": "markdown",
   "metadata": {},
   "source": [
    "# Legend"
   ]
  },
  {
   "cell_type": "code",
   "execution_count": 9,
   "metadata": {
    "collapsed": false
   },
   "outputs": [],
   "source": [
    "dict_tag = {}\n",
    "color_list = []\n",
    "\n",
    "for filename in filelist_legend:\n",
    "    file_path = '../maps_wrong/' + filename\n",
    "    file_result = '../maps/' + filename\n",
    "    file = open(file_path, \"r\")\n",
    "    json_content = json.load(file)\n",
    "    result_dict = {}\n",
    "    result_list = []\n",
    "    for key, value in json_content.items():\n",
    "#         print(key, value)\n",
    "        temp_dict = {'tag' : key,\n",
    "                    'color' : value}\n",
    "        if(key not in dict_tag):\n",
    "            dict_tag[key] = 1\n",
    "        else:\n",
    "            dict_tag[key] += 1\n",
    "        if(value not in color_list):\n",
    "            color_list.append(value)\n",
    "        result_list.append(temp_dict)\n",
    "    result_dict['features'] = result_list\n",
    "#     with open(file_result, 'w') as fp:\n",
    "#         json.dump(result_dict, fp)"
   ]
  },
  {
   "cell_type": "code",
   "execution_count": 14,
   "metadata": {
    "collapsed": false,
    "scrolled": true
   },
   "outputs": [
    {
     "data": {
      "text/plain": [
       "[('00s', 5),\n",
       " ('70s', 1),\n",
       " ('acoustic', 2),\n",
       " ('african', 3),\n",
       " ('alternative', 6),\n",
       " ('alternative rock', 6),\n",
       " ('ambient', 1),\n",
       " ('beautiful', 1),\n",
       " ('big band', 4),\n",
       " ('blues', 2),\n",
       " ('blues-rock', 1),\n",
       " ('bossa nova', 3),\n",
       " ('brazilian pop music', 1),\n",
       " ('caribbean', 1),\n",
       " ('classic', 2),\n",
       " ('classic rock', 1),\n",
       " ('composer', 2),\n",
       " ('country', 1),\n",
       " ('cumbia', 1),\n",
       " ('dancehall', 1),\n",
       " ('disco', 2),\n",
       " ('downtempo', 1),\n",
       " ('ebm', 4),\n",
       " ('electronic', 5),\n",
       " ('electronica', 1),\n",
       " ('european', 1),\n",
       " ('film music', 1),\n",
       " ('folk', 1),\n",
       " ('french', 2),\n",
       " ('fusion', 1),\n",
       " ('garage rock', 2),\n",
       " ('german', 5),\n",
       " ('german pop', 1),\n",
       " ('guitar virtuoso', 3),\n",
       " ('hard house', 1),\n",
       " ('hardcore', 3),\n",
       " ('harmonica blues', 1),\n",
       " ('house', 1),\n",
       " ('instrumental', 1),\n",
       " ('intelligent dance music', 1),\n",
       " ('island music', 1),\n",
       " ('jazz', 4),\n",
       " ('jazz rock', 2),\n",
       " ('latin', 5),\n",
       " ('latin pop', 3),\n",
       " ('latino', 2),\n",
       " ('melodic', 2),\n",
       " ('metal', 2),\n",
       " ('mondiovision', 2),\n",
       " ('new wave', 5),\n",
       " ('oldies', 1),\n",
       " ('pop', 6),\n",
       " ('pop rap', 2),\n",
       " ('praise & worship', 1),\n",
       " ('psychedelic rock', 3),\n",
       " ('psychobilly', 1),\n",
       " ('r&b', 3),\n",
       " ('raga', 2),\n",
       " ('reggae', 3),\n",
       " ('religious music', 1),\n",
       " ('retro', 2),\n",
       " ('rock', 6),\n",
       " ('saxophone', 1),\n",
       " ('sexy', 3),\n",
       " ('singer-songwriter', 1),\n",
       " ('smooth jazz', 2),\n",
       " ('soul', 6),\n",
       " ('southern soul', 1),\n",
       " ('spanish', 2),\n",
       " ('techno', 4),\n",
       " ('trance', 3),\n",
       " ('tribal', 1),\n",
       " ('tribal house', 2),\n",
       " ('trip hop', 2),\n",
       " ('underground', 1),\n",
       " ('underground rap', 1),\n",
       " ('vocal', 1),\n",
       " ('world', 2),\n",
       " ('world music', 1),\n",
       " ('world reggae', 2)]"
      ]
     },
     "execution_count": 14,
     "metadata": {},
     "output_type": "execute_result"
    }
   ],
   "source": [
    "sorted(dict_tag.items())"
   ]
  },
  {
   "cell_type": "code",
   "execution_count": 59,
   "metadata": {
    "collapsed": false
   },
   "outputs": [
    {
     "data": {
      "image/png": "[encoded data removed]",
      "text/plain": [
       "<matplotlib.figure.Figure at 0x20f9df12278>"
      ]
     },
     "metadata": {},
     "output_type": "display_data"
    },
    {
     "name": "stdout",
     "output_type": "stream",
     "text": [
      "['#850096', '#0000c9', '#0085dd', '#00aaa0', '#009c00', '#00da00', '#84ff00', '#f8da00', '#ff5d00', '#da0000']\n"
     ]
    },
    {
     "data": {
      "image/png": "[encoded data removed]",
      "text/plain": [
       "<matplotlib.figure.Figure at 0x20f9deacc18>"
      ]
     },
     "metadata": {},
     "output_type": "display_data"
    }
   ],
   "source": [
    "palette_10 = sns.color_palette(\"nipy_spectral\", 10).as_hex()\n",
    "palette_global = sns.color_palette(\"nipy_spectral\", 106).as_hex()\n",
    "\n",
    "# palette = sns.color_palette(\"nipy_spectral\", 45).as_hex()\n",
    "sns.palplot(palette_10)\n",
    "plt.show()\n",
    "print(palette_10.as_hex())\n",
    "sns.palplot(palette_global)\n",
    "plt.show()"
   ]
  },
  {
   "cell_type": "code",
   "execution_count": 49,
   "metadata": {
    "collapsed": false,
    "scrolled": false
   },
   "outputs": [
    {
     "name": "stdout",
     "output_type": "stream",
     "text": [
      "[{'color': '#850096', 'tag': 'soul'},\n",
      " {'color': '#0000c9', 'tag': 'alternative rock'},\n",
      " {'color': '#0085dd', 'tag': 'latin'},\n",
      " {'color': '#00aaa0', 'tag': 'german'},\n",
      " {'color': '#009c00', 'tag': 'new wave'},\n",
      " {'color': '#00da00', 'tag': 'pop'},\n",
      " {'color': '#84ff00', 'tag': 'rock'},\n",
      " {'color': '#f8da00', 'tag': 'alternative'},\n",
      " {'color': '#ff5d00', 'tag': '00s'},\n",
      " {'color': '#da0000', 'tag': 'electronic'},\n",
      " {'color': '#ccacac', 'tag': 'blues'},\n",
      " {'color': '#cc7c7c', 'tag': 'big band'},\n",
      " {'color': '#cc4c4c', 'tag': 'classic'},\n",
      " {'color': '#cc1c1c', 'tag': 'guitar virtuoso'},\n",
      " {'color': '#ce0000', 'tag': 'composer'},\n",
      " {'color': '#d00000', 'tag': 'smooth jazz'},\n",
      " {'color': '#d40000', 'tag': 'jazz'},\n",
      " {'color': '#d80000', 'tag': 'latin pop'},\n",
      " {'color': '#dc0000', 'tag': 'mondiovision'},\n",
      " {'color': '#e40000', 'tag': 'psychedelic rock'},\n",
      " {'color': '#e90000', 'tag': 'vocal'},\n",
      " {'color': '#f10000', 'tag': 'sexy'},\n",
      " {'color': '#f90000', 'tag': 'folk'},\n",
      " {'color': '#ff0900', 'tag': 'southern soul'},\n",
      " {'color': '#ff2d00', 'tag': 'raga'},\n",
      " {'color': '#ff5100', 'tag': 'garage rock'},\n",
      " {'color': '#ff6900', 'tag': 'ebm'},\n",
      " {'color': '#ff8d00', 'tag': 'brazilian pop music'},\n",
      " {'color': '#ffa100', 'tag': '70s'},\n",
      " {'color': '#ffad00', 'tag': 'fusion'},\n",
      " {'color': '#ffb900', 'tag': 'latino'},\n",
      " {'color': '#ffc100', 'tag': 'classic rock'},\n",
      " {'color': '#ffcd00', 'tag': 'bossa nova'},\n",
      " {'color': '#fbd500', 'tag': 'oldies'},\n",
      " {'color': '#f7dd00', 'tag': 'instrumental'},\n",
      " {'color': '#f3e500', 'tag': 'techno'},\n",
      " {'color': '#f0ea00', 'tag': 'singer-songwriter'},\n",
      " {'color': '#e8f000', 'tag': 'hardcore'},\n",
      " {'color': '#dcf400', 'tag': 'harmonica blues'},\n",
      " {'color': '#d0f800', 'tag': 'metal'},\n",
      " {'color': '#c4fc00', 'tag': 'cumbia'},\n",
      " {'color': '#b0ff00', 'tag': 'film music'},\n",
      " {'color': '#93ff00', 'tag': 'reggae'},\n",
      " {'color': '#67ff00', 'tag': 'spanish'},\n",
      " {'color': '#3bff00', 'tag': 'trance'},\n",
      " {'color': '#0fff00', 'tag': 'r&b'},\n",
      " {'color': '#00fa00', 'tag': 'blues-rock'},\n",
      " {'color': '#00f400', 'tag': 'praise & worship'},\n",
      " {'color': '#00ec00', 'tag': 'melodic'},\n",
      " {'color': '#00e400', 'tag': 'intelligent dance music'},\n",
      " {'color': '#00dc00', 'tag': 'african'},\n",
      " {'color': '#00d400', 'tag': 'german pop'},\n",
      " {'color': '#00cf00', 'tag': 'world reggae'},\n",
      " {'color': '#00c700', 'tag': 'downtempo'},\n",
      " {'color': '#00bf00', 'tag': 'hard house'},\n",
      " {'color': '#00b700', 'tag': 'country'},\n",
      " {'color': '#00af00', 'tag': 'psychobilly'},\n",
      " {'color': '#00a700', 'tag': 'beautiful'},\n",
      " {'color': '#00a200', 'tag': 'underground rap'},\n",
      " {'color': '#009a00', 'tag': 'trip hop'},\n",
      " {'color': '#009d1d', 'tag': 'world'},\n",
      " {'color': '#00a13d', 'tag': 'tribal house'},\n",
      " {'color': '#00a55d', 'tag': 'retro'},\n",
      " {'color': '#00a773', 'tag': 'house'},\n",
      " {'color': '#00aa8b', 'tag': 'underground'},\n",
      " {'color': '#00aa93', 'tag': 'european'},\n",
      " {'color': '#00aa9b', 'tag': 'pop rap'},\n",
      " {'color': '#00aaa3', 'tag': 'french'},\n",
      " {'color': '#00aaa8', 'tag': 'world music'},\n",
      " {'color': '#00a7b3', 'tag': 'jazz rock'},\n",
      " {'color': '#00a3bf', 'tag': 'disco'},\n",
      " {'color': '#009fcb', 'tag': 'acoustic'},\n",
      " {'color': '#009bd7', 'tag': 'ambient'},\n",
      " {'color': '#0095dd', 'tag': 'religious music'},\n",
      " {'color': '#0090dd', 'tag': 'caribbean'},\n",
      " {'color': '#0088dd', 'tag': 'electronica'},\n",
      " {'color': '#0080dd', 'tag': 'island music'},\n",
      " {'color': '#0078dd', 'tag': 'dancehall'},\n",
      " {'color': '#005ddd', 'tag': 'tribal'},\n",
      " {'color': '#004bdd', 'tag': 'saxophone'}]\n"
     ]
    }
   ],
   "source": [
    "palette_10 = sns.color_palette(\"nipy_spectral\", 10).as_hex()\n",
    "palette_global = sns.color_palette(\"nipy_spectral\", 90).as_hex()\n",
    "\n",
    "list_dict_tag = []\n",
    "list_color_legend = []\n",
    "list_dict_tag_rest = []\n",
    "\n",
    "i = 0\n",
    "for key, value in dict_tag.items():\n",
    "    list_dict_tag.append({'tag' : key,\n",
    "                         'count' : value \n",
    "                          })\n",
    "    if(value >= 5):\n",
    "        list_color_legend.append({'tag': key,\n",
    "                                 'color': palette_10[i]})\n",
    "        i += 1\n",
    "    else:\n",
    "        list_dict_tag_rest.append({'tag' : key,\n",
    "                     'count' : value \n",
    "                      })\n",
    "\n",
    "\n",
    "# pprint(list_color_legend)\n",
    "# sorted_list_dict_tag = sorted(list_dict_tag, key=lambda k: k['count'], reverse = True) \n",
    "# print(len(sorted_list_dict_tag))\n",
    "# pprint(sorted_list_dict_tag)\n",
    "# pprint(list_dict_tag_rest)\n",
    "for tag_data in list_dict_tag_rest:\n",
    "    tag = tag_data['tag']\n",
    "    potential_color = palette_global.pop()\n",
    "    while(potential_color in palette_10):\n",
    "        print(\"retry color\")\n",
    "        potential_color = palette_global.pop()\n",
    "    list_color_legend.append({'tag' : tag, \n",
    "                             'color' : potential_color})\n",
    "pprint(list_color_legend)"
   ]
  },
  {
   "cell_type": "markdown",
   "metadata": {},
   "source": [
    "## Create lookup table for color"
   ]
  },
  {
   "cell_type": "code",
   "execution_count": 53,
   "metadata": {
    "collapsed": false
   },
   "outputs": [],
   "source": [
    "color_lookup_table = {}\n",
    "for tag_data in list_color_legend:\n",
    "    color_lookup_table[tag_data['tag']] = tag_data['color']\n",
    "# color_lookup_table    "
   ]
  },
  {
   "cell_type": "code",
   "execution_count": 7,
   "metadata": {
    "collapsed": false
   },
   "outputs": [
    {
     "data": {
      "text/plain": [
       "['color_per_tag_hexed_1920_1950.json',\n",
       " 'color_per_tag_hexed_1950_1970.json',\n",
       " 'color_per_tag_hexed_1970_1980.json',\n",
       " 'color_per_tag_hexed_1980_1990.json',\n",
       " 'color_per_tag_hexed_1990_2000.json',\n",
       " 'color_per_tag_hexed_2000_2010.json',\n",
       " 'color_per_tag_hexed_global.json']"
      ]
     },
     "execution_count": 7,
     "metadata": {},
     "output_type": "execute_result"
    }
   ],
   "source": [
    "filelist_legend"
   ]
  },
  {
   "cell_type": "code",
   "execution_count": 6,
   "metadata": {
    "collapsed": false
   },
   "outputs": [
    {
     "name": "stdout",
     "output_type": "stream",
     "text": [
      "80\n"
     ]
    }
   ],
   "source": [
    "pprint(len(color_list))"
   ]
  },
  {
   "cell_type": "markdown",
   "metadata": {},
   "source": [
    "# Load best tag per country and change with new colors "
   ]
  },
  {
   "cell_type": "code",
   "execution_count": 58,
   "metadata": {
    "collapsed": false
   },
   "outputs": [
    {
     "name": "stdout",
     "output_type": "stream",
     "text": [
      "96\n"
     ]
    }
   ],
   "source": [
    "list_tag_new = []\n",
    "\n",
    "for filename in filelist_countries_tag:\n",
    "    file_path = '../maps_wrong/' + filename\n",
    "    file_result = '../maps/' + filename\n",
    "    file = open(file_path, \"r\")\n",
    "    json_content = json.load(file)\n",
    "    result_dict = {}\n",
    "    result_list = []\n",
    "    for key, value in json_content.items():\n",
    "#         print(key, value)\n",
    "        if(value not in list_tag_new):\n",
    "            list_tag_new.append(value)\n",
    "        temp_dict = {'country' : key,\n",
    "                    'color' : value}\n",
    "        result_list.append(temp_dict)\n",
    "    result_dict['features'] = result_list\n",
    "#     pprint(result_dict)\n",
    "#     with open(file_result, 'w') as fp:\n",
    "#         json.dump(result_dict, fp)\n",
    "print(len(list_tag_new))"
   ]
  },
  {
   "cell_type": "markdown",
   "metadata": {},
   "source": [
    "# Load legend files and change with new colors "
   ]
  },
  {
   "cell_type": "code",
   "execution_count": null,
   "metadata": {
    "collapsed": true
   },
   "outputs": [],
   "source": []
  }
 ],
 "metadata": {
  "kernelspec": {
   "display_name": "Python 3",
   "language": "python",
   "name": "python3"
  },
  "language_info": {
   "codemirror_mode": {
    "name": "ipython",
    "version": 3
   },
   "file_extension": ".py",
   "mimetype": "text/x-python",
   "name": "python",
   "nbconvert_exporter": "python",
   "pygments_lexer": "ipython3",
   "version": "3.6.0"
  }
 },
 "nbformat": 4,
 "nbformat_minor": 2
}
