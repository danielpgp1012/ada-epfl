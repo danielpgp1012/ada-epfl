{
 "cells": [
  {
   "cell_type": "code",
   "execution_count": 3,
   "metadata": {
    "collapsed": true
   },
   "outputs": [],
   "source": [
    "import os\n",
    "import json \n",
    "from pprint import pprint\n",
    "import matplotlib.pyplot as plt\n",
    "import seaborn as sns"
   ]
  },
  {
   "cell_type": "markdown",
   "metadata": {},
   "source": [
    "# Open json"
   ]
  },
  {
   "cell_type": "code",
   "execution_count": 4,
   "metadata": {
    "collapsed": false
   },
   "outputs": [],
   "source": [
    "filename = '../best_tags_per_time_period.json'\n",
    "file = open(filename, 'r')\n",
    "json_content = json.load(file)"
   ]
  },
  {
   "cell_type": "code",
   "execution_count": 5,
   "metadata": {
    "collapsed": false
   },
   "outputs": [
    {
     "name": "stdout",
     "output_type": "stream",
     "text": [
      "['1920-1950',\n",
      " '1950-1970',\n",
      " '1970-1980',\n",
      " '1980-1990',\n",
      " '1990-2000',\n",
      " '2000-2010',\n",
      " 'all_time']\n",
      "{'1920-1950': [['jazz', 0.18073394495412845],\n",
      "               ['blues', 0.17889908256880735],\n",
      "               ['rock', 0.1518348623853211],\n",
      "               ['folk', 0.13211009174311927],\n",
      "               ['american', 0.12201834862385322],\n",
      "               ['swing', 0.12110091743119267],\n",
      "               ['country', 0.11330275229357799]],\n",
      " '1950-1970': [['rock', 0.1853823689039361],\n",
      "               ['pop', 0.1636213268549867],\n",
      "               ['jazz', 0.1457886439407645],\n",
      "               ['blues', 0.13769932545938543],\n",
      "               ['soul', 0.13030780761378027],\n",
      "               ['classic rock', 0.12022846509704598],\n",
      "               ['60s', 0.11697206213010106]],\n",
      " '1970-1980': [['rock', 0.20671043034281547],\n",
      "               ['pop', 0.1761305616338439],\n",
      "               ['electronic', 0.13862144420131292],\n",
      "               ['classic rock', 0.13054339897884756],\n",
      "               ['jazz', 0.12791757840991977],\n",
      "               ['pop rock', 0.112454412837345],\n",
      "               ['70s', 0.10762217359591539]],\n",
      " '1980-1990': [['rock', 0.21498778111509437],\n",
      "               ['pop', 0.17400338037873161],\n",
      "               ['electronic', 0.14877972634004027],\n",
      "               ['80s', 0.11815177254572662],\n",
      "               ['pop rock', 0.11716134310844126],\n",
      "               ['jazz', 0.11380249545156046],\n",
      "               ['alternative rock', 0.11311350106040544]],\n",
      " '1990-2000': [['rock', 0.22787643938993069],\n",
      "               ['pop', 0.16525356463975058],\n",
      "               ['electronic', 0.16491979306162155],\n",
      "               ['alternative rock', 0.12459041749939961],\n",
      "               ['jazz', 0.1098067788193441],\n",
      "               ['hip hop', 0.10555729677584796],\n",
      "               ['alternative', 0.10199570981410551]],\n",
      " '2000-2010': [['rock', 0.23036545468515576],\n",
      "               ['electronic', 0.16648873144317597],\n",
      "               ['pop', 0.16050970353565377],\n",
      "               ['alternative rock', 0.1214812298559129],\n",
      "               ['alternative', 0.1145538880868324],\n",
      "               ['indie', 0.1099882320113555],\n",
      "               ['hip hop', 0.09661276038191369]],\n",
      " 'all_time': [['rock', 0.23367101673340848],\n",
      "              ['pop', 0.17045865458783332],\n",
      "              ['electronic', 0.16630301049098623],\n",
      "              ['alternative rock', 0.12068608430180813],\n",
      "              ['alternative', 0.10719703372990329],\n",
      "              ['jazz', 0.10298317479118224],\n",
      "              ['hip hop', 0.09870102536487832]]}\n"
     ]
    }
   ],
   "source": [
    "pprint(sorted(json_content))\n",
    "pprint(json_content)"
   ]
  },
  {
   "cell_type": "markdown",
   "metadata": {},
   "source": [
    "# Create dictionary "
   ]
  },
  {
   "cell_type": "code",
   "execution_count": 13,
   "metadata": {
    "collapsed": false
   },
   "outputs": [
    {
     "name": "stdout",
     "output_type": "stream",
     "text": [
      "1920-1950\n",
      "1950-1970\n",
      "1990-2000\n",
      "1970-1980\n",
      "all_time\n",
      "2000-2010\n",
      "1980-1990\n"
     ]
    }
   ],
   "source": [
    "global_dict = {}\n",
    "global_list = []\n",
    "for period, data_period in json_content.items():\n",
    "    print(period)\n",
    "    period_list = []\n",
    "    for tag_data in data_period:\n",
    "        tag = tag_data[0]\n",
    "        value = tag_data[1]\n",
    "        tag_dict = {\"tag\": tag,\n",
    "                   \"value\" : value}\n",
    "        period_list.append(tag_dict)\n",
    "    period_dict = {\"period\" : period,\n",
    "                  \"period_data\" : period_list}\n",
    "    global_list.append(period_dict)\n",
    "global_dict = {\"level\" : \"top\",\n",
    "               \"features\" : global_list}\n",
    "with open(\"../stacked_plot_data.json\", 'w') as fp:\n",
    "    json.dump(global_dict, fp)"
   ]
  },
  {
   "cell_type": "markdown",
   "metadata": {},
   "source": [
    "# Create legend "
   ]
  },
  {
   "cell_type": "code",
   "execution_count": 9,
   "metadata": {
    "collapsed": false
   },
   "outputs": [
    {
     "data": {
      "image/png": "[encoded data removed]",
      "text/plain": [
       "<matplotlib.figure.Figure at 0x2a572a040b8>"
      ]
     },
     "metadata": {},
     "output_type": "display_data"
    },
    {
     "name": "stdout",
     "output_type": "stream",
     "text": [
      "['#f77189', '#f7754f', '#dc8932', '#c39532', '#ae9d31', '#97a431', '#77ab31', '#31b33e', '#33b07a', '#35ae93', '#36ada4', '#37abb4', '#38a9c5', '#3aa5df', '#6e9bf4', '#a48cf4', '#cc7af4', '#f45cf2', '#f565cc', '#f66bad']\n"
     ]
    }
   ],
   "source": [
    "palette = sns.color_palette(\"husl\", 20).as_hex()\n",
    "# palette = sns.color_palette(\"nipy_spectral\", 45).as_hex()\n",
    "sns.palplot(palette)\n",
    "plt.show()\n",
    "print(palette.as_hex())"
   ]
  },
  {
   "cell_type": "code",
   "execution_count": 11,
   "metadata": {
    "collapsed": false
   },
   "outputs": [
    {
     "name": "stdout",
     "output_type": "stream",
     "text": [
      "{'features': [{'color': '#f77189', 'tag': 'jazz'},\n",
      "              {'color': '#f7754f', 'tag': 'blues'},\n",
      "              {'color': '#dc8932', 'tag': 'rock'},\n",
      "              {'color': '#c39532', 'tag': 'folk'},\n",
      "              {'color': '#ae9d31', 'tag': 'american'},\n",
      "              {'color': '#97a431', 'tag': 'swing'},\n",
      "              {'color': '#77ab31', 'tag': 'country'},\n",
      "              {'color': '#31b33e', 'tag': 'pop'},\n",
      "              {'color': '#33b07a', 'tag': 'soul'},\n",
      "              {'color': '#35ae93', 'tag': 'classic rock'},\n",
      "              {'color': '#36ada4', 'tag': '60s'},\n",
      "              {'color': '#37abb4', 'tag': 'electronic'},\n",
      "              {'color': '#38a9c5', 'tag': 'alternative rock'},\n",
      "              {'color': '#3aa5df', 'tag': 'hip hop'},\n",
      "              {'color': '#6e9bf4', 'tag': 'alternative'},\n",
      "              {'color': '#a48cf4', 'tag': 'pop rock'},\n",
      "              {'color': '#cc7af4', 'tag': '70s'},\n",
      "              {'color': '#f45cf2', 'tag': 'indie'},\n",
      "              {'color': '#f565cc', 'tag': '80s'}]}\n",
      "19\n"
     ]
    }
   ],
   "source": [
    "tag_list = []\n",
    "for period_data in global_dict[\"features\"]:\n",
    "    for tag_data in period_data[\"period_data\"]:\n",
    "        if(tag_data[\"tag\"] not in tag_list):\n",
    "            tag_list.append(tag_data[\"tag\"])\n",
    "            \n",
    "legend_list = []\n",
    "i = 0\n",
    "for tag in tag_list:\n",
    "    tag_data = {\"tag\": tag, \n",
    "               \"color\" :palette[i]}\n",
    "    legend_list.append(tag_data)\n",
    "    i+=1\n",
    "legend_dict ={\"features\" : legend_list}\n",
    "pprint(legend_dict)\n",
    "print(len(tag_list))\n",
    "with open(\"../stacked_plot_legend.json\", 'w') as fp:\n",
    "    json.dump(legend_dict, fp)"
   ]
  },
  {
   "cell_type": "code",
   "execution_count": 12,
   "metadata": {
    "collapsed": false
   },
   "outputs": [
    {
     "name": "stdout",
     "output_type": "stream",
     "text": [
      "{'features': [{'period': '1920-1950',\n",
      "               'period_data': [{'tag': 'jazz', 'value': 0.18073394495412845},\n",
      "                               {'tag': 'blues', 'value': 0.17889908256880735},\n",
      "                               {'tag': 'rock', 'value': 0.1518348623853211},\n",
      "                               {'tag': 'folk', 'value': 0.13211009174311927},\n",
      "                               {'tag': 'american',\n",
      "                                'value': 0.12201834862385322},\n",
      "                               {'tag': 'swing', 'value': 0.12110091743119267},\n",
      "                               {'tag': 'country',\n",
      "                                'value': 0.11330275229357799}]},\n",
      "              {'period': '1950-1970',\n",
      "               'period_data': [{'tag': 'rock', 'value': 0.1853823689039361},\n",
      "                               {'tag': 'pop', 'value': 0.1636213268549867},\n",
      "                               {'tag': 'jazz', 'value': 0.1457886439407645},\n",
      "                               {'tag': 'blues', 'value': 0.13769932545938543},\n",
      "                               {'tag': 'soul', 'value': 0.13030780761378027},\n",
      "                               {'tag': 'classic rock',\n",
      "                                'value': 0.12022846509704598},\n",
      "                               {'tag': '60s', 'value': 0.11697206213010106}]},\n",
      "              {'period': '1990-2000',\n",
      "               'period_data': [{'tag': 'rock', 'value': 0.22787643938993069},\n",
      "                               {'tag': 'pop', 'value': 0.16525356463975058},\n",
      "                               {'tag': 'electronic',\n",
      "                                'value': 0.16491979306162155},\n",
      "                               {'tag': 'alternative rock',\n",
      "                                'value': 0.12459041749939961},\n",
      "                               {'tag': 'jazz', 'value': 0.1098067788193441},\n",
      "                               {'tag': 'hip hop', 'value': 0.10555729677584796},\n",
      "                               {'tag': 'alternative',\n",
      "                                'value': 0.10199570981410551}]},\n",
      "              {'period': '1970-1980',\n",
      "               'period_data': [{'tag': 'rock', 'value': 0.20671043034281547},\n",
      "                               {'tag': 'pop', 'value': 0.1761305616338439},\n",
      "                               {'tag': 'electronic',\n",
      "                                'value': 0.13862144420131292},\n",
      "                               {'tag': 'classic rock',\n",
      "                                'value': 0.13054339897884756},\n",
      "                               {'tag': 'jazz', 'value': 0.12791757840991977},\n",
      "                               {'tag': 'pop rock', 'value': 0.112454412837345},\n",
      "                               {'tag': '70s', 'value': 0.10762217359591539}]},\n",
      "              {'period': 'all_time',\n",
      "               'period_data': [{'tag': 'rock', 'value': 0.23367101673340848},\n",
      "                               {'tag': 'pop', 'value': 0.17045865458783332},\n",
      "                               {'tag': 'electronic',\n",
      "                                'value': 0.16630301049098623},\n",
      "                               {'tag': 'alternative rock',\n",
      "                                'value': 0.12068608430180813},\n",
      "                               {'tag': 'alternative',\n",
      "                                'value': 0.10719703372990329},\n",
      "                               {'tag': 'jazz', 'value': 0.10298317479118224},\n",
      "                               {'tag': 'hip hop',\n",
      "                                'value': 0.09870102536487832}]},\n",
      "              {'period': '2000-2010',\n",
      "               'period_data': [{'tag': 'rock', 'value': 0.23036545468515576},\n",
      "                               {'tag': 'electronic',\n",
      "                                'value': 0.16648873144317597},\n",
      "                               {'tag': 'pop', 'value': 0.16050970353565377},\n",
      "                               {'tag': 'alternative rock',\n",
      "                                'value': 0.1214812298559129},\n",
      "                               {'tag': 'alternative',\n",
      "                                'value': 0.1145538880868324},\n",
      "                               {'tag': 'indie', 'value': 0.1099882320113555},\n",
      "                               {'tag': 'hip hop',\n",
      "                                'value': 0.09661276038191369}]},\n",
      "              {'period': '1980-1990',\n",
      "               'period_data': [{'tag': 'rock', 'value': 0.21498778111509437},\n",
      "                               {'tag': 'pop', 'value': 0.17400338037873161},\n",
      "                               {'tag': 'electronic',\n",
      "                                'value': 0.14877972634004027},\n",
      "                               {'tag': '80s', 'value': 0.11815177254572662},\n",
      "                               {'tag': 'pop rock',\n",
      "                                'value': 0.11716134310844126},\n",
      "                               {'tag': 'jazz', 'value': 0.11380249545156046},\n",
      "                               {'tag': 'alternative rock',\n",
      "                                'value': 0.11311350106040544}]}],\n",
      " 'level': 'top'}\n"
     ]
    }
   ],
   "source": [
    "pprint(global_dict)"
   ]
  }
 ],
 "metadata": {
  "kernelspec": {
   "display_name": "Python 3",
   "language": "python",
   "name": "python3"
  }
 },
 "nbformat": 4,
 "nbformat_minor": 2
}
