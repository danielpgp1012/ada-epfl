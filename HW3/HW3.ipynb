{
 "cells": [
  {
   "cell_type": "markdown",
   "metadata": {},
   "source": [
    "# 03 - Interactive Viz\n",
    "\n",
    "## Deadline\n",
    "\n",
    "Wednesday November 8th, 2017 at 11:59PM\n",
    "\n",
    "## Important Notes\n",
    "\n",
    "- Make sure you push on GitHub your Notebook with all the cells already evaluated\n",
    "- Note that maps do not render in a standard Github environment : you should export them to HTML and link them in your notebook.\n",
    "- Remember that `.csv` is not the only data format. Though they might require additional processing, some formats provide better encoding support.\n",
    "- Don't forget to add a textual description of your thought process, the assumptions you made, and the solution you plan to implement!\n",
    "- Please write all your comments in English, and use meaningful variable names in your code\n",
    "\n",
    "## Background\n",
    "\n",
    "In this homework we will be exploring interactive visualization, which is a key ingredient of many successful data visualizations (especially when it comes to infographics).\n",
    "\n",
    "Unemployment rates are major economic metrics and a matter of concern for governments around the world. Though its definition may seem straightforward at first glance (usually defined as the number of unemployed people divided by the active population), it can be tricky to define consistently. For example, one must define what exactly unemployed means : looking for a job ? Having declared their unemployment ? Currently without a job ? Should students or recent graduates be included ? We could also wonder what the active population is : everyone in an age category (e.g. `16-64`) ? Anyone interested by finding a job ? Though these questions may seem subtle, they can have a large impact on the interpretation of the results : `3%` unemployment doesn't mean much if we don't know who is included in this percentage. \n",
    "\n",
    "In this homework you will be dealing with two different datasets from the statistics offices of the European commission ([eurostat](http://ec.europa.eu/eurostat/data/database)) and the Swiss Confederation ([amstat](https://www.amstat.ch)). They provide a variety of datasets with plenty of information on many different statistics and demographics at their respective scales. Unfortunately, as is often the case is data analysis, these websites are not always straightforward to navigate. They may include a lot of obscure categories, not always be translated into your native language, have strange link structures, … Navigating this complexity is part of a data scientists' job : you will have to use a few tricks to get the right data for this homework.\n",
    "\n",
    "For the visualization part, install [Folium](https://github.com/python-visualization/folium) (*HINT*: it is not available in your standard Anaconda environment, therefore search on the Web how to install it easily!). Folium's `README` comes with very clear examples, and links to their own iPython Notebooks -- make good use of this information. For your own convenience, in this same directory you can already find two `.topojson` files, containing the geo-coordinates of \n",
    "\n",
    "- European countries (*liberal definition of EU*) (`topojson/europe.topojson.json`, [source](https://github.com/leakyMirror/map-of-europe))\n",
    "- Swiss cantons (`topojson/ch-cantons.topojson.json`) \n",
    "\n",
    "These will be used as an overlay on the Folium maps.\n",
    "\n",
    "## Assignment\n",
    "\n",
    "1. Go to the [eurostat](http://ec.europa.eu/eurostat/data/database) website and try to find a dataset that includes the european unemployment rates at a recent date.\n",
    "\n",
    "   Use this data to build a [Choropleth map](https://en.wikipedia.org/wiki/Choropleth_map) which shows the unemployment rate in Europe at a country level. Think about [the colors you use](https://carto.com/academy/courses/intermediate-design/choose-colors-1/), how you decided to [split the intervals into data classes](http://gisgeography.com/choropleth-maps-data-classification/) or which interactions you could add in order to make the visualization intuitive and expressive. Compare Switzerland's unemployment rate to that of the rest of Europe.\n",
    "\n",
    "2. Go to the [amstat](https://www.amstat.ch) website to find a dataset that includes the unemployment rates in Switzerland at a recent date.\n",
    "\n",
    "   > *HINT* Go to the `details` tab to find the raw data you need. If you do not speak French, German or Italian, think of using free translation services to navigate your way through. \n",
    "\n",
    "   Use this data to build another Choropleth map, this time showing the unemployment rate at the level of swiss cantons. Again, try to make the map as expressive as possible, and comment on the trends you observe.\n",
    "\n",
    "   The Swiss Confederation defines the rates you have just plotted as the number of people looking for a job divided by the size of the active population (scaled by 100). This is surely a valid choice, but as we discussed one could argue for a different categorization.\n",
    "\n",
    "   Copy the map you have just created, but this time don't count in your statistics people who already have a job and are looking for a new one. How do your observations change ? You can repeat this with different choices of categories to see how selecting different metrics can lead to different interpretations of the same data.\n",
    "\n",
    "3. Use the [amstat](https://www.amstat.ch) website again to find a dataset that includes the unemployment rates in Switzerland at recent date, this time making a distinction between *Swiss* and *foreign* workers.\n",
    "\n",
    "   The Economic Secretary (SECO) releases [a monthly report](https://www.seco.admin.ch/seco/fr/home/Arbeit/Arbeitslosenversicherung/arbeitslosenzahlen.html) on the state of the employment market. In the latest report (September 2017), it is noted that there is a discrepancy between the unemployment rates for *foreign* (`5.1%`) and *Swiss* (`2.2%`) workers. \n",
    "\n",
    "   Show the difference in unemployment rates between the two categories in each canton on a Choropleth map (*hint* The easy way is to show two separate maps, but can you think of something better ?). Where are the differences most visible ? Why do you think that is ?\n",
    "\n",
    "   Now let's refine the analysis by adding the differences between age groups. As you may have guessed it is nearly impossible to plot so many variables on a map. Make a bar plot, which is a better suited visualization tool for this type of multivariate data.\n",
    "\n",
    "4. *BONUS*: using the map you have just built, and the geographical information contained in it, could you give a *rough estimate* of the difference in unemployment rates between the areas divided by the [Röstigraben](https://en.wikipedia.org/wiki/R%C3%B6stigraben)?"
   ]
  },
  {
   "cell_type": "markdown",
   "metadata": {},
   "source": [
    "## Imports"
   ]
  },
  {
   "cell_type": "code",
   "execution_count": 1,
   "metadata": {
    "collapsed": false
   },
   "outputs": [],
   "source": [
    "import os \n",
    "import pandas as pd \n",
    "import json \n",
    "\n",
    "import folium\n",
    "\n",
    "import re\n",
    "import csv\n",
    "\n",
    "import seaborn as sns \n",
    "import matplotlib.pyplot as plt \n",
    "\n",
    "import numpy as np\n",
    "from branca.colormap import linear\n",
    "\n",
    "%matplotlib inline\n",
    "\n",
    "from IPython.display import display\n",
    "# Allow to display html \n",
    "from IPython.core.display import display, HTML\n",
    "\n"
   ]
  },
  {
   "cell_type": "code",
   "execution_count": 2,
   "metadata": {
    "collapsed": true
   },
   "outputs": [],
   "source": [
    "# Allows to display full dataframe\n",
    "pd.set_option('display.max_colwidth', -1)\n",
    "pd.set_option('display.max_rows', 500)"
   ]
  },
  {
   "cell_type": "code",
   "execution_count": 3,
   "metadata": {
    "collapsed": true
   },
   "outputs": [],
   "source": [
    "# Function to print a list with one element per line \n",
    "def printList(liste):\n",
    "    for x in liste:\n",
    "        print(x)\n",
    "        \n",
    "#function to load and display saved maps \n",
    "def displaymap(url):\n",
    "    iframe='<iframe src=' + url+ ' width=900 height=700></iframe>'\n",
    "    display(HTML(iframe))"
   ]
  },
  {
   "cell_type": "code",
   "execution_count": 4,
   "metadata": {
    "collapsed": true
   },
   "outputs": [],
   "source": [
    "assert(folium.__version__ =='0.5.0')"
   ]
  },
  {
   "cell_type": "markdown",
   "metadata": {},
   "source": [
    "## 1. European unemployement rate"
   ]
  },
  {
   "cell_type": "code",
   "execution_count": 5,
   "metadata": {
    "collapsed": true
   },
   "outputs": [],
   "source": [
    "Lausanne = [46.519962, 6.633597]"
   ]
  },
  {
   "cell_type": "markdown",
   "metadata": {},
   "source": [
    "### Loading the topojson file\n",
    "First we load the topojson file to visualize on map as follow : \n",
    "* Create a europe-map\n",
    "* Load europe topojson with TopoJson (objects is defined inside the topojson file)\n",
    "* Add the layer to the map and plot it (we can deselect it by clicking on the layer icon)"
   ]
  },
  {
   "cell_type": "code",
   "execution_count": 6,
   "metadata": {
    "collapsed": false
   },
   "outputs": [
    {
     "data": {
      "text/html": [
       "<iframe src=./html/europe_map.html width=900 height=700></iframe>"
      ],
      "text/plain": [
       "<IPython.core.display.HTML object>"
      ]
     },
     "metadata": {},
     "output_type": "display_data"
    }
   ],
   "source": [
    "europe = './topojson/europe.topojson.json'\n",
    "\n",
    "europe_map = folium.Map(location = Lausanne, tiles='cartodbpositron',zoom_start=3)\n",
    "folium.TopoJson(open(europe),\n",
    "                'objects.europe',\n",
    "                name='topoJson layer'\n",
    "                \n",
    "               ).add_to(europe_map)\n",
    "folium.LayerControl().add_to(europe_map)\n",
    "\n",
    "url_save = \"./html/europe_map.html\"\n",
    "europe_map.save(url_save)\n",
    "# europe_map\n",
    "displaymap(url_save)"
   ]
  },
  {
   "cell_type": "code",
   "execution_count": 7,
   "metadata": {
    "collapsed": false
   },
   "outputs": [],
   "source": [
    "# Remove space at the end of column names \n",
    "def remove_last_space(string):\n",
    "    result = re.sub('\\s*$', '', string)\n",
    "    return result\n"
   ]
  },
  {
   "cell_type": "markdown",
   "metadata": {},
   "source": [
    "### Loading the data \n",
    "\n",
    "We will use the data from the eurostat website. \n",
    "\n",
    "* Load data from tsv file \n",
    "* extract only one subsample of data \n",
    "* Plot the data in histogram to find categories of countries\n",
    "* extract the country id to match it with our topojson data and find the missing countries to plot with another color\n",
    "* plot a chloropleth map\n",
    "\n",
    "Unemployment by sex and age - annual average\n",
    "\n",
    "We will display the countries for which we don't have the unemployment rate with a dark color on an independent layer that the user can remove or add. \n",
    "\n",
    "Loading of dataset :   \n",
    "The dataset is a tsv file where the data is separated by a tab. The index is separated by commas. That is why we separate based on tab and comma and then create a multi-index that will be meaningful.\n"
   ]
  },
  {
   "cell_type": "code",
   "execution_count": 8,
   "metadata": {
    "collapsed": false
   },
   "outputs": [
    {
     "name": "stderr",
     "output_type": "stream",
     "text": [
      "C:\\ProgramData\\Anaconda3\\lib\\site-packages\\pandas\\core\\frame.py:1231: ParserWarning: Falling back to the 'python' engine because the 'c' engine does not support regex separators (separators > 1 char and different from '\\s+' are interpreted as regex); you can avoid this warning by specifying engine='python'.\n",
      "  infer_datetime_format=infer_datetime_format)\n",
      "C:\\ProgramData\\Anaconda3\\lib\\site-packages\\ipykernel\\__main__.py:31: PerformanceWarning: indexing past lexsort depth may impact performance.\n"
     ]
    }
   ],
   "source": [
    "europe_data = pd.DataFrame.from_csv('./dataset/une_rt_a.tsv', sep='\\t|,', header=0)\n",
    "\n",
    "# europe_data.index = ['unit', 'sex', 'geo\\time']\n",
    "# list(europe_data.index)\n",
    "\n",
    "# Create multi-index on type, age, sex, and geo (country id)\n",
    "index_names_dict_list = [{'index_data':list(europe_data.unit), #type \n",
    "                         'name':'type'},\n",
    "                         {'index_data':europe_data.index,  # age\n",
    "                         'name':'age'},\n",
    "                         {'index_data':list(europe_data.sex), # sex\n",
    "                         'name': 'sex'},\n",
    "                         {'index_data':list(europe_data[europe_data.columns[2]]), # geo\n",
    "                         'name':'geo'},]\n",
    "\n",
    "\n",
    "# levels_order = [3, 0, 1, l2]\n",
    "# index_names_dict_list = [index_names_dict_list[i] for i in levels_order]\n",
    "\n",
    "\n",
    "# Apply multi-index on data \n",
    "europe_data.index = [x['index_data'] for x in index_names_dict_list]\n",
    "# Add names to the index columns \n",
    "europe_data.index.names = [x['name'] for x in index_names_dict_list]\n",
    "# Remove last spaces in column names\n",
    "europe_data.columns = [remove_last_space(x) for x in list(europe_data.columns)]\n",
    "#Remove the columns that have been added to the index\n",
    "europe_data_reduced = europe_data.drop(europe_data.columns[:3],axis=1)\n",
    "\n",
    "# Select data for all sex, age and based on active population that will be sorted\n",
    "data_to_plot = europe_data_reduced['2016'].loc['PC_ACT', 'TOTAL','T'].sort_values()\n",
    "\n",
    "#Remove aggregated values from the data (for the histogram) (EU,EA)\n",
    "data_to_plot = data_to_plot[[re.search('EA|EU',x)  is None for x in list(data_to_plot.index)]]\n",
    "\n",
    "# print(data_to_plot[[re.search('EA|EU',x)  is None for x in list(data_to_plot.index)]])\n",
    "# print(data_to_plot.index)\n"
   ]
  },
  {
   "cell_type": "code",
   "execution_count": 9,
   "metadata": {
    "collapsed": false
   },
   "outputs": [
    {
     "data": {
      "text/plain": [
       "Series([], Name: 2016, dtype: float64)"
      ]
     },
     "execution_count": 9,
     "metadata": {},
     "output_type": "execute_result"
    }
   ],
   "source": [
    "data_to_plot[[re.search('EA',x)  is not None for x in list(data_to_plot.index)]]"
   ]
  },
  {
   "cell_type": "code",
   "execution_count": 10,
   "metadata": {
    "collapsed": false
   },
   "outputs": [
    {
     "data": {
      "image/png": "[encoded data removed]",
      "text/plain": [
       "<matplotlib.figure.Figure at 0xcb788d0>"
      ]
     },
     "metadata": {},
     "output_type": "display_data"
    }
   ],
   "source": [
    "# data_to_plot\n",
    "fig,ax = plt.subplots(figsize=(6,15))\n",
    "y = list(data_to_plot.index)\n",
    "x = list(data_to_plot)\n",
    "sns.barplot(x,y,ax=ax, palette='Reds')\n",
    "plt.title('unemployment rate')\n",
    "plt.show()\n",
    "\n"
   ]
  },
  {
   "cell_type": "markdown",
   "metadata": {},
   "source": [
    "### Missing countries in the dataset\n",
    "\n",
    "Now we print the countries that are on the topojson but for which we don't have value.    \n",
    "We want to put an extra layer to put their color to dark gray. \n"
   ]
  },
  {
   "cell_type": "code",
   "execution_count": 11,
   "metadata": {
    "collapsed": false
   },
   "outputs": [
    {
     "data": {
      "text/html": [
       "<div>\n",
       "<table border=\"1\" class=\"dataframe\">\n",
       "  <thead>\n",
       "    <tr style=\"text-align: right;\">\n",
       "      <th></th>\n",
       "      <th>id_2</th>\n",
       "      <th>name_2</th>\n",
       "    </tr>\n",
       "  </thead>\n",
       "  <tbody>\n",
       "    <tr>\n",
       "      <th>33</th>\n",
       "      <td>AZ</td>\n",
       "      <td>Azerbaijan</td>\n",
       "    </tr>\n",
       "    <tr>\n",
       "      <th>34</th>\n",
       "      <td>AL</td>\n",
       "      <td>Albania</td>\n",
       "    </tr>\n",
       "    <tr>\n",
       "      <th>35</th>\n",
       "      <td>AM</td>\n",
       "      <td>Armenia</td>\n",
       "    </tr>\n",
       "    <tr>\n",
       "      <th>36</th>\n",
       "      <td>BA</td>\n",
       "      <td>Bosnia and Herzegovina</td>\n",
       "    </tr>\n",
       "    <tr>\n",
       "      <th>37</th>\n",
       "      <td>GE</td>\n",
       "      <td>Georgia</td>\n",
       "    </tr>\n",
       "    <tr>\n",
       "      <th>38</th>\n",
       "      <td>GR</td>\n",
       "      <td>Greece</td>\n",
       "    </tr>\n",
       "    <tr>\n",
       "      <th>39</th>\n",
       "      <td>IL</td>\n",
       "      <td>Israel</td>\n",
       "    </tr>\n",
       "    <tr>\n",
       "      <th>40</th>\n",
       "      <td>BY</td>\n",
       "      <td>Belarus</td>\n",
       "    </tr>\n",
       "    <tr>\n",
       "      <th>41</th>\n",
       "      <td>LI</td>\n",
       "      <td>Liechtenstein</td>\n",
       "    </tr>\n",
       "    <tr>\n",
       "      <th>42</th>\n",
       "      <td>MK</td>\n",
       "      <td>The former Yugoslav Republic of Macedonia</td>\n",
       "    </tr>\n",
       "    <tr>\n",
       "      <th>43</th>\n",
       "      <td>FO</td>\n",
       "      <td>Faroe Islands</td>\n",
       "    </tr>\n",
       "    <tr>\n",
       "      <th>44</th>\n",
       "      <td>AD</td>\n",
       "      <td>Andorra</td>\n",
       "    </tr>\n",
       "    <tr>\n",
       "      <th>45</th>\n",
       "      <td>MC</td>\n",
       "      <td>Monaco</td>\n",
       "    </tr>\n",
       "    <tr>\n",
       "      <th>46</th>\n",
       "      <td>ME</td>\n",
       "      <td>Montenegro</td>\n",
       "    </tr>\n",
       "    <tr>\n",
       "      <th>47</th>\n",
       "      <td>MD</td>\n",
       "      <td>Republic of Moldova</td>\n",
       "    </tr>\n",
       "    <tr>\n",
       "      <th>48</th>\n",
       "      <td>CH</td>\n",
       "      <td>Switzerland</td>\n",
       "    </tr>\n",
       "    <tr>\n",
       "      <th>49</th>\n",
       "      <td>GB</td>\n",
       "      <td>United Kingdom</td>\n",
       "    </tr>\n",
       "    <tr>\n",
       "      <th>50</th>\n",
       "      <td>UA</td>\n",
       "      <td>Ukraine</td>\n",
       "    </tr>\n",
       "    <tr>\n",
       "      <th>51</th>\n",
       "      <td>SM</td>\n",
       "      <td>San Marino</td>\n",
       "    </tr>\n",
       "    <tr>\n",
       "      <th>52</th>\n",
       "      <td>RS</td>\n",
       "      <td>Serbia</td>\n",
       "    </tr>\n",
       "    <tr>\n",
       "      <th>53</th>\n",
       "      <td>VA</td>\n",
       "      <td>Holy See (Vatican City)</td>\n",
       "    </tr>\n",
       "    <tr>\n",
       "      <th>54</th>\n",
       "      <td>RU</td>\n",
       "      <td>Russia</td>\n",
       "    </tr>\n",
       "  </tbody>\n",
       "</table>\n",
       "</div>"
      ],
      "text/plain": [
       "   id_2                                     name_2\n",
       "33  AZ   Azerbaijan                               \n",
       "34  AL   Albania                                  \n",
       "35  AM   Armenia                                  \n",
       "36  BA   Bosnia and Herzegovina                   \n",
       "37  GE   Georgia                                  \n",
       "38  GR   Greece                                   \n",
       "39  IL   Israel                                   \n",
       "40  BY   Belarus                                  \n",
       "41  LI   Liechtenstein                            \n",
       "42  MK   The former Yugoslav Republic of Macedonia\n",
       "43  FO   Faroe Islands                            \n",
       "44  AD   Andorra                                  \n",
       "45  MC   Monaco                                   \n",
       "46  ME   Montenegro                               \n",
       "47  MD   Republic of Moldova                      \n",
       "48  CH   Switzerland                              \n",
       "49  GB   United Kingdom                           \n",
       "50  UA   Ukraine                                  \n",
       "51  SM   San Marino                               \n",
       "52  RS   Serbia                                   \n",
       "53  VA   Holy See (Vatican City)                  \n",
       "54  RU   Russia                                   "
      ]
     },
     "metadata": {},
     "output_type": "display_data"
    }
   ],
   "source": [
    "geo_data = open(europe)\n",
    "\n",
    "geo_data_json = json.load(geo_data)\n",
    "countries = geo_data_json['objects']['europe']['geometries']\n",
    "# print(geo_data_json['objects']['europe'])\n",
    "id_topo = [x['id'] for x in countries]\n",
    "name_topo = [x['properties']['NAME'] for x in countries]\n",
    "dict_topo = {'id_2':id_topo, 'name_2':name_topo}\n",
    "\n",
    "\n",
    "# Create DataFrame to merge both \n",
    "df1 = pd.DataFrame(list(data_to_plot.index),columns=['id_1'])\n",
    "df2 = pd.DataFrame(dict_topo)\n",
    "df_tot = pd.merge(df1, df2,left_on='id_1', right_on='id_2', how='outer')\n",
    "# df_missing = df_tot[df_tot['id_1'].isnull()]\n",
    "df_nan = df_tot[df_tot['id_1'].isnull()][['id_2','name_2']]\n",
    "display(df_nan)\n",
    "list_nan = list(df_nan['id_2'])\n",
    "# sorted(list_nan)\n",
    "\n"
   ]
  },
  {
   "cell_type": "markdown",
   "metadata": {},
   "source": [
    "### Plotting the data \n",
    "\n",
    "We can select to display the 'nan' countries with the layers of the map.   \n",
    "We will separate the last two countries from the rest as their values are really different, and then create a linear scale. "
   ]
  },
  {
   "cell_type": "code",
   "execution_count": 12,
   "metadata": {
    "collapsed": false,
    "scrolled": false
   },
   "outputs": [
    {
     "data": {
      "text/html": [
       "<iframe src=./html/europe_unemployment.html width=900 height=700></iframe>"
      ],
      "text/plain": [
       "<IPython.core.display.HTML object>"
      ]
     },
     "metadata": {},
     "output_type": "display_data"
    }
   ],
   "source": [
    "highlight_function = lambda x:{'opacity':1}\n",
    "\n",
    "# Function to check if an element is in a string list \n",
    "def checkStringList(stringList, string):\n",
    "    return [x for x in stringList if string in x] != []\n",
    "\n",
    "name_data = '2016, total population'\n",
    "    \n",
    "#     Plot a choropleth map with the values found in the data \n",
    "europe_map = folium.Map(location = Lausanne, tiles='cartodbpositron',zoom_start=3)\n",
    "\n",
    "style_function_nan = lambda x:{'fillColor':'#000000' if checkStringList(list_nan,x['id']) else '#ffffff',\n",
    "                               'opacity':'1' if checkStringList(list_nan,x['id']) else '0',\n",
    "                              'color':0,}\n",
    "\n",
    "# Create scale \n",
    "threshold_scale = np.linspace(data_to_plot[0],\n",
    "                              data_to_plot[-4],\n",
    "                             num = 5).tolist()\n",
    "threshold_scale.append(data_to_plot[-3])\n",
    "\n",
    "europe_map.choropleth(geo_data=open(europe),\n",
    "                  topojson='objects.europe',\n",
    "                  data = data_to_plot,\n",
    "                  columns=['geo','2016'],\n",
    "                  key_on='id',\n",
    "                  fill_color='YlOrRd',\n",
    "                  fill_opacity = 0.7,\n",
    "                  highlight = highlight_function,\n",
    "                  threshold_scale = threshold_scale,\n",
    "                  name=name_data)\n",
    "\n",
    "\n",
    "\n",
    "folium.TopoJson(open(europe),\n",
    "                'objects.europe',\n",
    "                style_function=style_function_nan,\n",
    "                name='countries with no values',\n",
    "               ).add_to(europe_map)\n",
    "\n",
    "folium.LayerControl().add_to(europe_map)\n",
    "# Add an extra layer for the countries we don't want to check \n",
    "\n",
    "\n",
    "#     europe_map.save(selected_index + '.html')\n",
    "url_save = \"./html/europe_unemployment.html\"\n",
    "europe_map.save(url_save)\n",
    "# display(europe_map)\n",
    "displaymap(url_save)"
   ]
  },
  {
   "cell_type": "markdown",
   "metadata": {},
   "source": [
    "## 2. Swiss Unemployement"
   ]
  },
  {
   "cell_type": "markdown",
   "metadata": {},
   "source": [
    "Let us first import the data. We will translate the features so that an non french speaker can understand them. Also we remove the special character in the data so that we can cast them to int or float. We also calculate the Active Population per Canton by dividing the number of jobseekers by the unemployement rate. It is interesting to note that here the unemployement rate is defined as the total number of people looking for a job (whether they have one or not) divided by the active population. By having the active population, we will later be able to find the unregistered jobseekers rate and the registered jobseekers rate. \n",
    "We also give an ID to each canton (the same as in the json file) to match them with the topology provided for us."
   ]
  },
  {
   "cell_type": "code",
   "execution_count": 13,
   "metadata": {
    "collapsed": false
   },
   "outputs": [
    {
     "data": {
      "text/html": [
       "<div>\n",
       "<table border=\"1\" class=\"dataframe\">\n",
       "  <thead>\n",
       "    <tr style=\"text-align: right;\">\n",
       "      <th></th>\n",
       "      <th>Canton</th>\n",
       "      <th>Jobseeking rate</th>\n",
       "      <th>Registered jobseekers</th>\n",
       "      <th>Jobseekers</th>\n",
       "      <th>Unregistered jobseekers</th>\n",
       "      <th>Active population</th>\n",
       "      <th>ID</th>\n",
       "    </tr>\n",
       "  </thead>\n",
       "  <tbody>\n",
       "    <tr>\n",
       "      <th>0</th>\n",
       "      <td>Zurich</td>\n",
       "      <td>3.3</td>\n",
       "      <td>27225</td>\n",
       "      <td>34156</td>\n",
       "      <td>6931</td>\n",
       "      <td>1.035030e+06</td>\n",
       "      <td>ZH</td>\n",
       "    </tr>\n",
       "    <tr>\n",
       "      <th>1</th>\n",
       "      <td>Berne</td>\n",
       "      <td>2.4</td>\n",
       "      <td>13658</td>\n",
       "      <td>18385</td>\n",
       "      <td>4727</td>\n",
       "      <td>7.660417e+05</td>\n",
       "      <td>BE</td>\n",
       "    </tr>\n",
       "    <tr>\n",
       "      <th>2</th>\n",
       "      <td>Lucerne</td>\n",
       "      <td>1.7</td>\n",
       "      <td>3885</td>\n",
       "      <td>6756</td>\n",
       "      <td>2871</td>\n",
       "      <td>3.974118e+05</td>\n",
       "      <td>LU</td>\n",
       "    </tr>\n",
       "    <tr>\n",
       "      <th>3</th>\n",
       "      <td>Uri</td>\n",
       "      <td>0.6</td>\n",
       "      <td>112</td>\n",
       "      <td>257</td>\n",
       "      <td>145</td>\n",
       "      <td>4.283333e+04</td>\n",
       "      <td>UR</td>\n",
       "    </tr>\n",
       "    <tr>\n",
       "      <th>4</th>\n",
       "      <td>Schwyz</td>\n",
       "      <td>1.7</td>\n",
       "      <td>1455</td>\n",
       "      <td>2229</td>\n",
       "      <td>774</td>\n",
       "      <td>1.311176e+05</td>\n",
       "      <td>SZ</td>\n",
       "    </tr>\n",
       "    <tr>\n",
       "      <th>5</th>\n",
       "      <td>Obwald</td>\n",
       "      <td>0.7</td>\n",
       "      <td>153</td>\n",
       "      <td>319</td>\n",
       "      <td>166</td>\n",
       "      <td>4.557143e+04</td>\n",
       "      <td>OW</td>\n",
       "    </tr>\n",
       "    <tr>\n",
       "      <th>6</th>\n",
       "      <td>Nidwald</td>\n",
       "      <td>1.0</td>\n",
       "      <td>248</td>\n",
       "      <td>436</td>\n",
       "      <td>188</td>\n",
       "      <td>4.360000e+04</td>\n",
       "      <td>NW</td>\n",
       "    </tr>\n",
       "    <tr>\n",
       "      <th>7</th>\n",
       "      <td>Glaris</td>\n",
       "      <td>1.8</td>\n",
       "      <td>416</td>\n",
       "      <td>713</td>\n",
       "      <td>297</td>\n",
       "      <td>3.961111e+04</td>\n",
       "      <td>GL</td>\n",
       "    </tr>\n",
       "    <tr>\n",
       "      <th>8</th>\n",
       "      <td>Zoug</td>\n",
       "      <td>2.3</td>\n",
       "      <td>1543</td>\n",
       "      <td>2615</td>\n",
       "      <td>1072</td>\n",
       "      <td>1.136957e+05</td>\n",
       "      <td>ZG</td>\n",
       "    </tr>\n",
       "    <tr>\n",
       "      <th>9</th>\n",
       "      <td>Fribourg</td>\n",
       "      <td>2.7</td>\n",
       "      <td>4466</td>\n",
       "      <td>7837</td>\n",
       "      <td>3371</td>\n",
       "      <td>2.902593e+05</td>\n",
       "      <td>FR</td>\n",
       "    </tr>\n",
       "    <tr>\n",
       "      <th>10</th>\n",
       "      <td>Soleure</td>\n",
       "      <td>2.6</td>\n",
       "      <td>3801</td>\n",
       "      <td>6628</td>\n",
       "      <td>2827</td>\n",
       "      <td>2.549231e+05</td>\n",
       "      <td>SO</td>\n",
       "    </tr>\n",
       "    <tr>\n",
       "      <th>11</th>\n",
       "      <td>Bâle-Ville</td>\n",
       "      <td>3.5</td>\n",
       "      <td>3455</td>\n",
       "      <td>5168</td>\n",
       "      <td>1713</td>\n",
       "      <td>1.476571e+05</td>\n",
       "      <td>BS</td>\n",
       "    </tr>\n",
       "    <tr>\n",
       "      <th>12</th>\n",
       "      <td>Bâle-Campagne</td>\n",
       "      <td>2.8</td>\n",
       "      <td>4082</td>\n",
       "      <td>5540</td>\n",
       "      <td>1458</td>\n",
       "      <td>1.978571e+05</td>\n",
       "      <td>BL</td>\n",
       "    </tr>\n",
       "    <tr>\n",
       "      <th>13</th>\n",
       "      <td>Schaffhouse</td>\n",
       "      <td>3.0</td>\n",
       "      <td>1286</td>\n",
       "      <td>2328</td>\n",
       "      <td>1042</td>\n",
       "      <td>7.760000e+04</td>\n",
       "      <td>SH</td>\n",
       "    </tr>\n",
       "    <tr>\n",
       "      <th>14</th>\n",
       "      <td>Appenzell Rhodes-Extérieures</td>\n",
       "      <td>1.7</td>\n",
       "      <td>523</td>\n",
       "      <td>866</td>\n",
       "      <td>343</td>\n",
       "      <td>5.094118e+04</td>\n",
       "      <td>AR</td>\n",
       "    </tr>\n",
       "    <tr>\n",
       "      <th>15</th>\n",
       "      <td>Appenzell Rhodes-Intérieures</td>\n",
       "      <td>0.7</td>\n",
       "      <td>62</td>\n",
       "      <td>102</td>\n",
       "      <td>40</td>\n",
       "      <td>1.457143e+04</td>\n",
       "      <td>AI</td>\n",
       "    </tr>\n",
       "    <tr>\n",
       "      <th>16</th>\n",
       "      <td>St-Gall</td>\n",
       "      <td>2.2</td>\n",
       "      <td>6127</td>\n",
       "      <td>10363</td>\n",
       "      <td>4236</td>\n",
       "      <td>4.710455e+05</td>\n",
       "      <td>SG</td>\n",
       "    </tr>\n",
       "    <tr>\n",
       "      <th>17</th>\n",
       "      <td>Grisons</td>\n",
       "      <td>1.1</td>\n",
       "      <td>1166</td>\n",
       "      <td>2590</td>\n",
       "      <td>1424</td>\n",
       "      <td>2.354545e+05</td>\n",
       "      <td>GR</td>\n",
       "    </tr>\n",
       "    <tr>\n",
       "      <th>18</th>\n",
       "      <td>Argovie</td>\n",
       "      <td>2.9</td>\n",
       "      <td>10684</td>\n",
       "      <td>15145</td>\n",
       "      <td>4461</td>\n",
       "      <td>5.222414e+05</td>\n",
       "      <td>AG</td>\n",
       "    </tr>\n",
       "    <tr>\n",
       "      <th>19</th>\n",
       "      <td>Thurgovie</td>\n",
       "      <td>2.0</td>\n",
       "      <td>3058</td>\n",
       "      <td>5618</td>\n",
       "      <td>2560</td>\n",
       "      <td>2.809000e+05</td>\n",
       "      <td>TG</td>\n",
       "    </tr>\n",
       "    <tr>\n",
       "      <th>20</th>\n",
       "      <td>Tessin</td>\n",
       "      <td>3.1</td>\n",
       "      <td>5202</td>\n",
       "      <td>8675</td>\n",
       "      <td>3473</td>\n",
       "      <td>2.798387e+05</td>\n",
       "      <td>TI</td>\n",
       "    </tr>\n",
       "    <tr>\n",
       "      <th>21</th>\n",
       "      <td>Vaud</td>\n",
       "      <td>4.3</td>\n",
       "      <td>17155</td>\n",
       "      <td>24649</td>\n",
       "      <td>7494</td>\n",
       "      <td>5.732326e+05</td>\n",
       "      <td>VD</td>\n",
       "    </tr>\n",
       "    <tr>\n",
       "      <th>22</th>\n",
       "      <td>Valais</td>\n",
       "      <td>2.8</td>\n",
       "      <td>4816</td>\n",
       "      <td>8027</td>\n",
       "      <td>3211</td>\n",
       "      <td>2.866786e+05</td>\n",
       "      <td>VS</td>\n",
       "    </tr>\n",
       "    <tr>\n",
       "      <th>23</th>\n",
       "      <td>Neuchâtel</td>\n",
       "      <td>5.1</td>\n",
       "      <td>4738</td>\n",
       "      <td>6350</td>\n",
       "      <td>1612</td>\n",
       "      <td>1.245098e+05</td>\n",
       "      <td>NE</td>\n",
       "    </tr>\n",
       "    <tr>\n",
       "      <th>24</th>\n",
       "      <td>Genève</td>\n",
       "      <td>5.2</td>\n",
       "      <td>12234</td>\n",
       "      <td>15497</td>\n",
       "      <td>3263</td>\n",
       "      <td>2.980192e+05</td>\n",
       "      <td>GE</td>\n",
       "    </tr>\n",
       "    <tr>\n",
       "      <th>25</th>\n",
       "      <td>Jura</td>\n",
       "      <td>4.4</td>\n",
       "      <td>1619</td>\n",
       "      <td>2375</td>\n",
       "      <td>756</td>\n",
       "      <td>5.397727e+04</td>\n",
       "      <td>JU</td>\n",
       "    </tr>\n",
       "    <tr>\n",
       "      <th>26</th>\n",
       "      <td>Total</td>\n",
       "      <td>3.0</td>\n",
       "      <td>133169</td>\n",
       "      <td>193624</td>\n",
       "      <td>60455</td>\n",
       "      <td>6.454133e+06</td>\n",
       "      <td>TOTAL</td>\n",
       "    </tr>\n",
       "  </tbody>\n",
       "</table>\n",
       "</div>"
      ],
      "text/plain": [
       "                          Canton  Jobseeking rate  Registered jobseekers  \\\n",
       "0   Zurich                        3.3              27225                   \n",
       "1   Berne                         2.4              13658                   \n",
       "2   Lucerne                       1.7              3885                    \n",
       "3   Uri                           0.6              112                     \n",
       "4   Schwyz                        1.7              1455                    \n",
       "5   Obwald                        0.7              153                     \n",
       "6   Nidwald                       1.0              248                     \n",
       "7   Glaris                        1.8              416                     \n",
       "8   Zoug                          2.3              1543                    \n",
       "9   Fribourg                      2.7              4466                    \n",
       "10  Soleure                       2.6              3801                    \n",
       "11  Bâle-Ville                    3.5              3455                    \n",
       "12  Bâle-Campagne                 2.8              4082                    \n",
       "13  Schaffhouse                   3.0              1286                    \n",
       "14  Appenzell Rhodes-Extérieures  1.7              523                     \n",
       "15  Appenzell Rhodes-Intérieures  0.7              62                      \n",
       "16  St-Gall                       2.2              6127                    \n",
       "17  Grisons                       1.1              1166                    \n",
       "18  Argovie                       2.9              10684                   \n",
       "19  Thurgovie                     2.0              3058                    \n",
       "20  Tessin                        3.1              5202                    \n",
       "21  Vaud                          4.3              17155                   \n",
       "22  Valais                        2.8              4816                    \n",
       "23  Neuchâtel                     5.1              4738                    \n",
       "24  Genève                        5.2              12234                   \n",
       "25  Jura                          4.4              1619                    \n",
       "26  Total                         3.0              133169                  \n",
       "\n",
       "    Jobseekers  Unregistered jobseekers  Active population     ID  \n",
       "0   34156       6931                     1.035030e+06       ZH     \n",
       "1   18385       4727                     7.660417e+05       BE     \n",
       "2   6756        2871                     3.974118e+05       LU     \n",
       "3   257         145                      4.283333e+04       UR     \n",
       "4   2229        774                      1.311176e+05       SZ     \n",
       "5   319         166                      4.557143e+04       OW     \n",
       "6   436         188                      4.360000e+04       NW     \n",
       "7   713         297                      3.961111e+04       GL     \n",
       "8   2615        1072                     1.136957e+05       ZG     \n",
       "9   7837        3371                     2.902593e+05       FR     \n",
       "10  6628        2827                     2.549231e+05       SO     \n",
       "11  5168        1713                     1.476571e+05       BS     \n",
       "12  5540        1458                     1.978571e+05       BL     \n",
       "13  2328        1042                     7.760000e+04       SH     \n",
       "14  866         343                      5.094118e+04       AR     \n",
       "15  102         40                       1.457143e+04       AI     \n",
       "16  10363       4236                     4.710455e+05       SG     \n",
       "17  2590        1424                     2.354545e+05       GR     \n",
       "18  15145       4461                     5.222414e+05       AG     \n",
       "19  5618        2560                     2.809000e+05       TG     \n",
       "20  8675        3473                     2.798387e+05       TI     \n",
       "21  24649       7494                     5.732326e+05       VD     \n",
       "22  8027        3211                     2.866786e+05       VS     \n",
       "23  6350        1612                     1.245098e+05       NE     \n",
       "24  15497       3263                     2.980192e+05       GE     \n",
       "25  2375        756                      5.397727e+04       JU     \n",
       "26  193624      60455                    6.454133e+06       TOTAL  "
      ]
     },
     "execution_count": 13,
     "metadata": {},
     "output_type": "execute_result"
    }
   ],
   "source": [
    "df=pd.read_csv(\"./dataset/2_1 Taux de chomage.csv\",encoding='utf-8-sig')\n",
    "\n",
    "# Dictionary to translate the canton to an id \n",
    "find_id={\"Zurich\":'ZH',\n",
    "         \"Berne\": 'BE',\n",
    "         'Lucerne':'LU',\n",
    "         'Uri':'UR',\n",
    "         'Schwyz':'SZ',\n",
    "         \"Obwald\":\"OW\",\n",
    "         \"Nidwald\":\"NW\",\n",
    "         \"Glaris\":\"GL\",\n",
    "         'Zoug':'ZG',\n",
    "         'Fribourg':'FR',\n",
    "         \"Soleure\":\"SO\",\n",
    "         'Bâle-Ville':\"BS\",\n",
    "         'Bâle-Campagne':'BL',\n",
    "        \"Schaffhouse\":'SH',\n",
    "         \"Appenzell Rhodes-Extérieures\":\"AR\",\n",
    "         \"Appenzell Rhodes-Intérieures\":\"AI\",\n",
    "         \"St-Gall\":\"SG\",\n",
    "         \"Grisons\":\"GR\",\n",
    "         \"Argovie\":\"AG\",\n",
    "         \"Thurgovie\":\"TG\",\n",
    "         \"Tessin\":\"TI\",\n",
    "         \"Vaud\":\"VD\",\n",
    "         \"Valais\":\"VS\",\n",
    "         \"Neuchâtel\":\"NE\",\n",
    "         \"Genève\":\"GE\",\n",
    "         \"Jura\":\"JU\",\n",
    "         \"Total\":\"TOTAL\"\n",
    "        }\n",
    "    \n",
    "# Translating, and casting to types\n",
    "df[\"Jobseeking rate\"]=df[\"Taux de chomage\"]\n",
    "df[\"Registered jobseekers\"]=df[\"Chomeurs inscrits\"].apply(func=lambda x: x.replace(\"'\",\"\"))\n",
    "df[\"Registered jobseekers\"]=df[\"Registered jobseekers\"].astype(np.int64)\n",
    "df[\"Jobseekers\"]=df[\"Demandeurs d\\'emploi\"].apply(func=lambda x: x.replace(\"'\",\"\"))\n",
    "df[\"Jobseekers\"]=df[\"Jobseekers\"].astype(np.int64)\n",
    "df[\"Unregistered jobseekers\"]=df[\"Demandeurs d\\'emploi non chomeurs\"].apply(func=lambda x: x.replace(\"'\",\"\"))\n",
    "df[\"Unregistered jobseekers\"]=df[\"Unregistered jobseekers\"].astype(np.int64)\n",
    "df['Active population']=df[\"Jobseekers\"]/df[\"Jobseeking rate\"]*100\n",
    "df['ID']=df['Canton'].apply(lambda canton:find_id[canton])\n",
    "df=df.drop(['Taux de chomage','Chomeurs inscrits',\"Demandeurs d'emploi\",\"Demandeurs d'emploi non chomeurs\"],axis=1)\n",
    "df"
   ]
  },
  {
   "cell_type": "markdown",
   "metadata": {},
   "source": [
    "In the Europpean dataset, we don't have any unemployement rate for Switzerland. Hence, the following line is a weighted average of the Cantons and is used to complete the dataset in part 1. "
   ]
  },
  {
   "cell_type": "code",
   "execution_count": 14,
   "metadata": {
    "collapsed": false
   },
   "outputs": [
    {
     "data": {
      "text/plain": [
       "2.9273205131875737"
      ]
     },
     "execution_count": 14,
     "metadata": {},
     "output_type": "execute_result"
    }
   ],
   "source": [
    "(df['Jobseeking rate']*df['Active population']).sum()/df['Active population'].sum()"
   ]
  },
  {
   "cell_type": "markdown",
   "metadata": {},
   "source": [
    "We will use a color map so that when we plot different rates, a particular value will always have the same color. It will allow us to observe with consistency the results"
   ]
  },
  {
   "cell_type": "code",
   "execution_count": 15,
   "metadata": {
    "collapsed": false
   },
   "outputs": [
    {
     "data": {
      "text/html": [
       "<svg height=\"50\" width=\"500\"><line x1=\"0\" y1=\"0\" x2=\"0\" y2=\"20\" style=\"stroke:#fef0d9;stroke-width:3;\" /><line x1=\"1\" y1=\"0\" x2=\"1\" y2=\"20\" style=\"stroke:#fef0d9;stroke-width:3;\" /><line x1=\"2\" y1=\"0\" x2=\"2\" y2=\"20\" style=\"stroke:#fef0d8;stroke-width:3;\" /><line x1=\"3\" y1=\"0\" x2=\"3\" y2=\"20\" style=\"stroke:#feefd7;stroke-width:3;\" /><line x1=\"4\" y1=\"0\" x2=\"4\" y2=\"20\" style=\"stroke:#feefd7;stroke-width:3;\" /><line x1=\"5\" y1=\"0\" x2=\"5\" y2=\"20\" style=\"stroke:#feefd6;stroke-width:3;\" /><line x1=\"6\" y1=\"0\" x2=\"6\" y2=\"20\" style=\"stroke:#feeed5;stroke-width:3;\" /><line x1=\"7\" y1=\"0\" x2=\"7\" y2=\"20\" style=\"stroke:#feeed4;stroke-width:3;\" /><line x1=\"8\" y1=\"0\" x2=\"8\" y2=\"20\" style=\"stroke:#feeed4;stroke-width:3;\" /><line x1=\"9\" y1=\"0\" x2=\"9\" y2=\"20\" style=\"stroke:#feedd3;stroke-width:3;\" /><line x1=\"10\" y1=\"0\" x2=\"10\" y2=\"20\" style=\"stroke:#feedd2;stroke-width:3;\" /><line x1=\"11\" y1=\"0\" x2=\"11\" y2=\"20\" style=\"stroke:#feedd2;stroke-width:3;\" /><line x1=\"12\" y1=\"0\" x2=\"12\" y2=\"20\" style=\"stroke:#feecd1;stroke-width:3;\" /><line x1=\"13\" y1=\"0\" x2=\"13\" y2=\"20\" style=\"stroke:#feecd0;stroke-width:3;\" /><line x1=\"14\" y1=\"0\" x2=\"14\" y2=\"20\" style=\"stroke:#feeccf;stroke-width:3;\" /><line x1=\"15\" y1=\"0\" x2=\"15\" y2=\"20\" style=\"stroke:#feebcf;stroke-width:3;\" /><line x1=\"16\" y1=\"0\" x2=\"16\" y2=\"20\" style=\"stroke:#feebce;stroke-width:3;\" /><line x1=\"17\" y1=\"0\" x2=\"17\" y2=\"20\" style=\"stroke:#feebcd;stroke-width:3;\" /><line x1=\"18\" y1=\"0\" x2=\"18\" y2=\"20\" style=\"stroke:#feeacd;stroke-width:3;\" /><line x1=\"19\" y1=\"0\" x2=\"19\" y2=\"20\" style=\"stroke:#feeacc;stroke-width:3;\" /><line x1=\"20\" y1=\"0\" x2=\"20\" y2=\"20\" style=\"stroke:#feeacb;stroke-width:3;\" /><line x1=\"21\" y1=\"0\" x2=\"21\" y2=\"20\" style=\"stroke:#fee9ca;stroke-width:3;\" /><line x1=\"22\" y1=\"0\" x2=\"22\" y2=\"20\" style=\"stroke:#fee9ca;stroke-width:3;\" /><line x1=\"23\" y1=\"0\" x2=\"23\" y2=\"20\" style=\"stroke:#fee9c9;stroke-width:3;\" /><line x1=\"24\" y1=\"0\" x2=\"24\" y2=\"20\" style=\"stroke:#fee8c8;stroke-width:3;\" /><line x1=\"25\" y1=\"0\" x2=\"25\" y2=\"20\" style=\"stroke:#fee8c8;stroke-width:3;\" /><line x1=\"26\" y1=\"0\" x2=\"26\" y2=\"20\" style=\"stroke:#fee8c7;stroke-width:3;\" /><line x1=\"27\" y1=\"0\" x2=\"27\" y2=\"20\" style=\"stroke:#fee7c6;stroke-width:3;\" /><line x1=\"28\" y1=\"0\" x2=\"28\" y2=\"20\" style=\"stroke:#fee7c5;stroke-width:3;\" /><line x1=\"29\" y1=\"0\" x2=\"29\" y2=\"20\" style=\"stroke:#fee7c5;stroke-width:3;\" /><line x1=\"30\" y1=\"0\" x2=\"30\" y2=\"20\" style=\"stroke:#fee6c4;stroke-width:3;\" /><line x1=\"31\" y1=\"0\" x2=\"31\" y2=\"20\" style=\"stroke:#fee6c3;stroke-width:3;\" /><line x1=\"32\" y1=\"0\" x2=\"32\" y2=\"20\" style=\"stroke:#fee6c3;stroke-width:3;\" /><line x1=\"33\" y1=\"0\" x2=\"33\" y2=\"20\" style=\"stroke:#fee5c2;stroke-width:3;\" /><line x1=\"34\" y1=\"0\" x2=\"34\" y2=\"20\" style=\"stroke:#fee5c1;stroke-width:3;\" /><line x1=\"35\" y1=\"0\" x2=\"35\" y2=\"20\" style=\"stroke:#fee5c0;stroke-width:3;\" /><line x1=\"36\" y1=\"0\" x2=\"36\" y2=\"20\" style=\"stroke:#fee4c0;stroke-width:3;\" /><line x1=\"37\" y1=\"0\" x2=\"37\" y2=\"20\" style=\"stroke:#fee4bf;stroke-width:3;\" /><line x1=\"38\" y1=\"0\" x2=\"38\" y2=\"20\" style=\"stroke:#fee4be;stroke-width:3;\" /><line x1=\"39\" y1=\"0\" x2=\"39\" y2=\"20\" style=\"stroke:#fee3be;stroke-width:3;\" /><line x1=\"40\" y1=\"0\" x2=\"40\" y2=\"20\" style=\"stroke:#fee3bd;stroke-width:3;\" /><line x1=\"41\" y1=\"0\" x2=\"41\" y2=\"20\" style=\"stroke:#fee3bc;stroke-width:3;\" /><line x1=\"42\" y1=\"0\" x2=\"42\" y2=\"20\" style=\"stroke:#fee2bb;stroke-width:3;\" /><line x1=\"43\" y1=\"0\" x2=\"43\" y2=\"20\" style=\"stroke:#fee2bb;stroke-width:3;\" /><line x1=\"44\" y1=\"0\" x2=\"44\" y2=\"20\" style=\"stroke:#fee2ba;stroke-width:3;\" /><line x1=\"45\" y1=\"0\" x2=\"45\" y2=\"20\" style=\"stroke:#fee1b9;stroke-width:3;\" /><line x1=\"46\" y1=\"0\" x2=\"46\" y2=\"20\" style=\"stroke:#fee1b9;stroke-width:3;\" /><line x1=\"47\" y1=\"0\" x2=\"47\" y2=\"20\" style=\"stroke:#fee1b8;stroke-width:3;\" /><line x1=\"48\" y1=\"0\" x2=\"48\" y2=\"20\" style=\"stroke:#fee0b7;stroke-width:3;\" /><line x1=\"49\" y1=\"0\" x2=\"49\" y2=\"20\" style=\"stroke:#fee0b6;stroke-width:3;\" /><line x1=\"50\" y1=\"0\" x2=\"50\" y2=\"20\" style=\"stroke:#fee0b6;stroke-width:3;\" /><line x1=\"51\" y1=\"0\" x2=\"51\" y2=\"20\" style=\"stroke:#fedfb5;stroke-width:3;\" /><line x1=\"52\" y1=\"0\" x2=\"52\" y2=\"20\" style=\"stroke:#fedfb4;stroke-width:3;\" /><line x1=\"53\" y1=\"0\" x2=\"53\" y2=\"20\" style=\"stroke:#fedfb4;stroke-width:3;\" /><line x1=\"54\" y1=\"0\" x2=\"54\" y2=\"20\" style=\"stroke:#fedeb3;stroke-width:3;\" /><line x1=\"55\" y1=\"0\" x2=\"55\" y2=\"20\" style=\"stroke:#fedeb2;stroke-width:3;\" /><line x1=\"56\" y1=\"0\" x2=\"56\" y2=\"20\" style=\"stroke:#fedeb1;stroke-width:3;\" /><line x1=\"57\" y1=\"0\" x2=\"57\" y2=\"20\" style=\"stroke:#feddb1;stroke-width:3;\" /><line x1=\"58\" y1=\"0\" x2=\"58\" y2=\"20\" style=\"stroke:#feddb0;stroke-width:3;\" /><line x1=\"59\" y1=\"0\" x2=\"59\" y2=\"20\" style=\"stroke:#fedcaf;stroke-width:3;\" /><line x1=\"60\" y1=\"0\" x2=\"60\" y2=\"20\" style=\"stroke:#fedcaf;stroke-width:3;\" /><line x1=\"61\" y1=\"0\" x2=\"61\" y2=\"20\" style=\"stroke:#fedcae;stroke-width:3;\" /><line x1=\"62\" y1=\"0\" x2=\"62\" y2=\"20\" style=\"stroke:#fedbad;stroke-width:3;\" /><line x1=\"63\" y1=\"0\" x2=\"63\" y2=\"20\" style=\"stroke:#fedbac;stroke-width:3;\" /><line x1=\"64\" y1=\"0\" x2=\"64\" y2=\"20\" style=\"stroke:#fedbac;stroke-width:3;\" /><line x1=\"65\" y1=\"0\" x2=\"65\" y2=\"20\" style=\"stroke:#fedaab;stroke-width:3;\" /><line x1=\"66\" y1=\"0\" x2=\"66\" y2=\"20\" style=\"stroke:#fedaaa;stroke-width:3;\" /><line x1=\"67\" y1=\"0\" x2=\"67\" y2=\"20\" style=\"stroke:#fedaaa;stroke-width:3;\" /><line x1=\"68\" y1=\"0\" x2=\"68\" y2=\"20\" style=\"stroke:#fed9a9;stroke-width:3;\" /><line x1=\"69\" y1=\"0\" x2=\"69\" y2=\"20\" style=\"stroke:#fed9a8;stroke-width:3;\" /><line x1=\"70\" y1=\"0\" x2=\"70\" y2=\"20\" style=\"stroke:#fed9a7;stroke-width:3;\" /><line x1=\"71\" y1=\"0\" x2=\"71\" y2=\"20\" style=\"stroke:#fed8a7;stroke-width:3;\" /><line x1=\"72\" y1=\"0\" x2=\"72\" y2=\"20\" style=\"stroke:#fed8a6;stroke-width:3;\" /><line x1=\"73\" y1=\"0\" x2=\"73\" y2=\"20\" style=\"stroke:#fed8a5;stroke-width:3;\" /><line x1=\"74\" y1=\"0\" x2=\"74\" y2=\"20\" style=\"stroke:#fed7a5;stroke-width:3;\" /><line x1=\"75\" y1=\"0\" x2=\"75\" y2=\"20\" style=\"stroke:#fed7a4;stroke-width:3;\" /><line x1=\"76\" y1=\"0\" x2=\"76\" y2=\"20\" style=\"stroke:#fed7a3;stroke-width:3;\" /><line x1=\"77\" y1=\"0\" x2=\"77\" y2=\"20\" style=\"stroke:#fed6a3;stroke-width:3;\" /><line x1=\"78\" y1=\"0\" x2=\"78\" y2=\"20\" style=\"stroke:#fed6a2;stroke-width:3;\" /><line x1=\"79\" y1=\"0\" x2=\"79\" y2=\"20\" style=\"stroke:#fed6a1;stroke-width:3;\" /><line x1=\"80\" y1=\"0\" x2=\"80\" y2=\"20\" style=\"stroke:#fed5a0;stroke-width:3;\" /><line x1=\"81\" y1=\"0\" x2=\"81\" y2=\"20\" style=\"stroke:#fed5a0;stroke-width:3;\" /><line x1=\"82\" y1=\"0\" x2=\"82\" y2=\"20\" style=\"stroke:#fed59f;stroke-width:3;\" /><line x1=\"83\" y1=\"0\" x2=\"83\" y2=\"20\" style=\"stroke:#fdd49e;stroke-width:3;\" /><line x1=\"84\" y1=\"0\" x2=\"84\" y2=\"20\" style=\"stroke:#fdd49e;stroke-width:3;\" /><line x1=\"85\" y1=\"0\" x2=\"85\" y2=\"20\" style=\"stroke:#fdd49e;stroke-width:3;\" /><line x1=\"86\" y1=\"0\" x2=\"86\" y2=\"20\" style=\"stroke:#fdd39d;stroke-width:3;\" /><line x1=\"87\" y1=\"0\" x2=\"87\" y2=\"20\" style=\"stroke:#fdd39d;stroke-width:3;\" /><line x1=\"88\" y1=\"0\" x2=\"88\" y2=\"20\" style=\"stroke:#fdd39d;stroke-width:3;\" /><line x1=\"89\" y1=\"0\" x2=\"89\" y2=\"20\" style=\"stroke:#fdd39c;stroke-width:3;\" /><line x1=\"90\" y1=\"0\" x2=\"90\" y2=\"20\" style=\"stroke:#fdd29c;stroke-width:3;\" /><line x1=\"91\" y1=\"0\" x2=\"91\" y2=\"20\" style=\"stroke:#fdd29c;stroke-width:3;\" /><line x1=\"92\" y1=\"0\" x2=\"92\" y2=\"20\" style=\"stroke:#fdd29b;stroke-width:3;\" /><line x1=\"93\" y1=\"0\" x2=\"93\" y2=\"20\" style=\"stroke:#fdd19b;stroke-width:3;\" /><line x1=\"94\" y1=\"0\" x2=\"94\" y2=\"20\" style=\"stroke:#fdd19b;stroke-width:3;\" /><line x1=\"95\" y1=\"0\" x2=\"95\" y2=\"20\" style=\"stroke:#fdd19a;stroke-width:3;\" /><line x1=\"96\" y1=\"0\" x2=\"96\" y2=\"20\" style=\"stroke:#fdd09a;stroke-width:3;\" /><line x1=\"97\" y1=\"0\" x2=\"97\" y2=\"20\" style=\"stroke:#fdd09a;stroke-width:3;\" /><line x1=\"98\" y1=\"0\" x2=\"98\" y2=\"20\" style=\"stroke:#fdd099;stroke-width:3;\" /><line x1=\"99\" y1=\"0\" x2=\"99\" y2=\"20\" style=\"stroke:#fdd099;stroke-width:3;\" /><line x1=\"100\" y1=\"0\" x2=\"100\" y2=\"20\" style=\"stroke:#fdcf99;stroke-width:3;\" /><line x1=\"101\" y1=\"0\" x2=\"101\" y2=\"20\" style=\"stroke:#fdcf99;stroke-width:3;\" /><line x1=\"102\" y1=\"0\" x2=\"102\" y2=\"20\" style=\"stroke:#fdcf98;stroke-width:3;\" /><line x1=\"103\" y1=\"0\" x2=\"103\" y2=\"20\" style=\"stroke:#fdce98;stroke-width:3;\" /><line x1=\"104\" y1=\"0\" x2=\"104\" y2=\"20\" style=\"stroke:#fdce98;stroke-width:3;\" /><line x1=\"105\" y1=\"0\" x2=\"105\" y2=\"20\" style=\"stroke:#fdce97;stroke-width:3;\" /><line x1=\"106\" y1=\"0\" x2=\"106\" y2=\"20\" style=\"stroke:#fdcd97;stroke-width:3;\" /><line x1=\"107\" y1=\"0\" x2=\"107\" y2=\"20\" style=\"stroke:#fdcd97;stroke-width:3;\" /><line x1=\"108\" y1=\"0\" x2=\"108\" y2=\"20\" style=\"stroke:#fdcd96;stroke-width:3;\" /><line x1=\"109\" y1=\"0\" x2=\"109\" y2=\"20\" style=\"stroke:#fdcd96;stroke-width:3;\" /><line x1=\"110\" y1=\"0\" x2=\"110\" y2=\"20\" style=\"stroke:#fdcc96;stroke-width:3;\" /><line x1=\"111\" y1=\"0\" x2=\"111\" y2=\"20\" style=\"stroke:#fdcc95;stroke-width:3;\" /><line x1=\"112\" y1=\"0\" x2=\"112\" y2=\"20\" style=\"stroke:#fdcc95;stroke-width:3;\" /><line x1=\"113\" y1=\"0\" x2=\"113\" y2=\"20\" style=\"stroke:#fdcb95;stroke-width:3;\" /><line x1=\"114\" y1=\"0\" x2=\"114\" y2=\"20\" style=\"stroke:#fdcb94;stroke-width:3;\" /><line x1=\"115\" y1=\"0\" x2=\"115\" y2=\"20\" style=\"stroke:#fdcb94;stroke-width:3;\" /><line x1=\"116\" y1=\"0\" x2=\"116\" y2=\"20\" style=\"stroke:#fdca94;stroke-width:3;\" /><line x1=\"117\" y1=\"0\" x2=\"117\" y2=\"20\" style=\"stroke:#fdca94;stroke-width:3;\" /><line x1=\"118\" y1=\"0\" x2=\"118\" y2=\"20\" style=\"stroke:#fdca93;stroke-width:3;\" /><line x1=\"119\" y1=\"0\" x2=\"119\" y2=\"20\" style=\"stroke:#fdca93;stroke-width:3;\" /><line x1=\"120\" y1=\"0\" x2=\"120\" y2=\"20\" style=\"stroke:#fdc993;stroke-width:3;\" /><line x1=\"121\" y1=\"0\" x2=\"121\" y2=\"20\" style=\"stroke:#fdc992;stroke-width:3;\" /><line x1=\"122\" y1=\"0\" x2=\"122\" y2=\"20\" style=\"stroke:#fdc992;stroke-width:3;\" /><line x1=\"123\" y1=\"0\" x2=\"123\" y2=\"20\" style=\"stroke:#fdc892;stroke-width:3;\" /><line x1=\"124\" y1=\"0\" x2=\"124\" y2=\"20\" style=\"stroke:#fdc891;stroke-width:3;\" /><line x1=\"125\" y1=\"0\" x2=\"125\" y2=\"20\" style=\"stroke:#fdc891;stroke-width:3;\" /><line x1=\"126\" y1=\"0\" x2=\"126\" y2=\"20\" style=\"stroke:#fdc791;stroke-width:3;\" /><line x1=\"127\" y1=\"0\" x2=\"127\" y2=\"20\" style=\"stroke:#fdc790;stroke-width:3;\" /><line x1=\"128\" y1=\"0\" x2=\"128\" y2=\"20\" style=\"stroke:#fdc790;stroke-width:3;\" /><line x1=\"129\" y1=\"0\" x2=\"129\" y2=\"20\" style=\"stroke:#fdc690;stroke-width:3;\" /><line x1=\"130\" y1=\"0\" x2=\"130\" y2=\"20\" style=\"stroke:#fdc68f;stroke-width:3;\" /><line x1=\"131\" y1=\"0\" x2=\"131\" y2=\"20\" style=\"stroke:#fdc68f;stroke-width:3;\" /><line x1=\"132\" y1=\"0\" x2=\"132\" y2=\"20\" style=\"stroke:#fdc68f;stroke-width:3;\" /><line x1=\"133\" y1=\"0\" x2=\"133\" y2=\"20\" style=\"stroke:#fdc58e;stroke-width:3;\" /><line x1=\"134\" y1=\"0\" x2=\"134\" y2=\"20\" style=\"stroke:#fdc58e;stroke-width:3;\" /><line x1=\"135\" y1=\"0\" x2=\"135\" y2=\"20\" style=\"stroke:#fdc58e;stroke-width:3;\" /><line x1=\"136\" y1=\"0\" x2=\"136\" y2=\"20\" style=\"stroke:#fdc48e;stroke-width:3;\" /><line x1=\"137\" y1=\"0\" x2=\"137\" y2=\"20\" style=\"stroke:#fdc48d;stroke-width:3;\" /><line x1=\"138\" y1=\"0\" x2=\"138\" y2=\"20\" style=\"stroke:#fdc48d;stroke-width:3;\" /><line x1=\"139\" y1=\"0\" x2=\"139\" y2=\"20\" style=\"stroke:#fdc38d;stroke-width:3;\" /><line x1=\"140\" y1=\"0\" x2=\"140\" y2=\"20\" style=\"stroke:#fdc38c;stroke-width:3;\" /><line x1=\"141\" y1=\"0\" x2=\"141\" y2=\"20\" style=\"stroke:#fdc38c;stroke-width:3;\" /><line x1=\"142\" y1=\"0\" x2=\"142\" y2=\"20\" style=\"stroke:#fdc38c;stroke-width:3;\" /><line x1=\"143\" y1=\"0\" x2=\"143\" y2=\"20\" style=\"stroke:#fdc28b;stroke-width:3;\" /><line x1=\"144\" y1=\"0\" x2=\"144\" y2=\"20\" style=\"stroke:#fdc28b;stroke-width:3;\" /><line x1=\"145\" y1=\"0\" x2=\"145\" y2=\"20\" style=\"stroke:#fdc28b;stroke-width:3;\" /><line x1=\"146\" y1=\"0\" x2=\"146\" y2=\"20\" style=\"stroke:#fdc18a;stroke-width:3;\" /><line x1=\"147\" y1=\"0\" x2=\"147\" y2=\"20\" style=\"stroke:#fdc18a;stroke-width:3;\" /><line x1=\"148\" y1=\"0\" x2=\"148\" y2=\"20\" style=\"stroke:#fdc18a;stroke-width:3;\" /><line x1=\"149\" y1=\"0\" x2=\"149\" y2=\"20\" style=\"stroke:#fdc089;stroke-width:3;\" /><line x1=\"150\" y1=\"0\" x2=\"150\" y2=\"20\" style=\"stroke:#fdc089;stroke-width:3;\" /><line x1=\"151\" y1=\"0\" x2=\"151\" y2=\"20\" style=\"stroke:#fdc089;stroke-width:3;\" /><line x1=\"152\" y1=\"0\" x2=\"152\" y2=\"20\" style=\"stroke:#fdc089;stroke-width:3;\" /><line x1=\"153\" y1=\"0\" x2=\"153\" y2=\"20\" style=\"stroke:#fdbf88;stroke-width:3;\" /><line x1=\"154\" y1=\"0\" x2=\"154\" y2=\"20\" style=\"stroke:#fdbf88;stroke-width:3;\" /><line x1=\"155\" y1=\"0\" x2=\"155\" y2=\"20\" style=\"stroke:#fdbf88;stroke-width:3;\" /><line x1=\"156\" y1=\"0\" x2=\"156\" y2=\"20\" style=\"stroke:#fdbe87;stroke-width:3;\" /><line x1=\"157\" y1=\"0\" x2=\"157\" y2=\"20\" style=\"stroke:#fdbe87;stroke-width:3;\" /><line x1=\"158\" y1=\"0\" x2=\"158\" y2=\"20\" style=\"stroke:#fdbe87;stroke-width:3;\" /><line x1=\"159\" y1=\"0\" x2=\"159\" y2=\"20\" style=\"stroke:#fdbd86;stroke-width:3;\" /><line x1=\"160\" y1=\"0\" x2=\"160\" y2=\"20\" style=\"stroke:#fdbd86;stroke-width:3;\" /><line x1=\"161\" y1=\"0\" x2=\"161\" y2=\"20\" style=\"stroke:#fdbd86;stroke-width:3;\" /><line x1=\"162\" y1=\"0\" x2=\"162\" y2=\"20\" style=\"stroke:#fdbd85;stroke-width:3;\" /><line x1=\"163\" y1=\"0\" x2=\"163\" y2=\"20\" style=\"stroke:#fdbc85;stroke-width:3;\" /><line x1=\"164\" y1=\"0\" x2=\"164\" y2=\"20\" style=\"stroke:#fdbc85;stroke-width:3;\" /><line x1=\"165\" y1=\"0\" x2=\"165\" y2=\"20\" style=\"stroke:#fdbc84;stroke-width:3;\" /><line x1=\"166\" y1=\"0\" x2=\"166\" y2=\"20\" style=\"stroke:#fdbb84;stroke-width:3;\" /><line x1=\"167\" y1=\"0\" x2=\"167\" y2=\"20\" style=\"stroke:#fdbb84;stroke-width:3;\" /><line x1=\"168\" y1=\"0\" x2=\"168\" y2=\"20\" style=\"stroke:#fdba83;stroke-width:3;\" /><line x1=\"169\" y1=\"0\" x2=\"169\" y2=\"20\" style=\"stroke:#fdba83;stroke-width:3;\" /><line x1=\"170\" y1=\"0\" x2=\"170\" y2=\"20\" style=\"stroke:#fdb982;stroke-width:3;\" /><line x1=\"171\" y1=\"0\" x2=\"171\" y2=\"20\" style=\"stroke:#fdb982;stroke-width:3;\" /><line x1=\"172\" y1=\"0\" x2=\"172\" y2=\"20\" style=\"stroke:#fdb881;stroke-width:3;\" /><line x1=\"173\" y1=\"0\" x2=\"173\" y2=\"20\" style=\"stroke:#fdb881;stroke-width:3;\" /><line x1=\"174\" y1=\"0\" x2=\"174\" y2=\"20\" style=\"stroke:#fdb780;stroke-width:3;\" /><line x1=\"175\" y1=\"0\" x2=\"175\" y2=\"20\" style=\"stroke:#fdb680;stroke-width:3;\" /><line x1=\"176\" y1=\"0\" x2=\"176\" y2=\"20\" style=\"stroke:#fdb67f;stroke-width:3;\" /><line x1=\"177\" y1=\"0\" x2=\"177\" y2=\"20\" style=\"stroke:#fdb57e;stroke-width:3;\" /><line x1=\"178\" y1=\"0\" x2=\"178\" y2=\"20\" style=\"stroke:#fdb57e;stroke-width:3;\" /><line x1=\"179\" y1=\"0\" x2=\"179\" y2=\"20\" style=\"stroke:#fdb47d;stroke-width:3;\" /><line x1=\"180\" y1=\"0\" x2=\"180\" y2=\"20\" style=\"stroke:#fdb47d;stroke-width:3;\" /><line x1=\"181\" y1=\"0\" x2=\"181\" y2=\"20\" style=\"stroke:#fdb37c;stroke-width:3;\" /><line x1=\"182\" y1=\"0\" x2=\"182\" y2=\"20\" style=\"stroke:#fdb37c;stroke-width:3;\" /><line x1=\"183\" y1=\"0\" x2=\"183\" y2=\"20\" style=\"stroke:#fdb27b;stroke-width:3;\" /><line x1=\"184\" y1=\"0\" x2=\"184\" y2=\"20\" style=\"stroke:#fdb17b;stroke-width:3;\" /><line x1=\"185\" y1=\"0\" x2=\"185\" y2=\"20\" style=\"stroke:#fdb17a;stroke-width:3;\" /><line x1=\"186\" y1=\"0\" x2=\"186\" y2=\"20\" style=\"stroke:#fdb07a;stroke-width:3;\" /><line x1=\"187\" y1=\"0\" x2=\"187\" y2=\"20\" style=\"stroke:#fdb079;stroke-width:3;\" /><line x1=\"188\" y1=\"0\" x2=\"188\" y2=\"20\" style=\"stroke:#fdaf79;stroke-width:3;\" /><line x1=\"189\" y1=\"0\" x2=\"189\" y2=\"20\" style=\"stroke:#fdaf78;stroke-width:3;\" /><line x1=\"190\" y1=\"0\" x2=\"190\" y2=\"20\" style=\"stroke:#fdae78;stroke-width:3;\" /><line x1=\"191\" y1=\"0\" x2=\"191\" y2=\"20\" style=\"stroke:#fdae77;stroke-width:3;\" /><line x1=\"192\" y1=\"0\" x2=\"192\" y2=\"20\" style=\"stroke:#fdad77;stroke-width:3;\" /><line x1=\"193\" y1=\"0\" x2=\"193\" y2=\"20\" style=\"stroke:#fdac76;stroke-width:3;\" /><line x1=\"194\" y1=\"0\" x2=\"194\" y2=\"20\" style=\"stroke:#fdac76;stroke-width:3;\" /><line x1=\"195\" y1=\"0\" x2=\"195\" y2=\"20\" style=\"stroke:#fdab75;stroke-width:3;\" /><line x1=\"196\" y1=\"0\" x2=\"196\" y2=\"20\" style=\"stroke:#fdab75;stroke-width:3;\" /><line x1=\"197\" y1=\"0\" x2=\"197\" y2=\"20\" style=\"stroke:#fdaa74;stroke-width:3;\" /><line x1=\"198\" y1=\"0\" x2=\"198\" y2=\"20\" style=\"stroke:#fdaa74;stroke-width:3;\" /><line x1=\"199\" y1=\"0\" x2=\"199\" y2=\"20\" style=\"stroke:#fda973;stroke-width:3;\" /><line x1=\"200\" y1=\"0\" x2=\"200\" y2=\"20\" style=\"stroke:#fda973;stroke-width:3;\" /><line x1=\"201\" y1=\"0\" x2=\"201\" y2=\"20\" style=\"stroke:#fda872;stroke-width:3;\" /><line x1=\"202\" y1=\"0\" x2=\"202\" y2=\"20\" style=\"stroke:#fda772;stroke-width:3;\" /><line x1=\"203\" y1=\"0\" x2=\"203\" y2=\"20\" style=\"stroke:#fda771;stroke-width:3;\" /><line x1=\"204\" y1=\"0\" x2=\"204\" y2=\"20\" style=\"stroke:#fda670;stroke-width:3;\" /><line x1=\"205\" y1=\"0\" x2=\"205\" y2=\"20\" style=\"stroke:#fda670;stroke-width:3;\" /><line x1=\"206\" y1=\"0\" x2=\"206\" y2=\"20\" style=\"stroke:#fda56f;stroke-width:3;\" /><line x1=\"207\" y1=\"0\" x2=\"207\" y2=\"20\" style=\"stroke:#fda56f;stroke-width:3;\" /><line x1=\"208\" y1=\"0\" x2=\"208\" y2=\"20\" style=\"stroke:#fda46e;stroke-width:3;\" /><line x1=\"209\" y1=\"0\" x2=\"209\" y2=\"20\" style=\"stroke:#fda46e;stroke-width:3;\" /><line x1=\"210\" y1=\"0\" x2=\"210\" y2=\"20\" style=\"stroke:#fda36d;stroke-width:3;\" /><line x1=\"211\" y1=\"0\" x2=\"211\" y2=\"20\" style=\"stroke:#fda26d;stroke-width:3;\" /><line x1=\"212\" y1=\"0\" x2=\"212\" y2=\"20\" style=\"stroke:#fda26c;stroke-width:3;\" /><line x1=\"213\" y1=\"0\" x2=\"213\" y2=\"20\" style=\"stroke:#fda16c;stroke-width:3;\" /><line x1=\"214\" y1=\"0\" x2=\"214\" y2=\"20\" style=\"stroke:#fda16b;stroke-width:3;\" /><line x1=\"215\" y1=\"0\" x2=\"215\" y2=\"20\" style=\"stroke:#fda06b;stroke-width:3;\" /><line x1=\"216\" y1=\"0\" x2=\"216\" y2=\"20\" style=\"stroke:#fda06a;stroke-width:3;\" /><line x1=\"217\" y1=\"0\" x2=\"217\" y2=\"20\" style=\"stroke:#fd9f6a;stroke-width:3;\" /><line x1=\"218\" y1=\"0\" x2=\"218\" y2=\"20\" style=\"stroke:#fd9f69;stroke-width:3;\" /><line x1=\"219\" y1=\"0\" x2=\"219\" y2=\"20\" style=\"stroke:#fd9e69;stroke-width:3;\" /><line x1=\"220\" y1=\"0\" x2=\"220\" y2=\"20\" style=\"stroke:#fd9d68;stroke-width:3;\" /><line x1=\"221\" y1=\"0\" x2=\"221\" y2=\"20\" style=\"stroke:#fd9d68;stroke-width:3;\" /><line x1=\"222\" y1=\"0\" x2=\"222\" y2=\"20\" style=\"stroke:#fd9c67;stroke-width:3;\" /><line x1=\"223\" y1=\"0\" x2=\"223\" y2=\"20\" style=\"stroke:#fd9c67;stroke-width:3;\" /><line x1=\"224\" y1=\"0\" x2=\"224\" y2=\"20\" style=\"stroke:#fd9b66;stroke-width:3;\" /><line x1=\"225\" y1=\"0\" x2=\"225\" y2=\"20\" style=\"stroke:#fd9b66;stroke-width:3;\" /><line x1=\"226\" y1=\"0\" x2=\"226\" y2=\"20\" style=\"stroke:#fd9a65;stroke-width:3;\" /><line x1=\"227\" y1=\"0\" x2=\"227\" y2=\"20\" style=\"stroke:#fd9a65;stroke-width:3;\" /><line x1=\"228\" y1=\"0\" x2=\"228\" y2=\"20\" style=\"stroke:#fd9964;stroke-width:3;\" /><line x1=\"229\" y1=\"0\" x2=\"229\" y2=\"20\" style=\"stroke:#fd9863;stroke-width:3;\" /><line x1=\"230\" y1=\"0\" x2=\"230\" y2=\"20\" style=\"stroke:#fd9863;stroke-width:3;\" /><line x1=\"231\" y1=\"0\" x2=\"231\" y2=\"20\" style=\"stroke:#fd9762;stroke-width:3;\" /><line x1=\"232\" y1=\"0\" x2=\"232\" y2=\"20\" style=\"stroke:#fd9762;stroke-width:3;\" /><line x1=\"233\" y1=\"0\" x2=\"233\" y2=\"20\" style=\"stroke:#fd9661;stroke-width:3;\" /><line x1=\"234\" y1=\"0\" x2=\"234\" y2=\"20\" style=\"stroke:#fd9661;stroke-width:3;\" /><line x1=\"235\" y1=\"0\" x2=\"235\" y2=\"20\" style=\"stroke:#fd9560;stroke-width:3;\" /><line x1=\"236\" y1=\"0\" x2=\"236\" y2=\"20\" style=\"stroke:#fd9560;stroke-width:3;\" /><line x1=\"237\" y1=\"0\" x2=\"237\" y2=\"20\" style=\"stroke:#fd945f;stroke-width:3;\" /><line x1=\"238\" y1=\"0\" x2=\"238\" y2=\"20\" style=\"stroke:#fd935f;stroke-width:3;\" /><line x1=\"239\" y1=\"0\" x2=\"239\" y2=\"20\" style=\"stroke:#fd935e;stroke-width:3;\" /><line x1=\"240\" y1=\"0\" x2=\"240\" y2=\"20\" style=\"stroke:#fd925e;stroke-width:3;\" /><line x1=\"241\" y1=\"0\" x2=\"241\" y2=\"20\" style=\"stroke:#fd925d;stroke-width:3;\" /><line x1=\"242\" y1=\"0\" x2=\"242\" y2=\"20\" style=\"stroke:#fd915d;stroke-width:3;\" /><line x1=\"243\" y1=\"0\" x2=\"243\" y2=\"20\" style=\"stroke:#fd915c;stroke-width:3;\" /><line x1=\"244\" y1=\"0\" x2=\"244\" y2=\"20\" style=\"stroke:#fd905c;stroke-width:3;\" /><line x1=\"245\" y1=\"0\" x2=\"245\" y2=\"20\" style=\"stroke:#fd905b;stroke-width:3;\" /><line x1=\"246\" y1=\"0\" x2=\"246\" y2=\"20\" style=\"stroke:#fd8f5b;stroke-width:3;\" /><line x1=\"247\" y1=\"0\" x2=\"247\" y2=\"20\" style=\"stroke:#fd8e5a;stroke-width:3;\" /><line x1=\"248\" y1=\"0\" x2=\"248\" y2=\"20\" style=\"stroke:#fd8e5a;stroke-width:3;\" /><line x1=\"249\" y1=\"0\" x2=\"249\" y2=\"20\" style=\"stroke:#fc8d59;stroke-width:3;\" /><line x1=\"250\" y1=\"0\" x2=\"250\" y2=\"20\" style=\"stroke:#fc8d59;stroke-width:3;\" /><line x1=\"251\" y1=\"0\" x2=\"251\" y2=\"20\" style=\"stroke:#fc8c59;stroke-width:3;\" /><line x1=\"252\" y1=\"0\" x2=\"252\" y2=\"20\" style=\"stroke:#fc8c58;stroke-width:3;\" /><line x1=\"253\" y1=\"0\" x2=\"253\" y2=\"20\" style=\"stroke:#fc8b58;stroke-width:3;\" /><line x1=\"254\" y1=\"0\" x2=\"254\" y2=\"20\" style=\"stroke:#fc8b58;stroke-width:3;\" /><line x1=\"255\" y1=\"0\" x2=\"255\" y2=\"20\" style=\"stroke:#fc8a58;stroke-width:3;\" /><line x1=\"256\" y1=\"0\" x2=\"256\" y2=\"20\" style=\"stroke:#fb8a58;stroke-width:3;\" /><line x1=\"257\" y1=\"0\" x2=\"257\" y2=\"20\" style=\"stroke:#fb8957;stroke-width:3;\" /><line x1=\"258\" y1=\"0\" x2=\"258\" y2=\"20\" style=\"stroke:#fb8957;stroke-width:3;\" /><line x1=\"259\" y1=\"0\" x2=\"259\" y2=\"20\" style=\"stroke:#fb8857;stroke-width:3;\" /><line x1=\"260\" y1=\"0\" x2=\"260\" y2=\"20\" style=\"stroke:#fb8857;stroke-width:3;\" /><line x1=\"261\" y1=\"0\" x2=\"261\" y2=\"20\" style=\"stroke:#fb8856;stroke-width:3;\" /><line x1=\"262\" y1=\"0\" x2=\"262\" y2=\"20\" style=\"stroke:#fb8756;stroke-width:3;\" /><line x1=\"263\" y1=\"0\" x2=\"263\" y2=\"20\" style=\"stroke:#fa8756;stroke-width:3;\" /><line x1=\"264\" y1=\"0\" x2=\"264\" y2=\"20\" style=\"stroke:#fa8656;stroke-width:3;\" /><line x1=\"265\" y1=\"0\" x2=\"265\" y2=\"20\" style=\"stroke:#fa8656;stroke-width:3;\" /><line x1=\"266\" y1=\"0\" x2=\"266\" y2=\"20\" style=\"stroke:#fa8555;stroke-width:3;\" /><line x1=\"267\" y1=\"0\" x2=\"267\" y2=\"20\" style=\"stroke:#fa8555;stroke-width:3;\" /><line x1=\"268\" y1=\"0\" x2=\"268\" y2=\"20\" style=\"stroke:#fa8455;stroke-width:3;\" /><line x1=\"269\" y1=\"0\" x2=\"269\" y2=\"20\" style=\"stroke:#f98455;stroke-width:3;\" /><line x1=\"270\" y1=\"0\" x2=\"270\" y2=\"20\" style=\"stroke:#f98355;stroke-width:3;\" /><line x1=\"271\" y1=\"0\" x2=\"271\" y2=\"20\" style=\"stroke:#f98354;stroke-width:3;\" /><line x1=\"272\" y1=\"0\" x2=\"272\" y2=\"20\" style=\"stroke:#f98254;stroke-width:3;\" /><line x1=\"273\" y1=\"0\" x2=\"273\" y2=\"20\" style=\"stroke:#f98254;stroke-width:3;\" /><line x1=\"274\" y1=\"0\" x2=\"274\" y2=\"20\" style=\"stroke:#f98154;stroke-width:3;\" /><line x1=\"275\" y1=\"0\" x2=\"275\" y2=\"20\" style=\"stroke:#f88154;stroke-width:3;\" /><line x1=\"276\" y1=\"0\" x2=\"276\" y2=\"20\" style=\"stroke:#f88053;stroke-width:3;\" /><line x1=\"277\" y1=\"0\" x2=\"277\" y2=\"20\" style=\"stroke:#f88053;stroke-width:3;\" /><line x1=\"278\" y1=\"0\" x2=\"278\" y2=\"20\" style=\"stroke:#f87f53;stroke-width:3;\" /><line x1=\"279\" y1=\"0\" x2=\"279\" y2=\"20\" style=\"stroke:#f87f53;stroke-width:3;\" /><line x1=\"280\" y1=\"0\" x2=\"280\" y2=\"20\" style=\"stroke:#f87e53;stroke-width:3;\" /><line x1=\"281\" y1=\"0\" x2=\"281\" y2=\"20\" style=\"stroke:#f87e52;stroke-width:3;\" /><line x1=\"282\" y1=\"0\" x2=\"282\" y2=\"20\" style=\"stroke:#f77d52;stroke-width:3;\" /><line x1=\"283\" y1=\"0\" x2=\"283\" y2=\"20\" style=\"stroke:#f77d52;stroke-width:3;\" /><line x1=\"284\" y1=\"0\" x2=\"284\" y2=\"20\" style=\"stroke:#f77c52;stroke-width:3;\" /><line x1=\"285\" y1=\"0\" x2=\"285\" y2=\"20\" style=\"stroke:#f77c52;stroke-width:3;\" /><line x1=\"286\" y1=\"0\" x2=\"286\" y2=\"20\" style=\"stroke:#f77b51;stroke-width:3;\" /><line x1=\"287\" y1=\"0\" x2=\"287\" y2=\"20\" style=\"stroke:#f77b51;stroke-width:3;\" /><line x1=\"288\" y1=\"0\" x2=\"288\" y2=\"20\" style=\"stroke:#f67a51;stroke-width:3;\" /><line x1=\"289\" y1=\"0\" x2=\"289\" y2=\"20\" style=\"stroke:#f67a51;stroke-width:3;\" /><line x1=\"290\" y1=\"0\" x2=\"290\" y2=\"20\" style=\"stroke:#f67951;stroke-width:3;\" /><line x1=\"291\" y1=\"0\" x2=\"291\" y2=\"20\" style=\"stroke:#f67950;stroke-width:3;\" /><line x1=\"292\" y1=\"0\" x2=\"292\" y2=\"20\" style=\"stroke:#f67950;stroke-width:3;\" /><line x1=\"293\" y1=\"0\" x2=\"293\" y2=\"20\" style=\"stroke:#f67850;stroke-width:3;\" /><line x1=\"294\" y1=\"0\" x2=\"294\" y2=\"20\" style=\"stroke:#f67850;stroke-width:3;\" /><line x1=\"295\" y1=\"0\" x2=\"295\" y2=\"20\" style=\"stroke:#f57750;stroke-width:3;\" /><line x1=\"296\" y1=\"0\" x2=\"296\" y2=\"20\" style=\"stroke:#f5774f;stroke-width:3;\" /><line x1=\"297\" y1=\"0\" x2=\"297\" y2=\"20\" style=\"stroke:#f5764f;stroke-width:3;\" /><line x1=\"298\" y1=\"0\" x2=\"298\" y2=\"20\" style=\"stroke:#f5764f;stroke-width:3;\" /><line x1=\"299\" y1=\"0\" x2=\"299\" y2=\"20\" style=\"stroke:#f5754f;stroke-width:3;\" /><line x1=\"300\" y1=\"0\" x2=\"300\" y2=\"20\" style=\"stroke:#f5754e;stroke-width:3;\" /><line x1=\"301\" y1=\"0\" x2=\"301\" y2=\"20\" style=\"stroke:#f4744e;stroke-width:3;\" /><line x1=\"302\" y1=\"0\" x2=\"302\" y2=\"20\" style=\"stroke:#f4744e;stroke-width:3;\" /><line x1=\"303\" y1=\"0\" x2=\"303\" y2=\"20\" style=\"stroke:#f4734e;stroke-width:3;\" /><line x1=\"304\" y1=\"0\" x2=\"304\" y2=\"20\" style=\"stroke:#f4734e;stroke-width:3;\" /><line x1=\"305\" y1=\"0\" x2=\"305\" y2=\"20\" style=\"stroke:#f4724d;stroke-width:3;\" /><line x1=\"306\" y1=\"0\" x2=\"306\" y2=\"20\" style=\"stroke:#f4724d;stroke-width:3;\" /><line x1=\"307\" y1=\"0\" x2=\"307\" y2=\"20\" style=\"stroke:#f3714d;stroke-width:3;\" /><line x1=\"308\" y1=\"0\" x2=\"308\" y2=\"20\" style=\"stroke:#f3714d;stroke-width:3;\" /><line x1=\"309\" y1=\"0\" x2=\"309\" y2=\"20\" style=\"stroke:#f3704d;stroke-width:3;\" /><line x1=\"310\" y1=\"0\" x2=\"310\" y2=\"20\" style=\"stroke:#f3704c;stroke-width:3;\" /><line x1=\"311\" y1=\"0\" x2=\"311\" y2=\"20\" style=\"stroke:#f36f4c;stroke-width:3;\" /><line x1=\"312\" y1=\"0\" x2=\"312\" y2=\"20\" style=\"stroke:#f36f4c;stroke-width:3;\" /><line x1=\"313\" y1=\"0\" x2=\"313\" y2=\"20\" style=\"stroke:#f36e4c;stroke-width:3;\" /><line x1=\"314\" y1=\"0\" x2=\"314\" y2=\"20\" style=\"stroke:#f26e4c;stroke-width:3;\" /><line x1=\"315\" y1=\"0\" x2=\"315\" y2=\"20\" style=\"stroke:#f26d4b;stroke-width:3;\" /><line x1=\"316\" y1=\"0\" x2=\"316\" y2=\"20\" style=\"stroke:#f26d4b;stroke-width:3;\" /><line x1=\"317\" y1=\"0\" x2=\"317\" y2=\"20\" style=\"stroke:#f26c4b;stroke-width:3;\" /><line x1=\"318\" y1=\"0\" x2=\"318\" y2=\"20\" style=\"stroke:#f26c4b;stroke-width:3;\" /><line x1=\"319\" y1=\"0\" x2=\"319\" y2=\"20\" style=\"stroke:#f26b4b;stroke-width:3;\" /><line x1=\"320\" y1=\"0\" x2=\"320\" y2=\"20\" style=\"stroke:#f16b4a;stroke-width:3;\" /><line x1=\"321\" y1=\"0\" x2=\"321\" y2=\"20\" style=\"stroke:#f16b4a;stroke-width:3;\" /><line x1=\"322\" y1=\"0\" x2=\"322\" y2=\"20\" style=\"stroke:#f16a4a;stroke-width:3;\" /><line x1=\"323\" y1=\"0\" x2=\"323\" y2=\"20\" style=\"stroke:#f16a4a;stroke-width:3;\" /><line x1=\"324\" y1=\"0\" x2=\"324\" y2=\"20\" style=\"stroke:#f1694a;stroke-width:3;\" /><line x1=\"325\" y1=\"0\" x2=\"325\" y2=\"20\" style=\"stroke:#f16949;stroke-width:3;\" /><line x1=\"326\" y1=\"0\" x2=\"326\" y2=\"20\" style=\"stroke:#f06849;stroke-width:3;\" /><line x1=\"327\" y1=\"0\" x2=\"327\" y2=\"20\" style=\"stroke:#f06849;stroke-width:3;\" /><line x1=\"328\" y1=\"0\" x2=\"328\" y2=\"20\" style=\"stroke:#f06749;stroke-width:3;\" /><line x1=\"329\" y1=\"0\" x2=\"329\" y2=\"20\" style=\"stroke:#f06749;stroke-width:3;\" /><line x1=\"330\" y1=\"0\" x2=\"330\" y2=\"20\" style=\"stroke:#f06648;stroke-width:3;\" /><line x1=\"331\" y1=\"0\" x2=\"331\" y2=\"20\" style=\"stroke:#f06648;stroke-width:3;\" /><line x1=\"332\" y1=\"0\" x2=\"332\" y2=\"20\" style=\"stroke:#f06548;stroke-width:3;\" /><line x1=\"333\" y1=\"0\" x2=\"333\" y2=\"20\" style=\"stroke:#ef6548;stroke-width:3;\" /><line x1=\"334\" y1=\"0\" x2=\"334\" y2=\"20\" style=\"stroke:#ef6447;stroke-width:3;\" /><line x1=\"335\" y1=\"0\" x2=\"335\" y2=\"20\" style=\"stroke:#ef6347;stroke-width:3;\" /><line x1=\"336\" y1=\"0\" x2=\"336\" y2=\"20\" style=\"stroke:#ee6346;stroke-width:3;\" /><line x1=\"337\" y1=\"0\" x2=\"337\" y2=\"20\" style=\"stroke:#ee6246;stroke-width:3;\" /><line x1=\"338\" y1=\"0\" x2=\"338\" y2=\"20\" style=\"stroke:#ee6145;stroke-width:3;\" /><line x1=\"339\" y1=\"0\" x2=\"339\" y2=\"20\" style=\"stroke:#ee6145;stroke-width:3;\" /><line x1=\"340\" y1=\"0\" x2=\"340\" y2=\"20\" style=\"stroke:#ed6044;stroke-width:3;\" /><line x1=\"341\" y1=\"0\" x2=\"341\" y2=\"20\" style=\"stroke:#ed6044;stroke-width:3;\" /><line x1=\"342\" y1=\"0\" x2=\"342\" y2=\"20\" style=\"stroke:#ed5f43;stroke-width:3;\" /><line x1=\"343\" y1=\"0\" x2=\"343\" y2=\"20\" style=\"stroke:#ec5e43;stroke-width:3;\" /><line x1=\"344\" y1=\"0\" x2=\"344\" y2=\"20\" style=\"stroke:#ec5e42;stroke-width:3;\" /><line x1=\"345\" y1=\"0\" x2=\"345\" y2=\"20\" style=\"stroke:#ec5d42;stroke-width:3;\" /><line x1=\"346\" y1=\"0\" x2=\"346\" y2=\"20\" style=\"stroke:#ec5c41;stroke-width:3;\" /><line x1=\"347\" y1=\"0\" x2=\"347\" y2=\"20\" style=\"stroke:#eb5c41;stroke-width:3;\" /><line x1=\"348\" y1=\"0\" x2=\"348\" y2=\"20\" style=\"stroke:#eb5b40;stroke-width:3;\" /><line x1=\"349\" y1=\"0\" x2=\"349\" y2=\"20\" style=\"stroke:#eb5a40;stroke-width:3;\" /><line x1=\"350\" y1=\"0\" x2=\"350\" y2=\"20\" style=\"stroke:#ea5a3f;stroke-width:3;\" /><line x1=\"351\" y1=\"0\" x2=\"351\" y2=\"20\" style=\"stroke:#ea593f;stroke-width:3;\" /><line x1=\"352\" y1=\"0\" x2=\"352\" y2=\"20\" style=\"stroke:#ea593e;stroke-width:3;\" /><line x1=\"353\" y1=\"0\" x2=\"353\" y2=\"20\" style=\"stroke:#ea583e;stroke-width:3;\" /><line x1=\"354\" y1=\"0\" x2=\"354\" y2=\"20\" style=\"stroke:#e9573d;stroke-width:3;\" /><line x1=\"355\" y1=\"0\" x2=\"355\" y2=\"20\" style=\"stroke:#e9573d;stroke-width:3;\" /><line x1=\"356\" y1=\"0\" x2=\"356\" y2=\"20\" style=\"stroke:#e9563c;stroke-width:3;\" /><line x1=\"357\" y1=\"0\" x2=\"357\" y2=\"20\" style=\"stroke:#e8553c;stroke-width:3;\" /><line x1=\"358\" y1=\"0\" x2=\"358\" y2=\"20\" style=\"stroke:#e8553b;stroke-width:3;\" /><line x1=\"359\" y1=\"0\" x2=\"359\" y2=\"20\" style=\"stroke:#e8543b;stroke-width:3;\" /><line x1=\"360\" y1=\"0\" x2=\"360\" y2=\"20\" style=\"stroke:#e8533a;stroke-width:3;\" /><line x1=\"361\" y1=\"0\" x2=\"361\" y2=\"20\" style=\"stroke:#e7533a;stroke-width:3;\" /><line x1=\"362\" y1=\"0\" x2=\"362\" y2=\"20\" style=\"stroke:#e75239;stroke-width:3;\" /><line x1=\"363\" y1=\"0\" x2=\"363\" y2=\"20\" style=\"stroke:#e75139;stroke-width:3;\" /><line x1=\"364\" y1=\"0\" x2=\"364\" y2=\"20\" style=\"stroke:#e65138;stroke-width:3;\" /><line x1=\"365\" y1=\"0\" x2=\"365\" y2=\"20\" style=\"stroke:#e65038;stroke-width:3;\" /><line x1=\"366\" y1=\"0\" x2=\"366\" y2=\"20\" style=\"stroke:#e65037;stroke-width:3;\" /><line x1=\"367\" y1=\"0\" x2=\"367\" y2=\"20\" style=\"stroke:#e54f37;stroke-width:3;\" /><line x1=\"368\" y1=\"0\" x2=\"368\" y2=\"20\" style=\"stroke:#e54e36;stroke-width:3;\" /><line x1=\"369\" y1=\"0\" x2=\"369\" y2=\"20\" style=\"stroke:#e54e36;stroke-width:3;\" /><line x1=\"370\" y1=\"0\" x2=\"370\" y2=\"20\" style=\"stroke:#e54d35;stroke-width:3;\" /><line x1=\"371\" y1=\"0\" x2=\"371\" y2=\"20\" style=\"stroke:#e44c35;stroke-width:3;\" /><line x1=\"372\" y1=\"0\" x2=\"372\" y2=\"20\" style=\"stroke:#e44c34;stroke-width:3;\" /><line x1=\"373\" y1=\"0\" x2=\"373\" y2=\"20\" style=\"stroke:#e44b34;stroke-width:3;\" /><line x1=\"374\" y1=\"0\" x2=\"374\" y2=\"20\" style=\"stroke:#e34a33;stroke-width:3;\" /><line x1=\"375\" y1=\"0\" x2=\"375\" y2=\"20\" style=\"stroke:#e34a33;stroke-width:3;\" /><line x1=\"376\" y1=\"0\" x2=\"376\" y2=\"20\" style=\"stroke:#e34932;stroke-width:3;\" /><line x1=\"377\" y1=\"0\" x2=\"377\" y2=\"20\" style=\"stroke:#e34932;stroke-width:3;\" /><line x1=\"378\" y1=\"0\" x2=\"378\" y2=\"20\" style=\"stroke:#e24831;stroke-width:3;\" /><line x1=\"379\" y1=\"0\" x2=\"379\" y2=\"20\" style=\"stroke:#e24731;stroke-width:3;\" /><line x1=\"380\" y1=\"0\" x2=\"380\" y2=\"20\" style=\"stroke:#e24730;stroke-width:3;\" /><line x1=\"381\" y1=\"0\" x2=\"381\" y2=\"20\" style=\"stroke:#e14630;stroke-width:3;\" /><line x1=\"382\" y1=\"0\" x2=\"382\" y2=\"20\" style=\"stroke:#e1452f;stroke-width:3;\" /><line x1=\"383\" y1=\"0\" x2=\"383\" y2=\"20\" style=\"stroke:#e1452f;stroke-width:3;\" /><line x1=\"384\" y1=\"0\" x2=\"384\" y2=\"20\" style=\"stroke:#e1442e;stroke-width:3;\" /><line x1=\"385\" y1=\"0\" x2=\"385\" y2=\"20\" style=\"stroke:#e0432e;stroke-width:3;\" /><line x1=\"386\" y1=\"0\" x2=\"386\" y2=\"20\" style=\"stroke:#e0432d;stroke-width:3;\" /><line x1=\"387\" y1=\"0\" x2=\"387\" y2=\"20\" style=\"stroke:#e0422d;stroke-width:3;\" /><line x1=\"388\" y1=\"0\" x2=\"388\" y2=\"20\" style=\"stroke:#df412c;stroke-width:3;\" /><line x1=\"389\" y1=\"0\" x2=\"389\" y2=\"20\" style=\"stroke:#df412c;stroke-width:3;\" /><line x1=\"390\" y1=\"0\" x2=\"390\" y2=\"20\" style=\"stroke:#df402b;stroke-width:3;\" /><line x1=\"391\" y1=\"0\" x2=\"391\" y2=\"20\" style=\"stroke:#df402b;stroke-width:3;\" /><line x1=\"392\" y1=\"0\" x2=\"392\" y2=\"20\" style=\"stroke:#de3f2a;stroke-width:3;\" /><line x1=\"393\" y1=\"0\" x2=\"393\" y2=\"20\" style=\"stroke:#de3e2a;stroke-width:3;\" /><line x1=\"394\" y1=\"0\" x2=\"394\" y2=\"20\" style=\"stroke:#de3e29;stroke-width:3;\" /><line x1=\"395\" y1=\"0\" x2=\"395\" y2=\"20\" style=\"stroke:#dd3d29;stroke-width:3;\" /><line x1=\"396\" y1=\"0\" x2=\"396\" y2=\"20\" style=\"stroke:#dd3c28;stroke-width:3;\" /><line x1=\"397\" y1=\"0\" x2=\"397\" y2=\"20\" style=\"stroke:#dd3c28;stroke-width:3;\" /><line x1=\"398\" y1=\"0\" x2=\"398\" y2=\"20\" style=\"stroke:#dd3b27;stroke-width:3;\" /><line x1=\"399\" y1=\"0\" x2=\"399\" y2=\"20\" style=\"stroke:#dc3a27;stroke-width:3;\" /><line x1=\"400\" y1=\"0\" x2=\"400\" y2=\"20\" style=\"stroke:#dc3a26;stroke-width:3;\" /><line x1=\"401\" y1=\"0\" x2=\"401\" y2=\"20\" style=\"stroke:#dc3926;stroke-width:3;\" /><line x1=\"402\" y1=\"0\" x2=\"402\" y2=\"20\" style=\"stroke:#db3925;stroke-width:3;\" /><line x1=\"403\" y1=\"0\" x2=\"403\" y2=\"20\" style=\"stroke:#db3825;stroke-width:3;\" /><line x1=\"404\" y1=\"0\" x2=\"404\" y2=\"20\" style=\"stroke:#db3724;stroke-width:3;\" /><line x1=\"405\" y1=\"0\" x2=\"405\" y2=\"20\" style=\"stroke:#da3724;stroke-width:3;\" /><line x1=\"406\" y1=\"0\" x2=\"406\" y2=\"20\" style=\"stroke:#da3623;stroke-width:3;\" /><line x1=\"407\" y1=\"0\" x2=\"407\" y2=\"20\" style=\"stroke:#da3523;stroke-width:3;\" /><line x1=\"408\" y1=\"0\" x2=\"408\" y2=\"20\" style=\"stroke:#da3522;stroke-width:3;\" /><line x1=\"409\" y1=\"0\" x2=\"409\" y2=\"20\" style=\"stroke:#d93422;stroke-width:3;\" /><line x1=\"410\" y1=\"0\" x2=\"410\" y2=\"20\" style=\"stroke:#d93322;stroke-width:3;\" /><line x1=\"411\" y1=\"0\" x2=\"411\" y2=\"20\" style=\"stroke:#d93321;stroke-width:3;\" /><line x1=\"412\" y1=\"0\" x2=\"412\" y2=\"20\" style=\"stroke:#d83221;stroke-width:3;\" /><line x1=\"413\" y1=\"0\" x2=\"413\" y2=\"20\" style=\"stroke:#d83220;stroke-width:3;\" /><line x1=\"414\" y1=\"0\" x2=\"414\" y2=\"20\" style=\"stroke:#d83120;stroke-width:3;\" /><line x1=\"415\" y1=\"0\" x2=\"415\" y2=\"20\" style=\"stroke:#d8301f;stroke-width:3;\" /><line x1=\"416\" y1=\"0\" x2=\"416\" y2=\"20\" style=\"stroke:#d7301f;stroke-width:3;\" /><line x1=\"417\" y1=\"0\" x2=\"417\" y2=\"20\" style=\"stroke:#d62f1e;stroke-width:3;\" /><line x1=\"418\" y1=\"0\" x2=\"418\" y2=\"20\" style=\"stroke:#d62e1e;stroke-width:3;\" /><line x1=\"419\" y1=\"0\" x2=\"419\" y2=\"20\" style=\"stroke:#d52e1d;stroke-width:3;\" /><line x1=\"420\" y1=\"0\" x2=\"420\" y2=\"20\" style=\"stroke:#d42d1d;stroke-width:3;\" /><line x1=\"421\" y1=\"0\" x2=\"421\" y2=\"20\" style=\"stroke:#d32d1d;stroke-width:3;\" /><line x1=\"422\" y1=\"0\" x2=\"422\" y2=\"20\" style=\"stroke:#d32c1c;stroke-width:3;\" /><line x1=\"423\" y1=\"0\" x2=\"423\" y2=\"20\" style=\"stroke:#d22c1c;stroke-width:3;\" /><line x1=\"424\" y1=\"0\" x2=\"424\" y2=\"20\" style=\"stroke:#d12b1c;stroke-width:3;\" /><line x1=\"425\" y1=\"0\" x2=\"425\" y2=\"20\" style=\"stroke:#d02a1b;stroke-width:3;\" /><line x1=\"426\" y1=\"0\" x2=\"426\" y2=\"20\" style=\"stroke:#d02a1b;stroke-width:3;\" /><line x1=\"427\" y1=\"0\" x2=\"427\" y2=\"20\" style=\"stroke:#cf291a;stroke-width:3;\" /><line x1=\"428\" y1=\"0\" x2=\"428\" y2=\"20\" style=\"stroke:#ce291a;stroke-width:3;\" /><line x1=\"429\" y1=\"0\" x2=\"429\" y2=\"20\" style=\"stroke:#cd281a;stroke-width:3;\" /><line x1=\"430\" y1=\"0\" x2=\"430\" y2=\"20\" style=\"stroke:#cd2719;stroke-width:3;\" /><line x1=\"431\" y1=\"0\" x2=\"431\" y2=\"20\" style=\"stroke:#cc2719;stroke-width:3;\" /><line x1=\"432\" y1=\"0\" x2=\"432\" y2=\"20\" style=\"stroke:#cb2619;stroke-width:3;\" /><line x1=\"433\" y1=\"0\" x2=\"433\" y2=\"20\" style=\"stroke:#ca2618;stroke-width:3;\" /><line x1=\"434\" y1=\"0\" x2=\"434\" y2=\"20\" style=\"stroke:#ca2518;stroke-width:3;\" /><line x1=\"435\" y1=\"0\" x2=\"435\" y2=\"20\" style=\"stroke:#c92517;stroke-width:3;\" /><line x1=\"436\" y1=\"0\" x2=\"436\" y2=\"20\" style=\"stroke:#c82417;stroke-width:3;\" /><line x1=\"437\" y1=\"0\" x2=\"437\" y2=\"20\" style=\"stroke:#c82317;stroke-width:3;\" /><line x1=\"438\" y1=\"0\" x2=\"438\" y2=\"20\" style=\"stroke:#c72316;stroke-width:3;\" /><line x1=\"439\" y1=\"0\" x2=\"439\" y2=\"20\" style=\"stroke:#c62216;stroke-width:3;\" /><line x1=\"440\" y1=\"0\" x2=\"440\" y2=\"20\" style=\"stroke:#c52216;stroke-width:3;\" /><line x1=\"441\" y1=\"0\" x2=\"441\" y2=\"20\" style=\"stroke:#c52115;stroke-width:3;\" /><line x1=\"442\" y1=\"0\" x2=\"442\" y2=\"20\" style=\"stroke:#c42115;stroke-width:3;\" /><line x1=\"443\" y1=\"0\" x2=\"443\" y2=\"20\" style=\"stroke:#c32014;stroke-width:3;\" /><line x1=\"444\" y1=\"0\" x2=\"444\" y2=\"20\" style=\"stroke:#c21f14;stroke-width:3;\" /><line x1=\"445\" y1=\"0\" x2=\"445\" y2=\"20\" style=\"stroke:#c21f14;stroke-width:3;\" /><line x1=\"446\" y1=\"0\" x2=\"446\" y2=\"20\" style=\"stroke:#c11e13;stroke-width:3;\" /><line x1=\"447\" y1=\"0\" x2=\"447\" y2=\"20\" style=\"stroke:#c01e13;stroke-width:3;\" /><line x1=\"448\" y1=\"0\" x2=\"448\" y2=\"20\" style=\"stroke:#bf1d13;stroke-width:3;\" /><line x1=\"449\" y1=\"0\" x2=\"449\" y2=\"20\" style=\"stroke:#bf1c12;stroke-width:3;\" /><line x1=\"450\" y1=\"0\" x2=\"450\" y2=\"20\" style=\"stroke:#be1c12;stroke-width:3;\" /><line x1=\"451\" y1=\"0\" x2=\"451\" y2=\"20\" style=\"stroke:#bd1b11;stroke-width:3;\" /><line x1=\"452\" y1=\"0\" x2=\"452\" y2=\"20\" style=\"stroke:#bc1b11;stroke-width:3;\" /><line x1=\"453\" y1=\"0\" x2=\"453\" y2=\"20\" style=\"stroke:#bc1a11;stroke-width:3;\" /><line x1=\"454\" y1=\"0\" x2=\"454\" y2=\"20\" style=\"stroke:#bb1a10;stroke-width:3;\" /><line x1=\"455\" y1=\"0\" x2=\"455\" y2=\"20\" style=\"stroke:#ba1910;stroke-width:3;\" /><line x1=\"456\" y1=\"0\" x2=\"456\" y2=\"20\" style=\"stroke:#b91810;stroke-width:3;\" /><line x1=\"457\" y1=\"0\" x2=\"457\" y2=\"20\" style=\"stroke:#b9180f;stroke-width:3;\" /><line x1=\"458\" y1=\"0\" x2=\"458\" y2=\"20\" style=\"stroke:#b8170f;stroke-width:3;\" /><line x1=\"459\" y1=\"0\" x2=\"459\" y2=\"20\" style=\"stroke:#b7170e;stroke-width:3;\" /><line x1=\"460\" y1=\"0\" x2=\"460\" y2=\"20\" style=\"stroke:#b6160e;stroke-width:3;\" /><line x1=\"461\" y1=\"0\" x2=\"461\" y2=\"20\" style=\"stroke:#b6160e;stroke-width:3;\" /><line x1=\"462\" y1=\"0\" x2=\"462\" y2=\"20\" style=\"stroke:#b5150d;stroke-width:3;\" /><line x1=\"463\" y1=\"0\" x2=\"463\" y2=\"20\" style=\"stroke:#b4140d;stroke-width:3;\" /><line x1=\"464\" y1=\"0\" x2=\"464\" y2=\"20\" style=\"stroke:#b3140d;stroke-width:3;\" /><line x1=\"465\" y1=\"0\" x2=\"465\" y2=\"20\" style=\"stroke:#b3130c;stroke-width:3;\" /><line x1=\"466\" y1=\"0\" x2=\"466\" y2=\"20\" style=\"stroke:#b2130c;stroke-width:3;\" /><line x1=\"467\" y1=\"0\" x2=\"467\" y2=\"20\" style=\"stroke:#b1120b;stroke-width:3;\" /><line x1=\"468\" y1=\"0\" x2=\"468\" y2=\"20\" style=\"stroke:#b0110b;stroke-width:3;\" /><line x1=\"469\" y1=\"0\" x2=\"469\" y2=\"20\" style=\"stroke:#b0110b;stroke-width:3;\" /><line x1=\"470\" y1=\"0\" x2=\"470\" y2=\"20\" style=\"stroke:#af100a;stroke-width:3;\" /><line x1=\"471\" y1=\"0\" x2=\"471\" y2=\"20\" style=\"stroke:#ae100a;stroke-width:3;\" /><line x1=\"472\" y1=\"0\" x2=\"472\" y2=\"20\" style=\"stroke:#ad0f0a;stroke-width:3;\" /><line x1=\"473\" y1=\"0\" x2=\"473\" y2=\"20\" style=\"stroke:#ad0f09;stroke-width:3;\" /><line x1=\"474\" y1=\"0\" x2=\"474\" y2=\"20\" style=\"stroke:#ac0e09;stroke-width:3;\" /><line x1=\"475\" y1=\"0\" x2=\"475\" y2=\"20\" style=\"stroke:#ab0d08;stroke-width:3;\" /><line x1=\"476\" y1=\"0\" x2=\"476\" y2=\"20\" style=\"stroke:#aa0d08;stroke-width:3;\" /><line x1=\"477\" y1=\"0\" x2=\"477\" y2=\"20\" style=\"stroke:#aa0c08;stroke-width:3;\" /><line x1=\"478\" y1=\"0\" x2=\"478\" y2=\"20\" style=\"stroke:#a90c07;stroke-width:3;\" /><line x1=\"479\" y1=\"0\" x2=\"479\" y2=\"20\" style=\"stroke:#a80b07;stroke-width:3;\" /><line x1=\"480\" y1=\"0\" x2=\"480\" y2=\"20\" style=\"stroke:#a70b07;stroke-width:3;\" /><line x1=\"481\" y1=\"0\" x2=\"481\" y2=\"20\" style=\"stroke:#a70a06;stroke-width:3;\" /><line x1=\"482\" y1=\"0\" x2=\"482\" y2=\"20\" style=\"stroke:#a60906;stroke-width:3;\" /><line x1=\"483\" y1=\"0\" x2=\"483\" y2=\"20\" style=\"stroke:#a50905;stroke-width:3;\" /><line x1=\"484\" y1=\"0\" x2=\"484\" y2=\"20\" style=\"stroke:#a40805;stroke-width:3;\" /><line x1=\"485\" y1=\"0\" x2=\"485\" y2=\"20\" style=\"stroke:#a40805;stroke-width:3;\" /><line x1=\"486\" y1=\"0\" x2=\"486\" y2=\"20\" style=\"stroke:#a30704;stroke-width:3;\" /><line x1=\"487\" y1=\"0\" x2=\"487\" y2=\"20\" style=\"stroke:#a20604;stroke-width:3;\" /><line x1=\"488\" y1=\"0\" x2=\"488\" y2=\"20\" style=\"stroke:#a10604;stroke-width:3;\" /><line x1=\"489\" y1=\"0\" x2=\"489\" y2=\"20\" style=\"stroke:#a10503;stroke-width:3;\" /><line x1=\"490\" y1=\"0\" x2=\"490\" y2=\"20\" style=\"stroke:#a00503;stroke-width:3;\" /><line x1=\"491\" y1=\"0\" x2=\"491\" y2=\"20\" style=\"stroke:#9f0402;stroke-width:3;\" /><line x1=\"492\" y1=\"0\" x2=\"492\" y2=\"20\" style=\"stroke:#9e0402;stroke-width:3;\" /><line x1=\"493\" y1=\"0\" x2=\"493\" y2=\"20\" style=\"stroke:#9e0302;stroke-width:3;\" /><line x1=\"494\" y1=\"0\" x2=\"494\" y2=\"20\" style=\"stroke:#9d0201;stroke-width:3;\" /><line x1=\"495\" y1=\"0\" x2=\"495\" y2=\"20\" style=\"stroke:#9c0201;stroke-width:3;\" /><line x1=\"496\" y1=\"0\" x2=\"496\" y2=\"20\" style=\"stroke:#9b0101;stroke-width:3;\" /><line x1=\"497\" y1=\"0\" x2=\"497\" y2=\"20\" style=\"stroke:#9b0100;stroke-width:3;\" /><line x1=\"498\" y1=\"0\" x2=\"498\" y2=\"20\" style=\"stroke:#9a0000;stroke-width:3;\" /><line x1=\"499\" y1=\"0\" x2=\"499\" y2=\"20\" style=\"stroke:#990000;stroke-width:3;\" /><text x=\"0\" y=\"35\">0</text><text x=\"500\" y=\"35\" style=\"text-anchor:end;\">5.2</text></svg>"
      ],
      "text/plain": [
       "<branca.colormap.LinearColormap at 0xcf5ee80>"
      ]
     },
     "execution_count": 15,
     "metadata": {},
     "output_type": "execute_result"
    }
   ],
   "source": [
    "canton_topo_path = 'topojson/ch-cantons.topojson.json'\n",
    "topo_json_data = json.load(open(canton_topo_path))\n",
    "\n",
    "colormap = linear.OrRd.scale(0,df['Jobseeking rate'].max())\n",
    "colormap"
   ]
  },
  {
   "cell_type": "markdown",
   "metadata": {},
   "source": [
    "### Job seeking rate in Switzerland per canton"
   ]
  },
  {
   "cell_type": "code",
   "execution_count": 16,
   "metadata": {
    "collapsed": false,
    "scrolled": false
   },
   "outputs": [
    {
     "data": {
      "text/html": [
       "<iframe src=./html/Jobseeking_rate.html width=900 height=700></iframe>"
      ],
      "text/plain": [
       "<IPython.core.display.HTML object>"
      ]
     },
     "metadata": {},
     "output_type": "display_data"
    }
   ],
   "source": [
    "m=folium.Map((46.685617, 8.2),zoom_start=8,tiles=\"cartodbpositron\")\n",
    "\n",
    "jobseeking_rate_layer=folium.TopoJson(\n",
    "    topo_json_data,\n",
    "    object_path='objects.cantons',\n",
    "    name='Jobseeking rate (%)',\n",
    "    style_function=lambda feature: {\n",
    "        'fillColor': colormap(df.loc[df['ID'] == feature['id'],'Jobseeking rate'].values[0]),\n",
    "        'color': 'grey',\n",
    "        'weight': 1,\n",
    "        #'dashArray': '5, 5',\n",
    "        'fillOpacity': 0.7,\n",
    "    }\n",
    ")\n",
    "\n",
    "colormap.caption = 'Jobseeking rate (%) (unemployed and employed) in Switzerland per canton'\n",
    "\n",
    "jobseeking_rate_layer.add_to(m)\n",
    "colormap.add_to(m)\n",
    "\n",
    "url_save = './html/Jobseeking_rate.html'\n",
    "m.save(url_save)\n",
    "displaymap(url_save)\n",
    "\n",
    "# m"
   ]
  },
  {
   "cell_type": "markdown",
   "metadata": {},
   "source": [
    "This is the map representing the proportion of people who are looking for a job, whether they have one or not. We can clearly see that there is a higher jobseeking rate in the west of switzerland than in the east. Hence, even though there is a 3% jobseeking rate throughout Switzerland, it is higher in canton like Geneva, where it reaches 5%"
   ]
  },
  {
   "cell_type": "code",
   "execution_count": 17,
   "metadata": {
    "collapsed": false
   },
   "outputs": [
    {
     "data": {
      "text/html": [
       "<iframe src=./html/Jobseeking_rate_unregistered.html width=900 height=700></iframe>"
      ],
      "text/plain": [
       "<IPython.core.display.HTML object>"
      ]
     },
     "metadata": {},
     "output_type": "display_data"
    }
   ],
   "source": [
    "m=folium.Map((46.685617, 8.2),zoom_start=8,tiles=\"cartodbpositron\")\n",
    "df['Jobseeking rate (unregistered)']=df['Unregistered jobseekers']/df['Active population']*100\n",
    "\n",
    "jobseeking_rate_layer=folium.TopoJson(\n",
    "    topo_json_data,\n",
    "    object_path='objects.cantons',\n",
    "    name='Jobseeking rate (%)',\n",
    "    style_function=lambda feature: {\n",
    "        'fillColor': colormap(df.loc[df['ID'] == feature['id'],'Jobseeking rate (unregistered)'].values[0]),\n",
    "        'color': 'grey',\n",
    "        'weight': 1,\n",
    "        #'dashArray': '5, 5',\n",
    "        'fillOpacity': 0.7,\n",
    "    }\n",
    ")\n",
    "\n",
    "colormap.caption = 'Jobseeking rate (%) (unregistered) in Switzerland per canton'\n",
    "\n",
    "jobseeking_rate_layer.add_to(m)\n",
    "colormap.add_to(m)\n",
    "\n",
    "url_save = './html/Jobseeking_rate_unregistered.html'\n",
    "m.save(url_save)\n",
    "\n",
    "# m\n",
    "displaymap(url_save)"
   ]
  },
  {
   "cell_type": "markdown",
   "metadata": {},
   "source": [
    "We could ask ourselves, in the people that are currently looking for a job, how many of them actually have a job ? This maps shows how many of the jobseekers are not registered. This is usually the case when the jobseekers already has a job. As we can see, there is not a lot of people looking for a job while they have one. Also, even though the west has still a bit more unregistered jobseekers, the difference is less shocking than before."
   ]
  },
  {
   "cell_type": "code",
   "execution_count": 18,
   "metadata": {
    "collapsed": false
   },
   "outputs": [
    {
     "data": {
      "text/html": [
       "<iframe src=./html/Jobseeking_rate_registered.html width=900 height=700></iframe>"
      ],
      "text/plain": [
       "<IPython.core.display.HTML object>"
      ]
     },
     "metadata": {},
     "output_type": "display_data"
    }
   ],
   "source": [
    "m=folium.Map((46.685617, 8.2),zoom_start=8,tiles=\"cartodbpositron\")\n",
    "df['Jobseeking rate (registered)']=df['Registered jobseekers']/df['Active population']*100\n",
    "\n",
    "jobseeking_rate_layer=folium.TopoJson(\n",
    "    topo_json_data,\n",
    "    object_path='objects.cantons',\n",
    "    name='Jobseeking rate (%)',\n",
    "    style_function=lambda feature: {\n",
    "        'fillColor': colormap(df.loc[df['ID'] == feature['id'],'Jobseeking rate (registered)'].values[0]),\n",
    "        'color': 'grey',\n",
    "        'weight': 1,\n",
    "        #'dashArray': '5, 5',\n",
    "        'fillOpacity': 0.7,\n",
    "    }\n",
    ")\n",
    "colormap.caption = 'Jobseeking rate (%) (registered) in Switzerland per canton'\n",
    "\n",
    "jobseeking_rate_layer.add_to(m)\n",
    "colormap.add_to(m)\n",
    "\n",
    "url_save = './html/Jobseeking_rate_registered.html'\n",
    "m.save(url_save)\n",
    "\n",
    "# m\n",
    "displaymap(url_save)"
   ]
  },
  {
   "cell_type": "markdown",
   "metadata": {},
   "source": [
    "This time we plot the registered jobseekers. This usally mean the people looking for a job without having one. As we can see, this  represent higher percentages than the unregistered ones. We see also clearly that the difference west/east comes from the registered jobseekers and not the unregistered jobseekers."
   ]
  },
  {
   "cell_type": "code",
   "execution_count": 19,
   "metadata": {
    "collapsed": false
   },
   "outputs": [
    {
     "data": {
      "text/html": [
       "<iframe src=./html/registered_vs_total.html width=900 height=700></iframe>"
      ],
      "text/plain": [
       "<IPython.core.display.HTML object>"
      ]
     },
     "metadata": {},
     "output_type": "display_data"
    }
   ],
   "source": [
    "df['Jobseeking rate (registered)']=df['Registered jobseekers']/df['Jobseekers']*100\n",
    "\n",
    "m=folium.Map((46.685617, 8.2),zoom_start=8,tiles=\"cartodbpositron\")\n",
    "m.choropleth(geo_data=topo_json_data,\n",
    "                            topojson='objects.cantons',\n",
    "                            data=df,\n",
    "                            columns=['ID', 'Jobseeking rate (registered)'],\n",
    "                            key_on='feature.id',\n",
    "                            fill_color='BuPu',\n",
    "                            fill_opacity=0.7,\n",
    "                            line_opacity=0.4,\n",
    "                            legend_name='Percentage of registered individuals among jobseekers in Switzerland per canton',\n",
    "                            highlight=True)\n",
    "\n",
    "url_save = './html/registered_vs_total.html'\n",
    "m.save(url_save)\n",
    "\n",
    "# m\n",
    "displaymap(url_save)"
   ]
  },
  {
   "cell_type": "markdown",
   "metadata": {},
   "source": [
    "To illustrate even more the proportion of registered jobseekers among the jobseekers, we have displayed it on the map. The darker a canton, the more registered jobseekers there are compared to unregistered ones. We can see for example that most of the jobseekers in Geneva are in unemployed."
   ]
  },
  {
   "cell_type": "markdown",
   "metadata": {},
   "source": [
    "### 3. Swiss/Foreign unemployement\n",
    "\n",
    "Use the amstat website again to find a dataset that includes the unemployment rates in Switzerland at recent date, this time making a distinction between Swiss and foreign workers.\n",
    "The Economic Secretary (SECO) releases a monthly report on the state of the employment market. In the latest report (September 2017), it is noted that there is a discrepancy between the unemployment rates for foreign (5.1%) and Swiss (2.2%) workers.\n",
    "Show the difference in unemployment rates between the two categories in each canton on a Choropleth map (hint The easy way is to show two separate maps, but can you think of something better ?). Where are the differences most visible ? Why do you think that is ?\n",
    "Now let's refine the analysis by adding the differences between age groups. As you may have guessed it is nearly impossible to plot so many variables on a map. Make a bar plot, which is a better suited visualization tool for this type of multivariate data."
   ]
  },
  {
   "cell_type": "markdown",
   "metadata": {},
   "source": [
    "In order to find the data, we have to go to 'Chômeurs' under the Analyse tab. We then go into 'Détails' and we export as csv the dataset 2.1. Taux de chômage. We need to make sure that we take the nationalities as a parameter. The unemployement rate of september 2017 lies into the data which is the most recent one.  \n",
    "  \n",
    "We will now clean and arrange the csv file in order to open it. To do so, we do the following steps:\n",
    "- We first get rid of the two first rows because it is just the title of the data\n",
    "- We then delete the column 'Mois' as it is empty\n",
    "- We delete all the columns sept-17 because it is the same as Total\n",
    "- We delete the first row and rewrite Canton and Nationilité for the first two columns\n",
    "\n",
    "> Note: We assume the unemployement rate to be the 'registered unemployed' people divided by the 'activate population' (as found in the data) for each cantons.  \n",
    "\n",
    "This results in the following dataframe."
   ]
  },
  {
   "cell_type": "code",
   "execution_count": 20,
   "metadata": {
    "collapsed": false
   },
   "outputs": [
    {
     "data": {
      "text/html": [
       "<div>\n",
       "<table border=\"1\" class=\"dataframe\">\n",
       "  <thead>\n",
       "    <tr style=\"text-align: right;\">\n",
       "      <th></th>\n",
       "      <th>Nationality</th>\n",
       "      <th>Unemployement rate</th>\n",
       "      <th>Unemployed registered</th>\n",
       "    </tr>\n",
       "    <tr>\n",
       "      <th>Canton</th>\n",
       "      <th></th>\n",
       "      <th></th>\n",
       "      <th></th>\n",
       "    </tr>\n",
       "  </thead>\n",
       "  <tbody>\n",
       "    <tr>\n",
       "      <th>Zurich</th>\n",
       "      <td>Etrangers</td>\n",
       "      <td>5.3</td>\n",
       "      <td>12111</td>\n",
       "    </tr>\n",
       "    <tr>\n",
       "      <th>Zurich</th>\n",
       "      <td>Suisses</td>\n",
       "      <td>2.5</td>\n",
       "      <td>15114</td>\n",
       "    </tr>\n",
       "    <tr>\n",
       "      <th>Berne</th>\n",
       "      <td>Etrangers</td>\n",
       "      <td>5.5</td>\n",
       "      <td>4900</td>\n",
       "    </tr>\n",
       "    <tr>\n",
       "      <th>Berne</th>\n",
       "      <td>Suisses</td>\n",
       "      <td>1.8</td>\n",
       "      <td>8758</td>\n",
       "    </tr>\n",
       "    <tr>\n",
       "      <th>Lucerne</th>\n",
       "      <td>Etrangers</td>\n",
       "      <td>3.9</td>\n",
       "      <td>1593</td>\n",
       "    </tr>\n",
       "  </tbody>\n",
       "</table>\n",
       "</div>"
      ],
      "text/plain": [
       "        Nationality  Unemployement rate  Unemployed registered\n",
       "Canton                                                        \n",
       "Zurich   Etrangers   5.3                 12111                \n",
       "Zurich   Suisses     2.5                 15114                \n",
       "Berne    Etrangers   5.5                 4900                 \n",
       "Berne    Suisses     1.8                 8758                 \n",
       "Lucerne  Etrangers   3.9                 1593                 "
      ]
     },
     "execution_count": 20,
     "metadata": {},
     "output_type": "execute_result"
    }
   ],
   "source": [
    "df_ch_nations_origin = pd.DataFrame.from_csv('./dataset/modif_ch_unemployement_nationalities.csv', sep=';', encoding='ISO-8859-1', index_col=['Canton'])\n",
    "df_ch_nations = df_ch_nations_origin.drop('Demandeurs d\\'emploi', 1)\n",
    "df_ch_nations['Unemployed registered'] = df_ch_nations['Unemployed registered'].apply(lambda x : x.replace(\"'\",\"\")).astype(np.int64)\n",
    "df_ch_nations.head()"
   ]
  },
  {
   "cell_type": "markdown",
   "metadata": {},
   "source": [
    "We now create one dataframe for swiss and foreigners"
   ]
  },
  {
   "cell_type": "code",
   "execution_count": 21,
   "metadata": {
    "collapsed": true
   },
   "outputs": [],
   "source": [
    "df_ch_nations_swiss = df_ch_nations[df_ch_nations['Nationality']=='Suisses']\n",
    "df_ch_nations_foreign = df_ch_nations[df_ch_nations['Nationality']=='Etrangers']"
   ]
  },
  {
   "cell_type": "markdown",
   "metadata": {},
   "source": [
    "We now want to plot the two resulting unemployement rates for each cantons. To do so, we first need to find the matching name with the json format of the topo."
   ]
  },
  {
   "cell_type": "code",
   "execution_count": 22,
   "metadata": {
    "collapsed": false,
    "scrolled": true
   },
   "outputs": [
    {
     "name": "stderr",
     "output_type": "stream",
     "text": [
      "C:\\ProgramData\\Anaconda3\\lib\\site-packages\\ipykernel\\__main__.py:7: SettingWithCopyWarning: \n",
      "A value is trying to be set on a copy of a slice from a DataFrame.\n",
      "Try using .loc[row_indexer,col_indexer] = value instead\n",
      "\n",
      "See the caveats in the documentation: http://pandas.pydata.org/pandas-docs/stable/indexing.html#indexing-view-versus-copy\n",
      "C:\\ProgramData\\Anaconda3\\lib\\site-packages\\ipykernel\\__main__.py:8: SettingWithCopyWarning: \n",
      "A value is trying to be set on a copy of a slice from a DataFrame.\n",
      "Try using .loc[row_indexer,col_indexer] = value instead\n",
      "\n",
      "See the caveats in the documentation: http://pandas.pydata.org/pandas-docs/stable/indexing.html#indexing-view-versus-copy\n"
     ]
    }
   ],
   "source": [
    "# Fetch the topojson file\n",
    "ch_canton = './topojson/ch-cantons.topojson.json'\n",
    "geo_json_data = json.load(open(ch_canton))\n",
    "# Find the names of every geometry figures\n",
    "canton_names = list(map(lambda x: x['properties']['name'], geo_json_data['objects']['cantons']['geometries']))\n",
    "# Add names in the dataframes\n",
    "df_ch_nations_foreign['topo names'] = canton_names\n",
    "df_ch_nations_swiss['topo names'] = canton_names"
   ]
  },
  {
   "cell_type": "markdown",
   "metadata": {},
   "source": [
    "We choose to plot the rate with a purle/red because we want to highlight the highest unemployement rate with a dark red and still not see the cantons with low unemployement (light blue) as a good thing as there is still improvement to be done. In order to see the difference between Swiss and foreigners, we use the same threshold scale for both maps.\n"
   ]
  },
  {
   "cell_type": "code",
   "execution_count": 23,
   "metadata": {
    "collapsed": false
   },
   "outputs": [
    {
     "data": {
      "text/html": [
       "<iframe src=./html/swiss_unemployement.html width=900 height=700></iframe>"
      ],
      "text/plain": [
       "<IPython.core.display.HTML object>"
      ]
     },
     "metadata": {},
     "output_type": "display_data"
    }
   ],
   "source": [
    "# Initialize the middle of switzerland and the map\n",
    "ch_coord = [46.905379, 8.333550]\n",
    "m = folium.Map(location=ch_coord, tiles='cartoDB positron', zoom_start=8)\n",
    "\n",
    "jobseeking_rate_layer=folium.TopoJson(\n",
    "    open(ch_canton),\n",
    "    object_path='objects.cantons',\n",
    "    name='swiss unemployement',\n",
    "    style_function=lambda feature: {\n",
    "        'fillColor': colormap(df_ch_nations_swiss.loc[df_ch_nations_swiss['topo names'] == feature['properties']['name'],'Unemployement rate'].values[0]),\n",
    "        'color': 'grey',\n",
    "        'weight': 1,\n",
    "        'fillOpacity': 0.7,\n",
    "    }\n",
    ")\n",
    "colormap.caption = 'Swiss unemployement rate per canton (in %)'\n",
    "\n",
    "jobseeking_rate_layer.add_to(m)\n",
    "colormap.add_to(m)\n",
    "\n",
    "#Save and print results\n",
    "url_save = \"./html/swiss_unemployement.html\"\n",
    "m.save(url_save)\n",
    "\n",
    "# m\n",
    "displaymap(url_save)"
   ]
  },
  {
   "cell_type": "code",
   "execution_count": 24,
   "metadata": {
    "collapsed": false,
    "scrolled": false
   },
   "outputs": [
    {
     "data": {
      "text/html": [
       "<iframe src=./html/foreigner_unemployement.html width=900 height=700></iframe>"
      ],
      "text/plain": [
       "<IPython.core.display.HTML object>"
      ]
     },
     "metadata": {},
     "output_type": "display_data"
    }
   ],
   "source": [
    "# We do the same for foreigners\n",
    "ch_coord = [46.905379, 8.333550]\n",
    "m = folium.Map(location=ch_coord, tiles='cartoDB positron', zoom_start=8)\n",
    "\n",
    "jobseeking_rate_layer=folium.TopoJson(\n",
    "    open(ch_canton),\n",
    "    object_path='objects.cantons',\n",
    "    name='foreigners unemployement',\n",
    "    style_function=lambda feature: {\n",
    "        'fillColor': colormap(df_ch_nations_foreign.loc[df_ch_nations_foreign['topo names'] == feature['properties']['name'],'Unemployement rate'].values[0]),\n",
    "        'color': 'grey',\n",
    "        'weight': 1,\n",
    "        'fillOpacity': 0.7,\n",
    "    }\n",
    ")\n",
    "colormap.caption = 'Foreigners unemployement rate per canton (in %)'\n",
    "\n",
    "jobseeking_rate_layer.add_to(m)\n",
    "colormap.add_to(m)\n",
    "\n",
    "#Save and print results*\n",
    "url_save = \"./html/foreigner_unemployement.html\"\n",
    "m.save(url_save)\n",
    "# m\n",
    "displaymap(url_save)"
   ]
  },
  {
   "cell_type": "markdown",
   "metadata": {},
   "source": [
    "We can clearly see that (as expected) the unemployement rate is higher for foreigners. It is also interesting to note that the West side of the country (Romandy) is the most sensible regarding the difference Swiss/Foreigners rate- especially Basel.  \n",
    "One explication could be that employers prefer to hire swiss people."
   ]
  },
  {
   "cell_type": "code",
   "execution_count": 25,
   "metadata": {
    "collapsed": false
   },
   "outputs": [
    {
     "name": "stdout",
     "output_type": "stream",
     "text": [
      "Average swiss unemployement rate in September 2017: 1.96 %\n",
      "Average foreigners unemployement rate in September 2017: 4.47 %\n"
     ]
    }
   ],
   "source": [
    "print('Average swiss unemployement rate in September 2017: %.2f %%' % df_ch_nations_swiss['Unemployement rate'].mean())\n",
    "print('Average foreigners unemployement rate in September 2017: %.2f %%' % df_ch_nations_foreign['Unemployement rate'].mean())"
   ]
  },
  {
   "cell_type": "markdown",
   "metadata": {},
   "source": [
    "In order to better visualize the proportion of foreigners in unemployed individuals per canton, we have decided to plot it :"
   ]
  },
  {
   "cell_type": "code",
   "execution_count": 26,
   "metadata": {
    "collapsed": false
   },
   "outputs": [
    {
     "data": {
      "text/html": [
       "<iframe src=./html/proportion_foreigners.html width=900 height=700></iframe>"
      ],
      "text/plain": [
       "<IPython.core.display.HTML object>"
      ]
     },
     "metadata": {},
     "output_type": "display_data"
    }
   ],
   "source": [
    "m = folium.Map(location=ch_coord, tiles='cartoDB positron', zoom_start=8)\n",
    "\n",
    "proportion_foreigners=df_ch_nations_foreign.set_index('topo names')['Unemployed registered']/(df_ch_nations_swiss.set_index('topo names')['Unemployed registered']+df_ch_nations_foreign.set_index('topo names')['Unemployed registered'])\n",
    "m.choropleth(open(ch_canton), data=proportion_foreigners, columns=['topo names', 'Unemployed registered'], \n",
    "             topojson='objects.cantons', name='Proportion of foreigners in unemployed individuals',\n",
    "                  key_on=\"feature.properties.name\", fill_color='BuPu', legend_name='Foreigner proportion in unemployemed individuals')\n",
    "\n",
    "\n",
    "url_save = \"./html/proportion_foreigners.html\"\n",
    "m.save(url_save)\n",
    "# m\n",
    "displaymap(url_save)"
   ]
  },
  {
   "cell_type": "markdown",
   "metadata": {},
   "source": [
    "As we can see usually the proportion of foreigners among swiss people is usually the same every where except at a few cantons. Also they are usually less than the swiss unemployed individuals. This is because there are less foreigners than Swiss. So even though there is less unemployement people among swiss than among foreigners, there are overall more swiss unemployed than foreigners"
   ]
  },
  {
   "cell_type": "markdown",
   "metadata": {},
   "source": [
    "As stated SECO and obeserved, there is a discrepancy between foreign and swiss workers.  \n",
    " \n",
    "### Adding age groups\n",
    "We will now add difference between age groups. In order to do this, we will use a different dataset. We select 1.1 Chomeurs et demandeurs d'emplois selon divers critères, with the following parameters:\n",
    "- Month september 2017\n",
    "- Only take Chômeurs inscrits\n",
    "- Nationalité and Classe d'age\n",
    "- No \"secteur\" as we only need the total number\n",
    "- Make sure to export the dataset without the header  \n",
    "  \n",
    "Then again, we translate the column names and delete the 'Mois' column.  \n",
    "This results in the following dataframe."
   ]
  },
  {
   "cell_type": "code",
   "execution_count": 27,
   "metadata": {
    "collapsed": false
   },
   "outputs": [
    {
     "data": {
      "text/html": [
       "<div>\n",
       "<table border=\"1\" class=\"dataframe\">\n",
       "  <thead>\n",
       "    <tr style=\"text-align: right;\">\n",
       "      <th></th>\n",
       "      <th>Nationality</th>\n",
       "      <th>Age group</th>\n",
       "      <th>Age group name</th>\n",
       "      <th>Unemployed registered</th>\n",
       "    </tr>\n",
       "    <tr>\n",
       "      <th>Canton</th>\n",
       "      <th></th>\n",
       "      <th></th>\n",
       "      <th></th>\n",
       "      <th></th>\n",
       "    </tr>\n",
       "  </thead>\n",
       "  <tbody>\n",
       "    <tr>\n",
       "      <th>Zurich</th>\n",
       "      <td>Etrangers</td>\n",
       "      <td>1</td>\n",
       "      <td>15-25</td>\n",
       "      <td>1'015</td>\n",
       "    </tr>\n",
       "    <tr>\n",
       "      <th>Zurich</th>\n",
       "      <td>Etrangers</td>\n",
       "      <td>2</td>\n",
       "      <td>25-49</td>\n",
       "      <td>8'846</td>\n",
       "    </tr>\n",
       "    <tr>\n",
       "      <th>Zurich</th>\n",
       "      <td>Etrangers</td>\n",
       "      <td>3</td>\n",
       "      <td>50+</td>\n",
       "      <td>2'250</td>\n",
       "    </tr>\n",
       "    <tr>\n",
       "      <th>Zurich</th>\n",
       "      <td>Etrangers</td>\n",
       "      <td>Total</td>\n",
       "      <td>50+</td>\n",
       "      <td>12'111</td>\n",
       "    </tr>\n",
       "    <tr>\n",
       "      <th>Zurich</th>\n",
       "      <td>Suisses</td>\n",
       "      <td>1</td>\n",
       "      <td>15-25</td>\n",
       "      <td>2'405</td>\n",
       "    </tr>\n",
       "  </tbody>\n",
       "</table>\n",
       "</div>"
      ],
      "text/plain": [
       "       Nationality Age group Age group name Unemployed registered\n",
       "Canton                                                           \n",
       "Zurich  Etrangers   1         15-25          1'015               \n",
       "Zurich  Etrangers   2         25-49          8'846               \n",
       "Zurich  Etrangers   3         50+            2'250               \n",
       "Zurich  Etrangers   Total     50+            12'111              \n",
       "Zurich  Suisses     1         15-25          2'405               "
      ]
     },
     "execution_count": 27,
     "metadata": {},
     "output_type": "execute_result"
    }
   ],
   "source": [
    "# Fetch the dataset\n",
    "df_ch_age_nat = pd.DataFrame.from_csv('./dataset/ch_unemp_nationalities_age.csv', encoding='ISO-8859-1', sep=';')\n",
    "\n",
    "def translate_age(x):\n",
    "    if x == '15-24 ans':\n",
    "        return '15-25'\n",
    "    elif x=='25-49 ans':\n",
    "        return '25-49'\n",
    "    else:\n",
    "        return '50+'\n",
    "# Translate the age category\n",
    "df_ch_age_nat['Age group name'] = df_ch_age_nat['Age group name'].apply(lambda x: translate_age(x))\n",
    "df_ch_age_nat.head()"
   ]
  },
  {
   "cell_type": "code",
   "execution_count": 28,
   "metadata": {
    "collapsed": false,
    "scrolled": false
   },
   "outputs": [
    {
     "data": {
      "text/html": [
       "<div>\n",
       "<table border=\"1\" class=\"dataframe\">\n",
       "  <thead>\n",
       "    <tr style=\"text-align: right;\">\n",
       "      <th></th>\n",
       "      <th>Age group name</th>\n",
       "      <th>Unemployed registered</th>\n",
       "    </tr>\n",
       "    <tr>\n",
       "      <th>Canton</th>\n",
       "      <th></th>\n",
       "      <th></th>\n",
       "    </tr>\n",
       "  </thead>\n",
       "  <tbody>\n",
       "    <tr>\n",
       "      <th>Zurich</th>\n",
       "      <td>15-25</td>\n",
       "      <td>1015</td>\n",
       "    </tr>\n",
       "    <tr>\n",
       "      <th>Zurich</th>\n",
       "      <td>25-49</td>\n",
       "      <td>8846</td>\n",
       "    </tr>\n",
       "    <tr>\n",
       "      <th>Zurich</th>\n",
       "      <td>50+</td>\n",
       "      <td>2250</td>\n",
       "    </tr>\n",
       "    <tr>\n",
       "      <th>Berne</th>\n",
       "      <td>15-25</td>\n",
       "      <td>597</td>\n",
       "    </tr>\n",
       "    <tr>\n",
       "      <th>Berne</th>\n",
       "      <td>25-49</td>\n",
       "      <td>3316</td>\n",
       "    </tr>\n",
       "  </tbody>\n",
       "</table>\n",
       "</div>"
      ],
      "text/plain": [
       "       Age group name  Unemployed registered\n",
       "Canton                                      \n",
       "Zurich  15-25          1015                 \n",
       "Zurich  25-49          8846                 \n",
       "Zurich  50+            2250                 \n",
       "Berne   15-25          597                  \n",
       "Berne   25-49          3316                 "
      ]
     },
     "execution_count": 28,
     "metadata": {},
     "output_type": "execute_result"
    }
   ],
   "source": [
    "# Get rid of lines with total numbers\n",
    "df_ch_age_nat_no_total = df_ch_age_nat[df_ch_age_nat['Age group']!='Total']\n",
    "df_ch_age_nat_no_total = df_ch_age_nat_no_total[df_ch_age_nat_no_total['Nationality']!='Total']\n",
    "\n",
    "# Transform numbers to nuerical values\n",
    "df_ch_age_nat_no_total['Unemployed registered'] = pd.to_numeric(df_ch_age_nat_no_total['Unemployed registered'].str.replace('\\'', ''))\n",
    "\n",
    "# Only take the relevant columns\n",
    "df_foreign = df_ch_age_nat_no_total[df_ch_age_nat_no_total['Nationality']=='Etrangers'].drop(labels=['Nationality', 'Age group'], axis=1)\n",
    "df_swiss = df_ch_age_nat_no_total[df_ch_age_nat_no_total['Nationality']=='Suisses'].drop(labels=['Nationality', 'Age group'], axis=1)\n",
    "df_foreign.head()"
   ]
  },
  {
   "cell_type": "code",
   "execution_count": 29,
   "metadata": {
    "collapsed": false
   },
   "outputs": [
    {
     "name": "stderr",
     "output_type": "stream",
     "text": [
      "C:\\ProgramData\\Anaconda3\\lib\\site-packages\\ipykernel\\__main__.py:6: FutureWarning: sort(columns=....) is deprecated, use sort_values(by=.....)\n"
     ]
    },
    {
     "data": {
      "text/html": [
       "<div>\n",
       "<table border=\"1\" class=\"dataframe\">\n",
       "  <thead>\n",
       "    <tr style=\"text-align: right;\">\n",
       "      <th>Age group name</th>\n",
       "      <th>15-25</th>\n",
       "      <th>25-49</th>\n",
       "      <th>50+</th>\n",
       "      <th>Active population</th>\n",
       "      <th>15-25 rate</th>\n",
       "      <th>25-49 rate</th>\n",
       "      <th>50+ rate</th>\n",
       "    </tr>\n",
       "    <tr>\n",
       "      <th>Canton</th>\n",
       "      <th></th>\n",
       "      <th></th>\n",
       "      <th></th>\n",
       "      <th></th>\n",
       "      <th></th>\n",
       "      <th></th>\n",
       "      <th></th>\n",
       "    </tr>\n",
       "  </thead>\n",
       "  <tbody>\n",
       "    <tr>\n",
       "      <th>Appenzell Rhodes-Extrieures</th>\n",
       "      <td>21</td>\n",
       "      <td>108</td>\n",
       "      <td>50</td>\n",
       "      <td>50941.176471</td>\n",
       "      <td>0.041224</td>\n",
       "      <td>0.212009</td>\n",
       "      <td>0.098152</td>\n",
       "    </tr>\n",
       "    <tr>\n",
       "      <th>Appenzell Rhodes-Intrieures</th>\n",
       "      <td>6</td>\n",
       "      <td>10</td>\n",
       "      <td>7</td>\n",
       "      <td>14571.428571</td>\n",
       "      <td>0.041176</td>\n",
       "      <td>0.068627</td>\n",
       "      <td>0.048039</td>\n",
       "    </tr>\n",
       "    <tr>\n",
       "      <th>Argovie</th>\n",
       "      <td>597</td>\n",
       "      <td>3270</td>\n",
       "      <td>1105</td>\n",
       "      <td>522241.379310</td>\n",
       "      <td>0.114315</td>\n",
       "      <td>0.626147</td>\n",
       "      <td>0.211588</td>\n",
       "    </tr>\n",
       "    <tr>\n",
       "      <th>Berne</th>\n",
       "      <td>597</td>\n",
       "      <td>3316</td>\n",
       "      <td>987</td>\n",
       "      <td>766041.666667</td>\n",
       "      <td>0.077933</td>\n",
       "      <td>0.432875</td>\n",
       "      <td>0.128844</td>\n",
       "    </tr>\n",
       "    <tr>\n",
       "      <th>Ble-Campagne</th>\n",
       "      <td>165</td>\n",
       "      <td>1089</td>\n",
       "      <td>342</td>\n",
       "      <td>197857.142857</td>\n",
       "      <td>0.083394</td>\n",
       "      <td>0.550397</td>\n",
       "      <td>0.172852</td>\n",
       "    </tr>\n",
       "  </tbody>\n",
       "</table>\n",
       "</div>"
      ],
      "text/plain": [
       "Age group name                15-25  25-49   50+  Active population  \\\n",
       "Canton                                                                \n",
       "Appenzell Rhodes-Extrieures  21     108    50    50941.176471        \n",
       "Appenzell Rhodes-Intrieures  6      10     7     14571.428571        \n",
       "Argovie                       597    3270   1105  522241.379310       \n",
       "Berne                         597    3316   987   766041.666667       \n",
       "Ble-Campagne                 165    1089   342   197857.142857       \n",
       "\n",
       "Age group name                15-25 rate  25-49 rate  50+ rate  \n",
       "Canton                                                          \n",
       "Appenzell Rhodes-Extrieures  0.041224    0.212009    0.098152  \n",
       "Appenzell Rhodes-Intrieures  0.041176    0.068627    0.048039  \n",
       "Argovie                       0.114315    0.626147    0.211588  \n",
       "Berne                         0.077933    0.432875    0.128844  \n",
       "Ble-Campagne                 0.083394    0.550397    0.172852  "
      ]
     },
     "execution_count": 29,
     "metadata": {},
     "output_type": "execute_result"
    }
   ],
   "source": [
    "# Rearrange the dataframes to be able to plot it in bars\n",
    "df_age_foreign = pd.pivot_table(df_foreign.reset_index(), values='Unemployed registered', index='Canton', columns='Age group name')\n",
    "df_age_swiss = pd.pivot_table(df_swiss.reset_index(), values='Unemployed registered', index='Canton', columns='Age group name')\n",
    "\n",
    "# Fetch the active population and add it to the dataframes\n",
    "act_pop_list = list(df.sort(columns='Canton')['Active population'][df['Canton']!='Total'])\n",
    "df_age_swiss['Active population'] = act_pop_list\n",
    "df_age_foreign['Active population'] = act_pop_list\n",
    "\n",
    "df_age_foreign['15-25 rate']=df_age_foreign['15-25']/df_age_foreign['Active population']*100\n",
    "df_age_foreign['25-49 rate']=df_age_foreign['25-49']/df_age_foreign['Active population']*100\n",
    "df_age_foreign['50+ rate']=df_age_foreign['50+']/df_age_foreign['Active population']*100\n",
    "df_age_swiss['15-25 rate']=df_age_swiss['15-25']/df_age_swiss['Active population']*100\n",
    "df_age_swiss['25-49 rate']=df_age_swiss['25-49']/df_age_swiss['Active population']*100\n",
    "df_age_swiss['50+ rate']=df_age_swiss['50+']/df_age_swiss['Active population']*100\n",
    "df_age_foreign.head()"
   ]
  },
  {
   "cell_type": "markdown",
   "metadata": {},
   "source": [
    "> Note: Again, we assume here that the unemployement rate is the ratio of registered unemployed people over the active population found in the data for each canton."
   ]
  },
  {
   "cell_type": "code",
   "execution_count": 30,
   "metadata": {
    "collapsed": false,
    "scrolled": false
   },
   "outputs": [
    {
     "data": {
      "image/png": "[encoded data removed]",
      "text/plain": [
       "<matplotlib.figure.Figure at 0xd00f358>"
      ]
     },
     "metadata": {},
     "output_type": "display_data"
    }
   ],
   "source": [
    "# Initialize the plot\n",
    "ax = plt.subplot(111)\n",
    "num_cantons = df_age_foreign.shape[0]\n",
    "\n",
    "# Create the two plots for foreigners and swiss\n",
    "ax = df_age_foreign.iloc[:,:3].plot.barh(ax=ax, figsize=(20,30), stacked=True, legend=True, label='Foreigners', color=['#b0e0e6', '#6495ed', '#4682b4'])\n",
    "ax = df_age_swiss.iloc[:,:3].plot.barh(ax=ax, figsize=(20,30), stacked=True, legend=True, label='Swiss', color=['#ff69b4', '#d02090', '#9932cc'])\n",
    "\n",
    "# Change the position of the bars\n",
    "h,l = ax.get_legend_handles_labels() \n",
    "width=1/3\n",
    "for i in range(0, 6, 3): \n",
    "    for container in h[i:i+3]:\n",
    "        for bar in container.patches: \n",
    "            bar.set_y(bar.get_y() + width * i / 3.0)\n",
    "            bar.set_height(width)\n",
    "\n",
    "# Set the ticks and labels\n",
    "ax.set_yticks((np.arange(0, 2 *num_cantons , 2) + width) / 2.)\n",
    "ax.set_yticklabels(df_age_foreign.index, fontsize=25)\n",
    "l[3:] = ['Foreigners ' + x for x in l[3:]]\n",
    "l[:3] = ['Swiss '+ x for x in l[:3]]\n",
    "ax.legend( h, l, loc=3, ncol=2, bbox_to_anchor=(1, 0.5), fontsize=20)\n",
    "ax.set_xlabel('Number of unemployed registered', fontsize=25)\n",
    "ax.set_ylabel('Canton', fontsize=25)\n",
    "plt.show()"
   ]
  },
  {
   "cell_type": "markdown",
   "metadata": {},
   "source": [
    "We normalize with the active population per canton in order to better visualize our results."
   ]
  },
  {
   "cell_type": "code",
   "execution_count": 31,
   "metadata": {
    "collapsed": false
   },
   "outputs": [
    {
     "data": {
      "image/png": "[encoded data removed]",
      "text/plain": [
       "<matplotlib.figure.Figure at 0xd06ed30>"
      ]
     },
     "metadata": {},
     "output_type": "display_data"
    }
   ],
   "source": [
    "# Initialize the plot\n",
    "ax = plt.subplot(111)\n",
    "num_cantons = df_age_foreign.shape[0]\n",
    "\n",
    "# Create the two plots for foreigners and swiss\n",
    "ax = df_age_foreign.iloc[:,4:].plot.barh(ax=ax, figsize=(20,30), stacked=True, legend=True, label='Foreigners', color=['#b0e0e6', '#6495ed', '#4682b4'])\n",
    "ax = df_age_swiss.iloc[:,4:].plot.barh(ax=ax, figsize=(20,30), stacked=True, legend=True, label='Swiss', color=['#ff69b4', '#d02090', '#9932cc'])\n",
    "\n",
    "# Change the position of the bars\n",
    "h,l = ax.get_legend_handles_labels() \n",
    "width=1/3\n",
    "for i in range(0, 6, 3): \n",
    "    for container in h[i:i+3]:\n",
    "        for bar in container.patches: \n",
    "            bar.set_y(bar.get_y() + width * i / 3.0)\n",
    "            bar.set_height(width)\n",
    "\n",
    "# Set the ticks and labels\n",
    "ax.set_yticks((np.arange(0, 2 *num_cantons , 2) + width) / 2.)\n",
    "ax.set_yticklabels(df_age_foreign.index, fontsize=25)\n",
    "l[3:] = ['Foreigners ' + x for x in l[3:]]\n",
    "l[:3] = ['Swiss '+ x for x in l[:3]]\n",
    "ax.legend( h, l, loc=3, ncol=2, bbox_to_anchor=(1, 0.5), fontsize=20)\n",
    "ax.set_xlabel('Unemployement rate (%)', fontsize=25)\n",
    "ax.set_ylabel('Canton', fontsize=25)\n",
    "plt.show()"
   ]
  },
  {
   "cell_type": "markdown",
   "metadata": {},
   "source": [
    "We observe that overall, all age classes have a distribution of unemployement similar. However, we note that for young and old workers, the gap between foreigners and swiss is more accentuated than for 25-49 years old workers. This might be due to the fact that people are more likely to 'receive/leave' a job when they are young or old."
   ]
  },
  {
   "cell_type": "markdown",
   "metadata": {
    "collapsed": true
   },
   "source": [
    "To illustrate this trend some more, we decided to visualize the unemployement rate among the age categories by cantons."
   ]
  },
  {
   "cell_type": "code",
   "execution_count": 32,
   "metadata": {
    "collapsed": false,
    "scrolled": false
   },
   "outputs": [
    {
     "name": "stderr",
     "output_type": "stream",
     "text": [
      "C:\\ProgramData\\Anaconda3\\lib\\site-packages\\pandas\\core\\indexing.py:141: SettingWithCopyWarning: \n",
      "A value is trying to be set on a copy of a slice from a DataFrame\n",
      "\n",
      "See the caveats in the documentation: http://pandas.pydata.org/pandas-docs/stable/indexing.html#indexing-view-versus-copy\n",
      "  self._setitem_with_indexer(indexer, value)\n"
     ]
    },
    {
     "data": {
      "text/html": [
       "<div>\n",
       "<table border=\"1\" class=\"dataframe\">\n",
       "  <thead>\n",
       "    <tr style=\"text-align: right;\">\n",
       "      <th></th>\n",
       "      <th>topo names</th>\n",
       "      <th>Age group name</th>\n",
       "      <th>Unemployed registered</th>\n",
       "      <th>Proportion of unemployed individuals</th>\n",
       "    </tr>\n",
       "    <tr>\n",
       "      <th>Canton</th>\n",
       "      <th></th>\n",
       "      <th></th>\n",
       "      <th></th>\n",
       "      <th></th>\n",
       "    </tr>\n",
       "  </thead>\n",
       "  <tbody>\n",
       "    <tr>\n",
       "      <th>Appenzell Rhodes-Extrieures</th>\n",
       "      <td>Appenzell Ausserrhoden</td>\n",
       "      <td>15-25</td>\n",
       "      <td>65</td>\n",
       "      <td>0.124283</td>\n",
       "    </tr>\n",
       "    <tr>\n",
       "      <th>Appenzell Rhodes-Extrieures</th>\n",
       "      <td>Appenzell Ausserrhoden</td>\n",
       "      <td>25-49</td>\n",
       "      <td>259</td>\n",
       "      <td>0.495220</td>\n",
       "    </tr>\n",
       "    <tr>\n",
       "      <th>Appenzell Rhodes-Extrieures</th>\n",
       "      <td>Appenzell Ausserrhoden</td>\n",
       "      <td>50+</td>\n",
       "      <td>199</td>\n",
       "      <td>0.380497</td>\n",
       "    </tr>\n",
       "    <tr>\n",
       "      <th>Appenzell Rhodes-Intrieures</th>\n",
       "      <td>Appenzell Innerrhoden</td>\n",
       "      <td>15-25</td>\n",
       "      <td>16</td>\n",
       "      <td>0.258065</td>\n",
       "    </tr>\n",
       "    <tr>\n",
       "      <th>Appenzell Rhodes-Intrieures</th>\n",
       "      <td>Appenzell Innerrhoden</td>\n",
       "      <td>25-49</td>\n",
       "      <td>24</td>\n",
       "      <td>0.387097</td>\n",
       "    </tr>\n",
       "  </tbody>\n",
       "</table>\n",
       "</div>"
      ],
      "text/plain": [
       "                                          topo names Age group name  \\\n",
       "Canton                                                                \n",
       "Appenzell Rhodes-Extrieures  Appenzell Ausserrhoden  15-25           \n",
       "Appenzell Rhodes-Extrieures  Appenzell Ausserrhoden  25-49           \n",
       "Appenzell Rhodes-Extrieures  Appenzell Ausserrhoden  50+             \n",
       "Appenzell Rhodes-Intrieures  Appenzell Innerrhoden   15-25           \n",
       "Appenzell Rhodes-Intrieures  Appenzell Innerrhoden   25-49           \n",
       "\n",
       "                              Unemployed registered  \\\n",
       "Canton                                                \n",
       "Appenzell Rhodes-Extrieures  65                      \n",
       "Appenzell Rhodes-Extrieures  259                     \n",
       "Appenzell Rhodes-Extrieures  199                     \n",
       "Appenzell Rhodes-Intrieures  16                      \n",
       "Appenzell Rhodes-Intrieures  24                      \n",
       "\n",
       "                              Proportion of unemployed individuals  \n",
       "Canton                                                              \n",
       "Appenzell Rhodes-Extrieures  0.124283                              \n",
       "Appenzell Rhodes-Extrieures  0.495220                              \n",
       "Appenzell Rhodes-Extrieures  0.380497                              \n",
       "Appenzell Rhodes-Intrieures  0.258065                              \n",
       "Appenzell Rhodes-Intrieures  0.387097                              "
      ]
     },
     "execution_count": 32,
     "metadata": {},
     "output_type": "execute_result"
    }
   ],
   "source": [
    "# Get rid of lines with total numbers in nationality\n",
    "df_ch_age_nat_no_total = df_ch_age_nat[df_ch_age_nat['Nationality']!='Total']\n",
    "df_ch_age_nat_no_total=df_ch_age_nat_no_total.drop('Total')\n",
    "\n",
    "# Find the names of every geometry figures\n",
    "canton_names = list(map(lambda x: x['properties']['name'], geo_json_data['objects']['cantons']['geometries']))\n",
    "new_canton_names = [[canton]*8 for canton in canton_names]\n",
    "new_canton_names = [item for sublist in new_canton_names for item in sublist]\n",
    "# Add names in the dataframes\n",
    "df_ch_age_nat_no_total['topo names'] = new_canton_names\n",
    "\n",
    "# Transform numbers to nuerical values\n",
    "df_ch_age_nat_no_total['Unemployed registered'] = pd.to_numeric(df_ch_age_nat_no_total['Unemployed registered'].str.replace('\\'', ''))\n",
    "\n",
    "# drop nationalities\n",
    "df_ch_age_nat_aggregated=df_ch_age_nat_no_total.drop('Nationality',axis=1)\n",
    "# Create a new age group name which includes the total\n",
    "new_age_group_name=df_ch_age_nat_aggregated['Age group name']\n",
    "new_age_group_name.loc[df_ch_age_nat_aggregated['Age group'] ==\"Total\"]='Total'\n",
    "df_ch_age_nat_aggregated['Age group name']=new_age_group_name\n",
    "# Drop the age group\n",
    "df_ch_age_nat_aggregated=df_ch_age_nat_aggregated.drop('Age group')\n",
    "# Aggregate per canton and age group name\n",
    "df_ch_age_nat_aggregated=df_ch_age_nat_aggregated.reset_index().set_index(['Canton','topo names','Age group name']).sum(level=[0,1,2])\n",
    "\n",
    "# Removing the totals in age group name and keeping them on a separate column\n",
    "df_ch_age_nat_aggregated=df_ch_age_nat_aggregated.reset_index().set_index('Canton')\n",
    "df_ch_age_nat_aggregated['Totals']=df_ch_age_nat_aggregated.reset_index().set_index(['Age group name','Canton']).loc['Total'].drop('topo names', axis=1)\n",
    "df_ch_age_nat_aggregated=df_ch_age_nat_aggregated[df_ch_age_nat_aggregated['Age group name']!='Total']\n",
    "\n",
    "# Building the percentage of the age group in unemployment\n",
    "df_ch_age_nat_aggregated['Proportion of unemployed individuals']=df_ch_age_nat_aggregated['Unemployed registered']/df_ch_age_nat_aggregated['Totals']\n",
    "df_ch_age_nat_aggregated=df_ch_age_nat_aggregated.drop('Totals',axis=1)\n",
    "df_ch_age_nat_aggregated.head()"
   ]
  },
  {
   "cell_type": "code",
   "execution_count": 33,
   "metadata": {
    "collapsed": false
   },
   "outputs": [],
   "source": [
    "threshold_scale=np.linspace(df_ch_age_nat_aggregated['Proportion of unemployed individuals'].min(),\n",
    "                            df_ch_age_nat_aggregated['Proportion of unemployed individuals'].max(), \n",
    "                            num=6).tolist()"
   ]
  },
  {
   "cell_type": "markdown",
   "metadata": {},
   "source": [
    "#### Map of unemployement for 15-25 years old individuals"
   ]
  },
  {
   "cell_type": "code",
   "execution_count": 34,
   "metadata": {
    "collapsed": false,
    "scrolled": false
   },
   "outputs": [
    {
     "data": {
      "text/html": [
       "<iframe src=./html/prportion_15_25.html width=900 height=700></iframe>"
      ],
      "text/plain": [
       "<IPython.core.display.HTML object>"
      ]
     },
     "metadata": {},
     "output_type": "display_data"
    }
   ],
   "source": [
    "df_ch_age_nat_aggregated_15_25=df_ch_age_nat_aggregated[df_ch_age_nat_aggregated['Age group name']=='15-25']\n",
    "\n",
    "m = folium.Map(location=ch_coord, tiles='cartoDB positron', zoom_start=8)\n",
    "m.choropleth(open(ch_canton), data=df_ch_age_nat_aggregated_15_25, columns=['topo names', 'Proportion of unemployed individuals'], \n",
    "             topojson='objects.cantons', name='Proportion of unemployed individuals 15-25',\n",
    "                  key_on=\"feature.properties.name\", fill_color='BuPu', legend_name='Proportion of unemployed individuals 15-25',\n",
    "            threshold_scale=threshold_scale)\n",
    "\n",
    "\n",
    "url_save = \"./html/prportion_15_25.html\"\n",
    "m.save(url_save)\n",
    "# m\n",
    "displaymap(url_save)"
   ]
  },
  {
   "cell_type": "markdown",
   "metadata": {},
   "source": [
    "As we can see, unemployed individuals aged between 15 to 25 do not represent the bulk of the unemployed people"
   ]
  },
  {
   "cell_type": "markdown",
   "metadata": {},
   "source": [
    "#### Map of unemployement for 25-49 years old individuals"
   ]
  },
  {
   "cell_type": "code",
   "execution_count": 35,
   "metadata": {
    "collapsed": false
   },
   "outputs": [
    {
     "data": {
      "text/html": [
       "<iframe src=./html/prportion_25_49.html width=900 height=700></iframe>"
      ],
      "text/plain": [
       "<IPython.core.display.HTML object>"
      ]
     },
     "metadata": {},
     "output_type": "display_data"
    }
   ],
   "source": [
    "df_ch_age_nat_aggregated_25_49=df_ch_age_nat_aggregated[df_ch_age_nat_aggregated['Age group name']=='25-49']\n",
    "\n",
    "m = folium.Map(location=ch_coord, tiles='cartoDB positron', zoom_start=8)\n",
    "m.choropleth(open(ch_canton), data=df_ch_age_nat_aggregated_25_49, columns=['topo names', 'Proportion of unemployed individuals'], \n",
    "             topojson='objects.cantons', name='Proportion of unemployed individuals 25_49',\n",
    "                  key_on=\"feature.properties.name\", fill_color='BuPu', legend_name='Proportion of unemployed individuals 25-49',\n",
    "            threshold_scale=threshold_scale)\n",
    "\n",
    "url_save = \"./html/prportion_25_49.html\"\n",
    "m.save(url_save)\n",
    "# m\n",
    "displaymap(url_save)"
   ]
  },
  {
   "cell_type": "markdown",
   "metadata": {},
   "source": [
    "Here, on the contrary, unemployed individuals aged between 49 to 50+  represent the bulk of the unemployed people"
   ]
  },
  {
   "cell_type": "markdown",
   "metadata": {},
   "source": [
    "#### Map of unemployed individuals 50+ years old "
   ]
  },
  {
   "cell_type": "code",
   "execution_count": 36,
   "metadata": {
    "collapsed": false
   },
   "outputs": [
    {
     "data": {
      "text/html": [
       "<iframe src=./html/prportion_50.html width=900 height=700></iframe>"
      ],
      "text/plain": [
       "<IPython.core.display.HTML object>"
      ]
     },
     "metadata": {},
     "output_type": "display_data"
    }
   ],
   "source": [
    "df_ch_age_nat_aggregated_50=df_ch_age_nat_aggregated[df_ch_age_nat_aggregated['Age group name']=='50+']\n",
    "\n",
    "m = folium.Map(location=ch_coord, tiles='cartoDB positron', zoom_start=8)\n",
    "m.choropleth(open(ch_canton), data=df_ch_age_nat_aggregated_50, columns=['topo names', 'Proportion of unemployed individuals'], \n",
    "             topojson='objects.cantons', name='Proportion of unemployed individuals 50+',\n",
    "                  key_on=\"feature.properties.name\", fill_color='BuPu', legend_name='Proportion of unemployed individuals 50+',\n",
    "            threshold_scale=threshold_scale)\n",
    "\n",
    "url_save = \"./html/prportion_50.html\"\n",
    "m.save(url_save)\n",
    "# m\n",
    "displaymap(url_save)"
   ]
  },
  {
   "cell_type": "markdown",
   "metadata": {},
   "source": [
    "Here, we can se that the proportion of unemployed people who are aged 50+ is higher than the youngest, but smaller than the middle aged individuals"
   ]
  }
 ],
 "metadata": {
  "anaconda-cloud": {},
  "kernelspec": {
   "display_name": "Python 3",
   "language": "python",
   "name": "python3"
  },
  "language_info": {
   "codemirror_mode": {
    "name": "ipython",
    "version": 3
   },
   "file_extension": ".py",
   "mimetype": "text/x-python",
   "name": "python",
   "nbconvert_exporter": "python",
   "pygments_lexer": "ipython3",
   "version": "3.6.0"
  }
 },
 "nbformat": 4,
 "nbformat_minor": 2
}
